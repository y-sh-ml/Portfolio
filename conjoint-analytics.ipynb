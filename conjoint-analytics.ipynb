{
 "cells": [
  {
   "cell_type": "markdown",
   "id": "7e86131f",
   "metadata": {
    "papermill": {
     "duration": 0.015738,
     "end_time": "2021-11-10T02:07:30.391814",
     "exception": false,
     "start_time": "2021-11-10T02:07:30.376076",
     "status": "completed"
    },
    "tags": []
   },
   "source": [
    "# Overview"
   ]
  },
  {
   "cell_type": "markdown",
   "id": "5f2d9035",
   "metadata": {
    "papermill": {
     "duration": 0.014209,
     "end_time": "2021-11-10T02:07:30.421100",
     "exception": false,
     "start_time": "2021-11-10T02:07:30.406891",
     "status": "completed"
    },
    "tags": []
   },
   "source": [
    "・コンジョイント分析とは、最適な商品コンセプトを決定するための多変量解析を使用した分析手法である<br>\n",
    "　商品全体の評価（全体効用値）をすることで、個々の要素の購買に影響する度合い（部分効用値）を算出することができる<br>\n",
    "\n",
    "　例えば、ユーザがPCを購入する際に、どの要素がどのくらい影響するのか（重要であるのか）を求めることができる"
   ]
  },
  {
   "cell_type": "markdown",
   "id": "c59156fe",
   "metadata": {
    "papermill": {
     "duration": 0.014234,
     "end_time": "2021-11-10T02:07:30.452027",
     "exception": false,
     "start_time": "2021-11-10T02:07:30.437793",
     "status": "completed"
    },
    "tags": []
   },
   "source": [
    "# Module"
   ]
  },
  {
   "cell_type": "code",
   "execution_count": 1,
   "id": "02ac2dfd",
   "metadata": {
    "execution": {
     "iopub.execute_input": "2021-11-10T02:07:30.485706Z",
     "iopub.status.busy": "2021-11-10T02:07:30.484547Z",
     "iopub.status.idle": "2021-11-10T02:07:32.394904Z",
     "shell.execute_reply": "2021-11-10T02:07:32.393711Z",
     "shell.execute_reply.started": "2021-11-10T01:49:23.515086Z"
    },
    "papermill": {
     "duration": 1.928528,
     "end_time": "2021-11-10T02:07:32.395084",
     "exception": false,
     "start_time": "2021-11-10T02:07:30.466556",
     "status": "completed"
    },
    "tags": []
   },
   "outputs": [],
   "source": [
    "import numpy as np\n",
    "import pandas as pd\n",
    "import seaborn as sns\n",
    "import matplotlib.pyplot as plt\n",
    "import statsmodels.api as sm"
   ]
  },
  {
   "cell_type": "markdown",
   "id": "26737d6a",
   "metadata": {
    "papermill": {
     "duration": 0.014104,
     "end_time": "2021-11-10T02:07:32.424039",
     "exception": false,
     "start_time": "2021-11-10T02:07:32.409935",
     "status": "completed"
    },
    "tags": []
   },
   "source": [
    "# Datasets"
   ]
  },
  {
   "cell_type": "markdown",
   "id": "09fa0b73",
   "metadata": {
    "execution": {
     "iopub.execute_input": "2021-11-10T00:56:50.076972Z",
     "iopub.status.busy": "2021-11-10T00:56:50.075015Z",
     "iopub.status.idle": "2021-11-10T00:56:50.085669Z",
     "shell.execute_reply": "2021-11-10T00:56:50.084293Z",
     "shell.execute_reply.started": "2021-11-10T00:56:50.076898Z"
    },
    "papermill": {
     "duration": 0.014469,
     "end_time": "2021-11-10T02:07:32.453252",
     "exception": false,
     "start_time": "2021-11-10T02:07:32.438783",
     "status": "completed"
    },
    "tags": []
   },
   "source": [
    "#### ・data：PCとスペックのデータ"
   ]
  },
  {
   "cell_type": "code",
   "execution_count": 2,
   "id": "25b23dd1",
   "metadata": {
    "execution": {
     "iopub.execute_input": "2021-11-10T02:07:32.496832Z",
     "iopub.status.busy": "2021-11-10T02:07:32.491192Z",
     "iopub.status.idle": "2021-11-10T02:07:32.508549Z",
     "shell.execute_reply": "2021-11-10T02:07:32.509080Z",
     "shell.execute_reply.started": "2021-11-10T01:49:23.522466Z"
    },
    "papermill": {
     "duration": 0.041649,
     "end_time": "2021-11-10T02:07:32.509312",
     "exception": false,
     "start_time": "2021-11-10T02:07:32.467663",
     "status": "completed"
    },
    "tags": []
   },
   "outputs": [
    {
     "data": {
      "text/html": [
       "<div>\n",
       "<style scoped>\n",
       "    .dataframe tbody tr th:only-of-type {\n",
       "        vertical-align: middle;\n",
       "    }\n",
       "\n",
       "    .dataframe tbody tr th {\n",
       "        vertical-align: top;\n",
       "    }\n",
       "\n",
       "    .dataframe thead th {\n",
       "        text-align: right;\n",
       "    }\n",
       "</style>\n",
       "<table border=\"1\" class=\"dataframe\">\n",
       "  <thead>\n",
       "    <tr style=\"text-align: right;\">\n",
       "      <th></th>\n",
       "      <th>ans_id</th>\n",
       "      <th>price</th>\n",
       "      <th>memory</th>\n",
       "      <th>storage</th>\n",
       "      <th>rating</th>\n",
       "    </tr>\n",
       "  </thead>\n",
       "  <tbody>\n",
       "    <tr>\n",
       "      <th>0</th>\n",
       "      <td>1</td>\n",
       "      <td>60000</td>\n",
       "      <td>4GB</td>\n",
       "      <td>128GB</td>\n",
       "      <td>3</td>\n",
       "    </tr>\n",
       "    <tr>\n",
       "      <th>1</th>\n",
       "      <td>1</td>\n",
       "      <td>60000</td>\n",
       "      <td>8GB</td>\n",
       "      <td>512GB</td>\n",
       "      <td>9</td>\n",
       "    </tr>\n",
       "    <tr>\n",
       "      <th>2</th>\n",
       "      <td>1</td>\n",
       "      <td>80000</td>\n",
       "      <td>4GB</td>\n",
       "      <td>512GB</td>\n",
       "      <td>5</td>\n",
       "    </tr>\n",
       "    <tr>\n",
       "      <th>3</th>\n",
       "      <td>1</td>\n",
       "      <td>80000</td>\n",
       "      <td>8GB</td>\n",
       "      <td>128GB</td>\n",
       "      <td>7</td>\n",
       "    </tr>\n",
       "    <tr>\n",
       "      <th>4</th>\n",
       "      <td>2</td>\n",
       "      <td>60000</td>\n",
       "      <td>4GB</td>\n",
       "      <td>128GB</td>\n",
       "      <td>4</td>\n",
       "    </tr>\n",
       "  </tbody>\n",
       "</table>\n",
       "</div>"
      ],
      "text/plain": [
       "   ans_id  price memory storage  rating\n",
       "0       1  60000    4GB   128GB       3\n",
       "1       1  60000    8GB   512GB       9\n",
       "2       1  80000    4GB   512GB       5\n",
       "3       1  80000    8GB   128GB       7\n",
       "4       2  60000    4GB   128GB       4"
      ]
     },
     "execution_count": 2,
     "metadata": {},
     "output_type": "execute_result"
    }
   ],
   "source": [
    "data = pd.DataFrame([[1, 60000, '4GB', '128GB', 3],\n",
    "                     [1, 60000, '8GB', '512GB', 9],\n",
    "                     [1, 80000, '4GB', '512GB', 5],\n",
    "                     [1, 80000, '8GB', '128GB', 7],\n",
    "                     [2, 60000, '4GB', '128GB', 4]],\n",
    "                    columns=['ans_id', 'price', 'memory', 'storage', 'rating'])\n",
    "data.head()"
   ]
  },
  {
   "cell_type": "code",
   "execution_count": 3,
   "id": "c3fc7783",
   "metadata": {
    "execution": {
     "iopub.execute_input": "2021-11-10T02:07:32.543690Z",
     "iopub.status.busy": "2021-11-10T02:07:32.542828Z",
     "iopub.status.idle": "2021-11-10T02:07:32.549716Z",
     "shell.execute_reply": "2021-11-10T02:07:32.550223Z",
     "shell.execute_reply.started": "2021-11-10T01:49:23.545374Z"
    },
    "papermill": {
     "duration": 0.025209,
     "end_time": "2021-11-10T02:07:32.550402",
     "exception": false,
     "start_time": "2021-11-10T02:07:32.525193",
     "status": "completed"
    },
    "tags": []
   },
   "outputs": [],
   "source": [
    "data.to_csv('conjoint_sample')"
   ]
  },
  {
   "cell_type": "markdown",
   "id": "4683b81a",
   "metadata": {
    "papermill": {
     "duration": 0.014996,
     "end_time": "2021-11-10T02:07:32.580881",
     "exception": false,
     "start_time": "2021-11-10T02:07:32.565885",
     "status": "completed"
    },
    "tags": []
   },
   "source": [
    "# Preprocess"
   ]
  },
  {
   "cell_type": "code",
   "execution_count": 4,
   "id": "8cc2c539",
   "metadata": {
    "execution": {
     "iopub.execute_input": "2021-11-10T02:07:32.615394Z",
     "iopub.status.busy": "2021-11-10T02:07:32.614649Z",
     "iopub.status.idle": "2021-11-10T02:07:32.626547Z",
     "shell.execute_reply": "2021-11-10T02:07:32.627130Z",
     "shell.execute_reply.started": "2021-11-10T01:49:23.557062Z"
    },
    "papermill": {
     "duration": 0.0311,
     "end_time": "2021-11-10T02:07:32.627296",
     "exception": false,
     "start_time": "2021-11-10T02:07:32.596196",
     "status": "completed"
    },
    "tags": []
   },
   "outputs": [],
   "source": [
    "X = data[[col for col in data.columns if col != 'rating']]\n",
    "y = data['rating']"
   ]
  },
  {
   "cell_type": "code",
   "execution_count": 5,
   "id": "5c916f86",
   "metadata": {
    "execution": {
     "iopub.execute_input": "2021-11-10T02:07:32.661649Z",
     "iopub.status.busy": "2021-11-10T02:07:32.661008Z",
     "iopub.status.idle": "2021-11-10T02:07:32.672366Z",
     "shell.execute_reply": "2021-11-10T02:07:32.672932Z",
     "shell.execute_reply.started": "2021-11-10T01:49:23.571697Z"
    },
    "papermill": {
     "duration": 0.029936,
     "end_time": "2021-11-10T02:07:32.673102",
     "exception": false,
     "start_time": "2021-11-10T02:07:32.643166",
     "status": "completed"
    },
    "tags": []
   },
   "outputs": [
    {
     "data": {
      "text/html": [
       "<div>\n",
       "<style scoped>\n",
       "    .dataframe tbody tr th:only-of-type {\n",
       "        vertical-align: middle;\n",
       "    }\n",
       "\n",
       "    .dataframe tbody tr th {\n",
       "        vertical-align: top;\n",
       "    }\n",
       "\n",
       "    .dataframe thead th {\n",
       "        text-align: right;\n",
       "    }\n",
       "</style>\n",
       "<table border=\"1\" class=\"dataframe\">\n",
       "  <thead>\n",
       "    <tr style=\"text-align: right;\">\n",
       "      <th></th>\n",
       "      <th>price</th>\n",
       "      <th>memory</th>\n",
       "      <th>storage</th>\n",
       "    </tr>\n",
       "  </thead>\n",
       "  <tbody>\n",
       "    <tr>\n",
       "      <th>0</th>\n",
       "      <td>60000</td>\n",
       "      <td>4GB</td>\n",
       "      <td>128GB</td>\n",
       "    </tr>\n",
       "    <tr>\n",
       "      <th>1</th>\n",
       "      <td>60000</td>\n",
       "      <td>8GB</td>\n",
       "      <td>512GB</td>\n",
       "    </tr>\n",
       "    <tr>\n",
       "      <th>2</th>\n",
       "      <td>80000</td>\n",
       "      <td>4GB</td>\n",
       "      <td>512GB</td>\n",
       "    </tr>\n",
       "    <tr>\n",
       "      <th>3</th>\n",
       "      <td>80000</td>\n",
       "      <td>8GB</td>\n",
       "      <td>128GB</td>\n",
       "    </tr>\n",
       "    <tr>\n",
       "      <th>4</th>\n",
       "      <td>60000</td>\n",
       "      <td>4GB</td>\n",
       "      <td>128GB</td>\n",
       "    </tr>\n",
       "  </tbody>\n",
       "</table>\n",
       "</div>"
      ],
      "text/plain": [
       "   price memory storage\n",
       "0  60000    4GB   128GB\n",
       "1  60000    8GB   512GB\n",
       "2  80000    4GB   512GB\n",
       "3  80000    8GB   128GB\n",
       "4  60000    4GB   128GB"
      ]
     },
     "execution_count": 5,
     "metadata": {},
     "output_type": "execute_result"
    }
   ],
   "source": [
    "X = X.drop('ans_id', axis=1)\n",
    "X.head()"
   ]
  },
  {
   "cell_type": "code",
   "execution_count": 6,
   "id": "4c57012c",
   "metadata": {
    "execution": {
     "iopub.execute_input": "2021-11-10T02:07:32.707640Z",
     "iopub.status.busy": "2021-11-10T02:07:32.707006Z",
     "iopub.status.idle": "2021-11-10T02:07:32.722334Z",
     "shell.execute_reply": "2021-11-10T02:07:32.723001Z",
     "shell.execute_reply.started": "2021-11-10T01:49:23.590312Z"
    },
    "papermill": {
     "duration": 0.034382,
     "end_time": "2021-11-10T02:07:32.723174",
     "exception": false,
     "start_time": "2021-11-10T02:07:32.688792",
     "status": "completed"
    },
    "tags": []
   },
   "outputs": [
    {
     "data": {
      "text/html": [
       "<div>\n",
       "<style scoped>\n",
       "    .dataframe tbody tr th:only-of-type {\n",
       "        vertical-align: middle;\n",
       "    }\n",
       "\n",
       "    .dataframe tbody tr th {\n",
       "        vertical-align: top;\n",
       "    }\n",
       "\n",
       "    .dataframe thead th {\n",
       "        text-align: right;\n",
       "    }\n",
       "</style>\n",
       "<table border=\"1\" class=\"dataframe\">\n",
       "  <thead>\n",
       "    <tr style=\"text-align: right;\">\n",
       "      <th></th>\n",
       "      <th>price_60000</th>\n",
       "      <th>price_80000</th>\n",
       "      <th>memory_4GB</th>\n",
       "      <th>memory_8GB</th>\n",
       "      <th>storage_128GB</th>\n",
       "      <th>storage_512GB</th>\n",
       "    </tr>\n",
       "  </thead>\n",
       "  <tbody>\n",
       "    <tr>\n",
       "      <th>0</th>\n",
       "      <td>1</td>\n",
       "      <td>0</td>\n",
       "      <td>1</td>\n",
       "      <td>0</td>\n",
       "      <td>1</td>\n",
       "      <td>0</td>\n",
       "    </tr>\n",
       "    <tr>\n",
       "      <th>1</th>\n",
       "      <td>1</td>\n",
       "      <td>0</td>\n",
       "      <td>0</td>\n",
       "      <td>1</td>\n",
       "      <td>0</td>\n",
       "      <td>1</td>\n",
       "    </tr>\n",
       "    <tr>\n",
       "      <th>2</th>\n",
       "      <td>0</td>\n",
       "      <td>1</td>\n",
       "      <td>1</td>\n",
       "      <td>0</td>\n",
       "      <td>0</td>\n",
       "      <td>1</td>\n",
       "    </tr>\n",
       "    <tr>\n",
       "      <th>3</th>\n",
       "      <td>0</td>\n",
       "      <td>1</td>\n",
       "      <td>0</td>\n",
       "      <td>1</td>\n",
       "      <td>1</td>\n",
       "      <td>0</td>\n",
       "    </tr>\n",
       "    <tr>\n",
       "      <th>4</th>\n",
       "      <td>1</td>\n",
       "      <td>0</td>\n",
       "      <td>1</td>\n",
       "      <td>0</td>\n",
       "      <td>1</td>\n",
       "      <td>0</td>\n",
       "    </tr>\n",
       "  </tbody>\n",
       "</table>\n",
       "</div>"
      ],
      "text/plain": [
       "   price_60000  price_80000  memory_4GB  memory_8GB  storage_128GB  \\\n",
       "0            1            0           1           0              1   \n",
       "1            1            0           0           1              0   \n",
       "2            0            1           1           0              0   \n",
       "3            0            1           0           1              1   \n",
       "4            1            0           1           0              1   \n",
       "\n",
       "   storage_512GB  \n",
       "0              0  \n",
       "1              1  \n",
       "2              1  \n",
       "3              0  \n",
       "4              0  "
      ]
     },
     "execution_count": 6,
     "metadata": {},
     "output_type": "execute_result"
    }
   ],
   "source": [
    "X_dum = pd.get_dummies(X, columns=X.columns)\n",
    "X_dum.head()"
   ]
  },
  {
   "cell_type": "markdown",
   "id": "b649bb4d",
   "metadata": {
    "papermill": {
     "duration": 0.016039,
     "end_time": "2021-11-10T02:07:32.755268",
     "exception": false,
     "start_time": "2021-11-10T02:07:32.739229",
     "status": "completed"
    },
    "tags": []
   },
   "source": [
    "# Modeling"
   ]
  },
  {
   "cell_type": "code",
   "execution_count": 7,
   "id": "48edfa1c",
   "metadata": {
    "execution": {
     "iopub.execute_input": "2021-11-10T02:07:32.791348Z",
     "iopub.status.busy": "2021-11-10T02:07:32.790604Z",
     "iopub.status.idle": "2021-11-10T02:07:32.833483Z",
     "shell.execute_reply": "2021-11-10T02:07:32.832828Z",
     "shell.execute_reply.started": "2021-11-10T01:49:23.613348Z"
    },
    "papermill": {
     "duration": 0.061995,
     "end_time": "2021-11-10T02:07:32.833632",
     "exception": false,
     "start_time": "2021-11-10T02:07:32.771637",
     "status": "completed"
    },
    "tags": []
   },
   "outputs": [
    {
     "name": "stderr",
     "output_type": "stream",
     "text": [
      "/opt/conda/lib/python3.7/site-packages/statsmodels/tsa/tsatools.py:142: FutureWarning: In a future version of pandas all arguments of concat except for the argument 'objs' will be keyword-only\n",
      "  x = pd.concat(x[::order], 1)\n",
      "/opt/conda/lib/python3.7/site-packages/statsmodels/stats/stattools.py:75: ValueWarning: omni_normtest is not valid with less than 8 observations; 5 samples were given.\n",
      "  \"samples were given.\" % int(n), ValueWarning)\n"
     ]
    },
    {
     "data": {
      "text/html": [
       "<table class=\"simpletable\">\n",
       "<caption>OLS Regression Results</caption>\n",
       "<tr>\n",
       "  <th>Dep. Variable:</th>         <td>rating</td>      <th>  R-squared:         </th> <td>   0.978</td>\n",
       "</tr>\n",
       "<tr>\n",
       "  <th>Model:</th>                   <td>OLS</td>       <th>  Adj. R-squared:    </th> <td>   0.914</td>\n",
       "</tr>\n",
       "<tr>\n",
       "  <th>Method:</th>             <td>Least Squares</td>  <th>  F-statistic:       </th> <td>   15.13</td>\n",
       "</tr>\n",
       "<tr>\n",
       "  <th>Date:</th>             <td>Wed, 10 Nov 2021</td> <th>  Prob (F-statistic):</th>  <td> 0.186</td> \n",
       "</tr>\n",
       "<tr>\n",
       "  <th>Time:</th>                 <td>02:07:32</td>     <th>  Log-Likelihood:    </th> <td> -1.3382</td>\n",
       "</tr>\n",
       "<tr>\n",
       "  <th>No. Observations:</th>      <td>     5</td>      <th>  AIC:               </th> <td>   10.68</td>\n",
       "</tr>\n",
       "<tr>\n",
       "  <th>Df Residuals:</th>          <td>     1</td>      <th>  BIC:               </th> <td>   9.114</td>\n",
       "</tr>\n",
       "<tr>\n",
       "  <th>Df Model:</th>              <td>     3</td>      <th>                     </th>     <td> </td>   \n",
       "</tr>\n",
       "<tr>\n",
       "  <th>Covariance Type:</th>      <td>nonrobust</td>    <th>                     </th>     <td> </td>   \n",
       "</tr>\n",
       "</table>\n",
       "<table class=\"simpletable\">\n",
       "<tr>\n",
       "        <td></td>           <th>coef</th>     <th>std err</th>      <th>t</th>      <th>P>|t|</th>  <th>[0.025</th>    <th>0.975]</th>  \n",
       "</tr>\n",
       "<tr>\n",
       "  <th>const</th>         <td>    2.4500</td> <td>    0.132</td> <td>   18.520</td> <td> 0.034</td> <td>    0.769</td> <td>    4.131</td>\n",
       "</tr>\n",
       "<tr>\n",
       "  <th>price_60000</th>   <td>    1.3500</td> <td>    0.328</td> <td>    4.117</td> <td> 0.152</td> <td>   -2.816</td> <td>    5.516</td>\n",
       "</tr>\n",
       "<tr>\n",
       "  <th>price_80000</th>   <td>    1.1000</td> <td>    0.346</td> <td>    3.175</td> <td> 0.194</td> <td>   -3.302</td> <td>    5.502</td>\n",
       "</tr>\n",
       "<tr>\n",
       "  <th>memory_4GB</th>    <td>   -0.6500</td> <td>    0.328</td> <td>   -1.982</td> <td> 0.297</td> <td>   -4.816</td> <td>    3.516</td>\n",
       "</tr>\n",
       "<tr>\n",
       "  <th>memory_8GB</th>    <td>    3.1000</td> <td>    0.346</td> <td>    8.949</td> <td> 0.071</td> <td>   -1.302</td> <td>    7.502</td>\n",
       "</tr>\n",
       "<tr>\n",
       "  <th>storage_128GB</th> <td>    0.3500</td> <td>    0.328</td> <td>    1.067</td> <td> 0.479</td> <td>   -3.816</td> <td>    4.516</td>\n",
       "</tr>\n",
       "<tr>\n",
       "  <th>storage_512GB</th> <td>    2.1000</td> <td>    0.346</td> <td>    6.062</td> <td> 0.104</td> <td>   -2.302</td> <td>    6.502</td>\n",
       "</tr>\n",
       "</table>\n",
       "<table class=\"simpletable\">\n",
       "<tr>\n",
       "  <th>Omnibus:</th>       <td>   nan</td> <th>  Durbin-Watson:     </th> <td>   1.000</td>\n",
       "</tr>\n",
       "<tr>\n",
       "  <th>Prob(Omnibus):</th> <td>   nan</td> <th>  Jarque-Bera (JB):  </th> <td>   0.052</td>\n",
       "</tr>\n",
       "<tr>\n",
       "  <th>Skew:</th>          <td>-0.000</td> <th>  Prob(JB):          </th> <td>   0.974</td>\n",
       "</tr>\n",
       "<tr>\n",
       "  <th>Kurtosis:</th>      <td> 2.500</td> <th>  Cond. No.          </th> <td>2.06e+16</td>\n",
       "</tr>\n",
       "</table><br/><br/>Notes:<br/>[1] Standard Errors assume that the covariance matrix of the errors is correctly specified.<br/>[2] The input rank is higher than the number of observations.<br/>[3] The smallest eigenvalue is 3.05e-32. This might indicate that there are<br/>strong multicollinearity problems or that the design matrix is singular."
      ],
      "text/plain": [
       "<class 'statsmodels.iolib.summary.Summary'>\n",
       "\"\"\"\n",
       "                            OLS Regression Results                            \n",
       "==============================================================================\n",
       "Dep. Variable:                 rating   R-squared:                       0.978\n",
       "Model:                            OLS   Adj. R-squared:                  0.914\n",
       "Method:                 Least Squares   F-statistic:                     15.13\n",
       "Date:                Wed, 10 Nov 2021   Prob (F-statistic):              0.186\n",
       "Time:                        02:07:32   Log-Likelihood:                -1.3382\n",
       "No. Observations:                   5   AIC:                             10.68\n",
       "Df Residuals:                       1   BIC:                             9.114\n",
       "Df Model:                           3                                         \n",
       "Covariance Type:            nonrobust                                         \n",
       "=================================================================================\n",
       "                    coef    std err          t      P>|t|      [0.025      0.975]\n",
       "---------------------------------------------------------------------------------\n",
       "const             2.4500      0.132     18.520      0.034       0.769       4.131\n",
       "price_60000       1.3500      0.328      4.117      0.152      -2.816       5.516\n",
       "price_80000       1.1000      0.346      3.175      0.194      -3.302       5.502\n",
       "memory_4GB       -0.6500      0.328     -1.982      0.297      -4.816       3.516\n",
       "memory_8GB        3.1000      0.346      8.949      0.071      -1.302       7.502\n",
       "storage_128GB     0.3500      0.328      1.067      0.479      -3.816       4.516\n",
       "storage_512GB     2.1000      0.346      6.062      0.104      -2.302       6.502\n",
       "==============================================================================\n",
       "Omnibus:                          nan   Durbin-Watson:                   1.000\n",
       "Prob(Omnibus):                    nan   Jarque-Bera (JB):                0.052\n",
       "Skew:                          -0.000   Prob(JB):                        0.974\n",
       "Kurtosis:                       2.500   Cond. No.                     2.06e+16\n",
       "==============================================================================\n",
       "\n",
       "Notes:\n",
       "[1] Standard Errors assume that the covariance matrix of the errors is correctly specified.\n",
       "[2] The input rank is higher than the number of observations.\n",
       "[3] The smallest eigenvalue is 3.05e-32. This might indicate that there are\n",
       "strong multicollinearity problems or that the design matrix is singular.\n",
       "\"\"\""
      ]
     },
     "execution_count": 7,
     "metadata": {},
     "output_type": "execute_result"
    }
   ],
   "source": [
    "model = sm.OLS(y, sm.add_constant(X_dum))\n",
    "result = model.fit()\n",
    "result.summary()"
   ]
  },
  {
   "cell_type": "markdown",
   "id": "17a430ae",
   "metadata": {
    "papermill": {
     "duration": 0.016654,
     "end_time": "2021-11-10T02:07:32.867472",
     "exception": false,
     "start_time": "2021-11-10T02:07:32.850818",
     "status": "completed"
    },
    "tags": []
   },
   "source": [
    "・coef：目的変数（評価）に対する偏回帰係数<br>\n",
    "・P>|t|：P値、有意水準を下回れば、その説明変数が目的変数（評価）に影響を及ぼす要素であると判断できる\n",
    "\n",
    "・重要な要素だけを抜き取り、下記にまとめる"
   ]
  },
  {
   "cell_type": "code",
   "execution_count": 8,
   "id": "d901ec19",
   "metadata": {
    "execution": {
     "iopub.execute_input": "2021-11-10T02:07:32.907141Z",
     "iopub.status.busy": "2021-11-10T02:07:32.906129Z",
     "iopub.status.idle": "2021-11-10T02:07:32.919814Z",
     "shell.execute_reply": "2021-11-10T02:07:32.920415Z",
     "shell.execute_reply.started": "2021-11-10T01:49:23.644506Z"
    },
    "papermill": {
     "duration": 0.034638,
     "end_time": "2021-11-10T02:07:32.920587",
     "exception": false,
     "start_time": "2021-11-10T02:07:32.885949",
     "status": "completed"
    },
    "tags": []
   },
   "outputs": [
    {
     "data": {
      "text/html": [
       "<div>\n",
       "<style scoped>\n",
       "    .dataframe tbody tr th:only-of-type {\n",
       "        vertical-align: middle;\n",
       "    }\n",
       "\n",
       "    .dataframe tbody tr th {\n",
       "        vertical-align: top;\n",
       "    }\n",
       "\n",
       "    .dataframe thead th {\n",
       "        text-align: right;\n",
       "    }\n",
       "</style>\n",
       "<table border=\"1\" class=\"dataframe\">\n",
       "  <thead>\n",
       "    <tr style=\"text-align: right;\">\n",
       "      <th></th>\n",
       "      <th>name</th>\n",
       "      <th>weight</th>\n",
       "      <th>p_val</th>\n",
       "    </tr>\n",
       "  </thead>\n",
       "  <tbody>\n",
       "    <tr>\n",
       "      <th>price_60000</th>\n",
       "      <td>price_60000</td>\n",
       "      <td>1.35</td>\n",
       "      <td>0.151678</td>\n",
       "    </tr>\n",
       "    <tr>\n",
       "      <th>price_80000</th>\n",
       "      <td>price_80000</td>\n",
       "      <td>1.10</td>\n",
       "      <td>0.194224</td>\n",
       "    </tr>\n",
       "    <tr>\n",
       "      <th>memory_4GB</th>\n",
       "      <td>memory_4GB</td>\n",
       "      <td>-0.65</td>\n",
       "      <td>0.297414</td>\n",
       "    </tr>\n",
       "    <tr>\n",
       "      <th>memory_8GB</th>\n",
       "      <td>memory_8GB</td>\n",
       "      <td>3.10</td>\n",
       "      <td>0.070845</td>\n",
       "    </tr>\n",
       "    <tr>\n",
       "      <th>storage_128GB</th>\n",
       "      <td>storage_128GB</td>\n",
       "      <td>0.35</td>\n",
       "      <td>0.479226</td>\n",
       "    </tr>\n",
       "    <tr>\n",
       "      <th>storage_512GB</th>\n",
       "      <td>storage_512GB</td>\n",
       "      <td>2.10</td>\n",
       "      <td>0.104078</td>\n",
       "    </tr>\n",
       "  </tbody>\n",
       "</table>\n",
       "</div>"
      ],
      "text/plain": [
       "                        name  weight     p_val\n",
       "price_60000      price_60000    1.35  0.151678\n",
       "price_80000      price_80000    1.10  0.194224\n",
       "memory_4GB        memory_4GB   -0.65  0.297414\n",
       "memory_8GB        memory_8GB    3.10  0.070845\n",
       "storage_128GB  storage_128GB    0.35  0.479226\n",
       "storage_512GB  storage_512GB    2.10  0.104078"
      ]
     },
     "execution_count": 8,
     "metadata": {},
     "output_type": "execute_result"
    }
   ],
   "source": [
    "data_res = pd.DataFrame({'name': result.params.keys(),\n",
    "                         'weight': result.params.values,\n",
    "                         'p_val': result.pvalues})\n",
    "data_res = data_res[1:]\n",
    "data_res"
   ]
  },
  {
   "cell_type": "markdown",
   "id": "8f0d9ecb",
   "metadata": {
    "papermill": {
     "duration": 0.017691,
     "end_time": "2021-11-10T02:07:32.955769",
     "exception": false,
     "start_time": "2021-11-10T02:07:32.938078",
     "status": "completed"
    },
    "tags": []
   },
   "source": [
    "・有意水準を5%とすると、全ての要素が統計的に有意でないことが分かる"
   ]
  },
  {
   "cell_type": "code",
   "execution_count": 9,
   "id": "94cd290f",
   "metadata": {
    "execution": {
     "iopub.execute_input": "2021-11-10T02:07:32.995671Z",
     "iopub.status.busy": "2021-11-10T02:07:32.994607Z",
     "iopub.status.idle": "2021-11-10T02:07:33.009540Z",
     "shell.execute_reply": "2021-11-10T02:07:33.010379Z",
     "shell.execute_reply.started": "2021-11-10T01:49:23.660784Z"
    },
    "papermill": {
     "duration": 0.036745,
     "end_time": "2021-11-10T02:07:33.010571",
     "exception": false,
     "start_time": "2021-11-10T02:07:32.973826",
     "status": "completed"
    },
    "tags": []
   },
   "outputs": [
    {
     "data": {
      "text/html": [
       "<div>\n",
       "<style scoped>\n",
       "    .dataframe tbody tr th:only-of-type {\n",
       "        vertical-align: middle;\n",
       "    }\n",
       "\n",
       "    .dataframe tbody tr th {\n",
       "        vertical-align: top;\n",
       "    }\n",
       "\n",
       "    .dataframe thead th {\n",
       "        text-align: right;\n",
       "    }\n",
       "</style>\n",
       "<table border=\"1\" class=\"dataframe\">\n",
       "  <thead>\n",
       "    <tr style=\"text-align: right;\">\n",
       "      <th></th>\n",
       "      <th>name</th>\n",
       "      <th>weight</th>\n",
       "      <th>p_val</th>\n",
       "      <th>abs_weight</th>\n",
       "    </tr>\n",
       "  </thead>\n",
       "  <tbody>\n",
       "    <tr>\n",
       "      <th>storage_128GB</th>\n",
       "      <td>storage_128GB</td>\n",
       "      <td>0.35</td>\n",
       "      <td>0.479226</td>\n",
       "      <td>0.35</td>\n",
       "    </tr>\n",
       "    <tr>\n",
       "      <th>memory_4GB</th>\n",
       "      <td>memory_4GB</td>\n",
       "      <td>-0.65</td>\n",
       "      <td>0.297414</td>\n",
       "      <td>0.65</td>\n",
       "    </tr>\n",
       "    <tr>\n",
       "      <th>price_80000</th>\n",
       "      <td>price_80000</td>\n",
       "      <td>1.10</td>\n",
       "      <td>0.194224</td>\n",
       "      <td>1.10</td>\n",
       "    </tr>\n",
       "    <tr>\n",
       "      <th>price_60000</th>\n",
       "      <td>price_60000</td>\n",
       "      <td>1.35</td>\n",
       "      <td>0.151678</td>\n",
       "      <td>1.35</td>\n",
       "    </tr>\n",
       "    <tr>\n",
       "      <th>storage_512GB</th>\n",
       "      <td>storage_512GB</td>\n",
       "      <td>2.10</td>\n",
       "      <td>0.104078</td>\n",
       "      <td>2.10</td>\n",
       "    </tr>\n",
       "    <tr>\n",
       "      <th>memory_8GB</th>\n",
       "      <td>memory_8GB</td>\n",
       "      <td>3.10</td>\n",
       "      <td>0.070845</td>\n",
       "      <td>3.10</td>\n",
       "    </tr>\n",
       "  </tbody>\n",
       "</table>\n",
       "</div>"
      ],
      "text/plain": [
       "                        name  weight     p_val  abs_weight\n",
       "storage_128GB  storage_128GB    0.35  0.479226        0.35\n",
       "memory_4GB        memory_4GB   -0.65  0.297414        0.65\n",
       "price_80000      price_80000    1.10  0.194224        1.10\n",
       "price_60000      price_60000    1.35  0.151678        1.35\n",
       "storage_512GB  storage_512GB    2.10  0.104078        2.10\n",
       "memory_8GB        memory_8GB    3.10  0.070845        3.10"
      ]
     },
     "execution_count": 9,
     "metadata": {},
     "output_type": "execute_result"
    }
   ],
   "source": [
    "data_res['abs_weight'] = np.abs(data_res['weight'])\n",
    "data_res = data_res.sort_values(by='abs_weight')\n",
    "data_res"
   ]
  },
  {
   "cell_type": "code",
   "execution_count": 10,
   "id": "43000316",
   "metadata": {
    "execution": {
     "iopub.execute_input": "2021-11-10T02:07:33.051913Z",
     "iopub.status.busy": "2021-11-10T02:07:33.050872Z",
     "iopub.status.idle": "2021-11-10T02:07:33.055718Z",
     "shell.execute_reply": "2021-11-10T02:07:33.056303Z",
     "shell.execute_reply.started": "2021-11-10T01:49:23.679414Z"
    },
    "papermill": {
     "duration": 0.027056,
     "end_time": "2021-11-10T02:07:33.056481",
     "exception": false,
     "start_time": "2021-11-10T02:07:33.029425",
     "status": "completed"
    },
    "tags": []
   },
   "outputs": [],
   "source": [
    "sns.set()"
   ]
  },
  {
   "cell_type": "code",
   "execution_count": 11,
   "id": "63fc70c1",
   "metadata": {
    "execution": {
     "iopub.execute_input": "2021-11-10T02:07:33.105035Z",
     "iopub.status.busy": "2021-11-10T02:07:33.103728Z",
     "iopub.status.idle": "2021-11-10T02:07:33.375813Z",
     "shell.execute_reply": "2021-11-10T02:07:33.374951Z",
     "shell.execute_reply.started": "2021-11-10T02:02:45.127040Z"
    },
    "papermill": {
     "duration": 0.301456,
     "end_time": "2021-11-10T02:07:33.376007",
     "exception": false,
     "start_time": "2021-11-10T02:07:33.074551",
     "status": "completed"
    },
    "tags": []
   },
   "outputs": [
    {
     "data": {
      "image/png": "[encoded data removed]",
      "text/plain": [
       "<Figure size 432x288 with 1 Axes>"
      ]
     },
     "metadata": {},
     "output_type": "display_data"
    }
   ],
   "source": [
    "xbar = np.arange(len(data_res['weight']))\n",
    "plt.barh(xbar, data_res['abs_weight'])\n",
    "plt.yticks(xbar, labels=data_res['name'])\n",
    "plt.xlabel('weight')\n",
    "plt.show()"
   ]
  },
  {
   "cell_type": "markdown",
   "id": "07c01414",
   "metadata": {
    "execution": {
     "iopub.execute_input": "2021-11-10T01:50:52.179118Z",
     "iopub.status.busy": "2021-11-10T01:50:52.178758Z",
     "iopub.status.idle": "2021-11-10T01:50:52.185298Z",
     "shell.execute_reply": "2021-11-10T01:50:52.184462Z",
     "shell.execute_reply.started": "2021-11-10T01:50:52.179083Z"
    },
    "papermill": {
     "duration": 0.018545,
     "end_time": "2021-11-10T02:07:33.413747",
     "exception": false,
     "start_time": "2021-11-10T02:07:33.395202",
     "status": "completed"
    },
    "tags": []
   },
   "source": [
    "・評価に対して、最も寄与度が高いのがメモリ、次にストレージであると判断できる"
   ]
  }
 ],
 "metadata": {
  "kernelspec": {
   "display_name": "Python 3",
   "language": "python",
   "name": "python3"
  },
  "language_info": {
   "codemirror_mode": {
    "name": "ipython",
    "version": 3
   },
   "file_extension": ".py",
   "mimetype": "text/x-python",
   "name": "python",
   "nbconvert_exporter": "python",
   "pygments_lexer": "ipython3",
   "version": "3.7.10"
  },
  "papermill": {
   "default_parameters": {},
   "duration": 13.879609,
   "end_time": "2021-11-10T02:07:34.143366",
   "environment_variables": {},
   "exception": null,
   "input_path": "__notebook__.ipynb",
   "output_path": "__notebook__.ipynb",
   "parameters": {},
   "start_time": "2021-11-10T02:07:20.263757",
   "version": "2.3.3"
  }
 },
 "nbformat": 4,
 "nbformat_minor": 5
}
