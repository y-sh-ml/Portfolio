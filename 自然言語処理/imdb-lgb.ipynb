{
 "cells": [
  {
   "cell_type": "markdown",
   "id": "f8fba088",
   "metadata": {
    "_cell_guid": "b1076dfc-b9ad-4769-8c92-a6c4dae69d19",
    "_uuid": "8f2839f25d086af736a60e9eeb907d3b93b6e0e5",
    "papermill": {
     "duration": 0.042031,
     "end_time": "2021-10-04T01:20:09.647488",
     "exception": false,
     "start_time": "2021-10-04T01:20:09.605457",
     "status": "completed"
    },
    "tags": []
   },
   "source": [
    "# 自然言語処理 ー 感情分析"
   ]
  },
  {
   "cell_type": "markdown",
   "id": "a8ba45ad",
   "metadata": {
    "papermill": {
     "duration": 0.042008,
     "end_time": "2021-10-04T01:20:09.731887",
     "exception": false,
     "start_time": "2021-10-04T01:20:09.689879",
     "status": "completed"
    },
    "tags": []
   },
   "source": [
    "## 1.　自然言語処理の7ステップ"
   ]
  },
  {
   "cell_type": "markdown",
   "id": "e32d2682",
   "metadata": {
    "papermill": {
     "duration": 0.040677,
     "end_time": "2021-10-04T01:20:09.814357",
     "exception": false,
     "start_time": "2021-10-04T01:20:09.773680",
     "status": "completed"
    },
    "tags": []
   },
   "source": [
    "#### ① 自然言語（文章）を用意\n",
    "　吾輩は猫である。"
   ]
  },
  {
   "cell_type": "markdown",
   "id": "9921dab8",
   "metadata": {
    "papermill": {
     "duration": 0.040458,
     "end_time": "2021-10-04T01:20:09.895317",
     "exception": false,
     "start_time": "2021-10-04T01:20:09.854859",
     "status": "completed"
    },
    "tags": []
   },
   "source": [
    "#### ② 単語ごとに区切る（形態素解析）\n",
    "　吾輩　／　は　／　猫　／　で　／　ある　／　。"
   ]
  },
  {
   "cell_type": "markdown",
   "id": "824a1a1f",
   "metadata": {
    "papermill": {
     "duration": 0.040349,
     "end_time": "2021-10-04T01:20:09.975995",
     "exception": false,
     "start_time": "2021-10-04T01:20:09.935646",
     "status": "completed"
    },
    "tags": []
   },
   "source": [
    "#### ③ 助詞「てにをは」などを削除する（データのクレンジング）\n",
    "　吾輩　／　猫　　　※それ以外は削除"
   ]
  },
  {
   "cell_type": "markdown",
   "id": "5945aeff",
   "metadata": {
    "papermill": {
     "duration": 0.040237,
     "end_time": "2021-10-04T01:20:10.057224",
     "exception": false,
     "start_time": "2021-10-04T01:20:10.016987",
     "status": "completed"
    },
    "tags": []
   },
   "source": [
    "#### ④ 単語を原形（running→run など）に戻す（トークン化）\n",
    "　今回はなし"
   ]
  },
  {
   "cell_type": "markdown",
   "id": "a0acd142",
   "metadata": {
    "papermill": {
     "duration": 0.039788,
     "end_time": "2021-10-04T01:20:10.137382",
     "exception": false,
     "start_time": "2021-10-04T01:20:10.097594",
     "status": "completed"
    },
    "tags": []
   },
   "source": [
    "#### ⑤ 各単語の頻出度を求める（BoW）\n",
    "　吾輩：１　猫：1"
   ]
  },
  {
   "cell_type": "markdown",
   "id": "3f2929f6",
   "metadata": {
    "papermill": {
     "duration": 0.040526,
     "end_time": "2021-10-04T01:20:10.217752",
     "exception": false,
     "start_time": "2021-10-04T01:20:10.177226",
     "status": "completed"
    },
    "tags": []
   },
   "source": [
    "#### ⑥ 各単語の重要度（TF-IDF）を調べ、特徴語を決める\n",
    "　吾輩：0.3　、猫：0.56　　　→　特徴語は「猫」"
   ]
  },
  {
   "cell_type": "markdown",
   "id": "8b98ac9e",
   "metadata": {
    "papermill": {
     "duration": 0.048499,
     "end_time": "2021-10-04T01:20:10.329416",
     "exception": false,
     "start_time": "2021-10-04T01:20:10.280917",
     "status": "completed"
    },
    "tags": []
   },
   "source": [
    "#### ⑦ 他の文章との区別（分類）を行う\n",
    "　夏目漱石「吾輩は猫である」の特徴語：猫<br>\n",
    " 　森鴎外「舞姫」の特徴語：姫\n",
    "  \n",
    "　どちらかの小説の一文を投入する　→　この小説は「夏目漱石」の小説です"
   ]
  },
  {
   "cell_type": "markdown",
   "id": "840c623a",
   "metadata": {
    "papermill": {
     "duration": 0.039736,
     "end_time": "2021-10-04T01:20:10.408982",
     "exception": false,
     "start_time": "2021-10-04T01:20:10.369246",
     "status": "completed"
    },
    "tags": []
   },
   "source": [
    "## 2.　IMDbデータセットの取得<br>"
   ]
  },
  {
   "cell_type": "markdown",
   "id": "ab856411",
   "metadata": {
    "papermill": {
     "duration": 0.04656,
     "end_time": "2021-10-04T01:20:10.512440",
     "exception": false,
     "start_time": "2021-10-04T01:20:10.465880",
     "status": "completed"
    },
    "tags": []
   },
   "source": [
    "今回は、以下のデータセットを使用する。\n",
    "\n",
    "・[IMDb](http://ai.stanford.edu/~amaas/data/sentiment/)：映画レビューのデータセット"
   ]
  },
  {
   "cell_type": "code",
   "execution_count": 1,
   "id": "1475ed74",
   "metadata": {
    "_kg_hide-input": false,
    "execution": {
     "iopub.execute_input": "2021-10-04T01:20:10.619620Z",
     "iopub.status.busy": "2021-10-04T01:20:10.618980Z",
     "iopub.status.idle": "2021-10-04T01:20:14.256027Z",
     "shell.execute_reply": "2021-10-04T01:20:14.254977Z",
     "shell.execute_reply.started": "2021-09-29T05:37:54.18889Z"
    },
    "papermill": {
     "duration": 3.689922,
     "end_time": "2021-10-04T01:20:14.256197",
     "exception": false,
     "start_time": "2021-10-04T01:20:10.566275",
     "status": "completed"
    },
    "tags": []
   },
   "outputs": [
    {
     "data": {
      "text/html": [
       "<style type='text/css'>\n",
       ".datatable table.frame { margin-bottom: 0; }\n",
       ".datatable table.frame thead { border-bottom: none; }\n",
       ".datatable table.frame tr.coltypes td {  color: #FFFFFF;  line-height: 6px;  padding: 0 0.5em;}\n",
       ".datatable .bool    { background: #DDDD99; }\n",
       ".datatable .object  { background: #565656; }\n",
       ".datatable .int     { background: #5D9E5D; }\n",
       ".datatable .float   { background: #4040CC; }\n",
       ".datatable .str     { background: #CC4040; }\n",
       ".datatable .time    { background: #40CC40; }\n",
       ".datatable .row_index {  background: var(--jp-border-color3);  border-right: 1px solid var(--jp-border-color0);  color: var(--jp-ui-font-color3);  font-size: 9px;}\n",
       ".datatable .frame tbody td { text-align: left; }\n",
       ".datatable .frame tr.coltypes .row_index {  background: var(--jp-border-color0);}\n",
       ".datatable th:nth-child(2) { padding-left: 12px; }\n",
       ".datatable .hellipsis {  color: var(--jp-cell-editor-border-color);}\n",
       ".datatable .vellipsis {  background: var(--jp-layout-color0);  color: var(--jp-cell-editor-border-color);}\n",
       ".datatable .na {  color: var(--jp-cell-editor-border-color);  font-size: 80%;}\n",
       ".datatable .sp {  opacity: 0.25;}\n",
       ".datatable .footer { font-size: 9px; }\n",
       ".datatable .frame_dimensions {  background: var(--jp-border-color3);  border-top: 1px solid var(--jp-border-color0);  color: var(--jp-ui-font-color3);  display: inline-block;  opacity: 0.6;  padding: 1px 10px 1px 5px;}\n",
       "</style>\n"
      ],
      "text/plain": [
       "<IPython.core.display.HTML object>"
      ]
     },
     "metadata": {},
     "output_type": "display_data"
    }
   ],
   "source": [
    "import os\n",
    "import re\n",
    "import sys\n",
    "import time\n",
    "import nltk\n",
    "import optuna\n",
    "import pyprind\n",
    "import numpy as np\n",
    "import pandas as pd\n",
    "import lightgbm as lgb\n",
    "\n",
    "from sklearn.model_selection import train_test_split\n",
    "from sklearn.feature_extraction.text import CountVectorizer\n",
    "from sklearn.feature_extraction.text import TfidfTransformer\n",
    "from nltk import word_tokenize\n",
    "from nltk.corpus import stopwords\n",
    "from nltk.stem.porter import PorterStemmer\n",
    "from sklearn.pipeline import Pipeline\n",
    "from sklearn.linear_model import LogisticRegression\n",
    "from sklearn.feature_extraction.text import TfidfVectorizer\n",
    "from sklearn.model_selection import GridSearchCV\n",
    "from sklearn.metrics import accuracy_score"
   ]
  },
  {
   "cell_type": "code",
   "execution_count": 2,
   "id": "240a3307",
   "metadata": {
    "execution": {
     "iopub.execute_input": "2021-10-04T01:20:14.346238Z",
     "iopub.status.busy": "2021-10-04T01:20:14.345289Z",
     "iopub.status.idle": "2021-10-04T01:20:14.348290Z",
     "shell.execute_reply": "2021-10-04T01:20:14.347819Z",
     "shell.execute_reply.started": "2021-09-29T05:37:57.644188Z"
    },
    "papermill": {
     "duration": 0.049081,
     "end_time": "2021-10-04T01:20:14.348404",
     "exception": false,
     "start_time": "2021-10-04T01:20:14.299323",
     "status": "completed"
    },
    "tags": []
   },
   "outputs": [],
   "source": [
    "pd.set_option(\"display.max_colwidth\", 150)"
   ]
  },
  {
   "cell_type": "code",
   "execution_count": 3,
   "id": "5f5ba59c",
   "metadata": {
    "execution": {
     "iopub.execute_input": "2021-10-04T01:20:14.432998Z",
     "iopub.status.busy": "2021-10-04T01:20:14.432413Z",
     "iopub.status.idle": "2021-10-04T01:20:15.820637Z",
     "shell.execute_reply": "2021-10-04T01:20:15.820059Z",
     "shell.execute_reply.started": "2021-09-29T05:37:57.651734Z"
    },
    "papermill": {
     "duration": 1.431611,
     "end_time": "2021-10-04T01:20:15.820771",
     "exception": false,
     "start_time": "2021-10-04T01:20:14.389160",
     "status": "completed"
    },
    "tags": []
   },
   "outputs": [
    {
     "name": "stdout",
     "output_type": "stream",
     "text": [
      "(50000, 2)\n"
     ]
    },
    {
     "data": {
      "text/html": [
       "<div>\n",
       "<style scoped>\n",
       "    .dataframe tbody tr th:only-of-type {\n",
       "        vertical-align: middle;\n",
       "    }\n",
       "\n",
       "    .dataframe tbody tr th {\n",
       "        vertical-align: top;\n",
       "    }\n",
       "\n",
       "    .dataframe thead th {\n",
       "        text-align: right;\n",
       "    }\n",
       "</style>\n",
       "<table border=\"1\" class=\"dataframe\">\n",
       "  <thead>\n",
       "    <tr style=\"text-align: right;\">\n",
       "      <th></th>\n",
       "      <th>review</th>\n",
       "      <th>sentiment</th>\n",
       "    </tr>\n",
       "  </thead>\n",
       "  <tbody>\n",
       "    <tr>\n",
       "      <th>0</th>\n",
       "      <td>In 1974, the teenager Martha Moxley (Maggie Grace) moves to the high-class area of Belle Haven, Greenwich, Connecticut. On the Mischief Night, eve...</td>\n",
       "      <td>1</td>\n",
       "    </tr>\n",
       "    <tr>\n",
       "      <th>1</th>\n",
       "      <td>OK... so... I really like Kris Kristofferson and his usual easy going delivery of lines in his movies. Age has helped him with his soft spoken low...</td>\n",
       "      <td>0</td>\n",
       "    </tr>\n",
       "    <tr>\n",
       "      <th>2</th>\n",
       "      <td>***SPOILER*** Do not read this, if you think about watching that movie, although it would be a waste of time. (By the way: The plot is so predicta...</td>\n",
       "      <td>0</td>\n",
       "    </tr>\n",
       "    <tr>\n",
       "      <th>3</th>\n",
       "      <td>hi for all the people who have seen this wonderful movie im sure thet you would have liked it as much as i. i love the songs once you have seen th...</td>\n",
       "      <td>1</td>\n",
       "    </tr>\n",
       "    <tr>\n",
       "      <th>4</th>\n",
       "      <td>I recently bought the DVD, forgetting just how much I hated the movie version of \"A Chorus Line.\" Every change the director Attenborough made to t...</td>\n",
       "      <td>0</td>\n",
       "    </tr>\n",
       "    <tr>\n",
       "      <th>5</th>\n",
       "      <td>Leave it to Braik to put on a good show. Finally he and Zorak are living their own lives outside of Spac Ghost Coast To Coast. I have to say that ...</td>\n",
       "      <td>1</td>\n",
       "    </tr>\n",
       "    <tr>\n",
       "      <th>6</th>\n",
       "      <td>Nathan Detroit (Frank Sinatra) is the manager of the New York's longest- established floating craps game, and he needs $1000 to secure a new locat...</td>\n",
       "      <td>1</td>\n",
       "    </tr>\n",
       "    <tr>\n",
       "      <th>7</th>\n",
       "      <td>To understand \"Crash Course\" in the right context, you must understand the 80's in TV. Most TV shows didn't have any point. The sitcom outpopulate...</td>\n",
       "      <td>1</td>\n",
       "    </tr>\n",
       "    <tr>\n",
       "      <th>8</th>\n",
       "      <td>I've been impressed with Chavez's stance against globalisation for sometime now, but it wasn't until I saw the film at the Amsterdam documentary i...</td>\n",
       "      <td>1</td>\n",
       "    </tr>\n",
       "    <tr>\n",
       "      <th>9</th>\n",
       "      <td>This movie is directed by Renny Harlin the finnish miracle. Stallone is Gabe Walker. Cat and Mouse on the mountains with ruthless terrorists. Renn...</td>\n",
       "      <td>1</td>\n",
       "    </tr>\n",
       "  </tbody>\n",
       "</table>\n",
       "</div>"
      ],
      "text/plain": [
       "                                                                                                                                                  review  \\\n",
       "0  In 1974, the teenager Martha Moxley (Maggie Grace) moves to the high-class area of Belle Haven, Greenwich, Connecticut. On the Mischief Night, eve...   \n",
       "1  OK... so... I really like Kris Kristofferson and his usual easy going delivery of lines in his movies. Age has helped him with his soft spoken low...   \n",
       "2  ***SPOILER*** Do not read this, if you think about watching that movie, although it would be a waste of time. (By the way: The plot is so predicta...   \n",
       "3  hi for all the people who have seen this wonderful movie im sure thet you would have liked it as much as i. i love the songs once you have seen th...   \n",
       "4  I recently bought the DVD, forgetting just how much I hated the movie version of \"A Chorus Line.\" Every change the director Attenborough made to t...   \n",
       "5  Leave it to Braik to put on a good show. Finally he and Zorak are living their own lives outside of Spac Ghost Coast To Coast. I have to say that ...   \n",
       "6  Nathan Detroit (Frank Sinatra) is the manager of the New York's longest- established floating craps game, and he needs $1000 to secure a new locat...   \n",
       "7  To understand \"Crash Course\" in the right context, you must understand the 80's in TV. Most TV shows didn't have any point. The sitcom outpopulate...   \n",
       "8  I've been impressed with Chavez's stance against globalisation for sometime now, but it wasn't until I saw the film at the Amsterdam documentary i...   \n",
       "9  This movie is directed by Renny Harlin the finnish miracle. Stallone is Gabe Walker. Cat and Mouse on the mountains with ruthless terrorists. Renn...   \n",
       "\n",
       "   sentiment  \n",
       "0          1  \n",
       "1          0  \n",
       "2          0  \n",
       "3          1  \n",
       "4          0  \n",
       "5          1  \n",
       "6          1  \n",
       "7          1  \n",
       "8          1  \n",
       "9          1  "
      ]
     },
     "execution_count": 3,
     "metadata": {},
     "output_type": "execute_result"
    }
   ],
   "source": [
    "df = pd.read_csv('../input/movie-datacsv/movie_data.csv')\n",
    "\n",
    "print(df.shape)\n",
    "df.head(10)"
   ]
  },
  {
   "cell_type": "code",
   "execution_count": 4,
   "id": "3588a3f1",
   "metadata": {
    "execution": {
     "iopub.execute_input": "2021-10-04T01:20:15.911729Z",
     "iopub.status.busy": "2021-10-04T01:20:15.911152Z",
     "iopub.status.idle": "2021-10-04T01:20:15.916013Z",
     "shell.execute_reply": "2021-10-04T01:20:15.915621Z",
     "shell.execute_reply.started": "2021-09-29T05:37:59.118717Z"
    },
    "papermill": {
     "duration": 0.053633,
     "end_time": "2021-10-04T01:20:15.916117",
     "exception": false,
     "start_time": "2021-10-04T01:20:15.862484",
     "status": "completed"
    },
    "tags": []
   },
   "outputs": [
    {
     "data": {
      "text/html": [
       "<div>\n",
       "<style scoped>\n",
       "    .dataframe tbody tr th:only-of-type {\n",
       "        vertical-align: middle;\n",
       "    }\n",
       "\n",
       "    .dataframe tbody tr th {\n",
       "        vertical-align: top;\n",
       "    }\n",
       "\n",
       "    .dataframe thead th {\n",
       "        text-align: right;\n",
       "    }\n",
       "</style>\n",
       "<table border=\"1\" class=\"dataframe\">\n",
       "  <thead>\n",
       "    <tr style=\"text-align: right;\">\n",
       "      <th></th>\n",
       "      <th>カラム</th>\n",
       "      <th>意味</th>\n",
       "    </tr>\n",
       "  </thead>\n",
       "  <tbody>\n",
       "    <tr>\n",
       "      <th>0</th>\n",
       "      <td>review</td>\n",
       "      <td>映画の感想文</td>\n",
       "    </tr>\n",
       "    <tr>\n",
       "      <th>1</th>\n",
       "      <td>sentiment</td>\n",
       "      <td>感情（0：マイナス、1：プラス）</td>\n",
       "    </tr>\n",
       "  </tbody>\n",
       "</table>\n",
       "</div>"
      ],
      "text/plain": [
       "         カラム                意味\n",
       "0     review            映画の感想文\n",
       "1  sentiment  感情（0：マイナス、1：プラス）"
      ]
     },
     "execution_count": 4,
     "metadata": {},
     "output_type": "execute_result"
    }
   ],
   "source": [
    "pd.DataFrame([['review', '映画の感想文'],\n",
    "              ['sentiment', '感情（0：マイナス、1：プラス）']],\n",
    "              columns=['カラム', '意味'])"
   ]
  },
  {
   "cell_type": "markdown",
   "id": "467ab11e",
   "metadata": {
    "papermill": {
     "duration": 0.041575,
     "end_time": "2021-10-04T01:20:16.000061",
     "exception": false,
     "start_time": "2021-10-04T01:20:15.958486",
     "status": "completed"
    },
    "tags": []
   },
   "source": [
    "## 3.　BoWベクトル"
   ]
  },
  {
   "cell_type": "markdown",
   "id": "e5b53404",
   "metadata": {
    "papermill": {
     "duration": 0.041902,
     "end_time": "2021-10-04T01:20:16.084004",
     "exception": false,
     "start_time": "2021-10-04T01:20:16.042102",
     "status": "completed"
    },
    "tags": []
   },
   "source": [
    "文を数値化（ベクトル化）する方法として、**Bag of Words（BOW）**がある。"
   ]
  },
  {
   "cell_type": "markdown",
   "id": "76fce0e9",
   "metadata": {
    "papermill": {
     "duration": 0.041175,
     "end_time": "2021-10-04T01:20:16.166524",
     "exception": false,
     "start_time": "2021-10-04T01:20:16.125349",
     "status": "completed"
    },
    "tags": []
   },
   "source": [
    "### 3.1　単語を特徴ベクトルに変換する"
   ]
  },
  {
   "cell_type": "code",
   "execution_count": 5,
   "id": "5fd3203b",
   "metadata": {
    "execution": {
     "iopub.execute_input": "2021-10-04T01:20:16.253907Z",
     "iopub.status.busy": "2021-10-04T01:20:16.253364Z",
     "iopub.status.idle": "2021-10-04T01:20:16.256989Z",
     "shell.execute_reply": "2021-10-04T01:20:16.257359Z",
     "shell.execute_reply.started": "2021-09-21T04:10:41.148724Z"
    },
    "papermill": {
     "duration": 0.048912,
     "end_time": "2021-10-04T01:20:16.257486",
     "exception": false,
     "start_time": "2021-10-04T01:20:16.208574",
     "status": "completed"
    },
    "tags": []
   },
   "outputs": [],
   "source": [
    "docs = np.array(['The sun is shining',\n",
    "                 'The weather is sweet',\n",
    "                 'The sun is shining, the weather is sweet, and one and one is two'])"
   ]
  },
  {
   "cell_type": "markdown",
   "id": "c9050878",
   "metadata": {
    "execution": {
     "iopub.execute_input": "2021-07-30T11:18:04.164292Z",
     "iopub.status.busy": "2021-07-30T11:18:04.16365Z",
     "iopub.status.idle": "2021-07-30T11:18:04.174157Z",
     "shell.execute_reply": "2021-07-30T11:18:04.171547Z",
     "shell.execute_reply.started": "2021-07-30T11:18:04.164237Z"
    },
    "papermill": {
     "duration": 0.043019,
     "end_time": "2021-10-04T01:20:16.342639",
     "exception": false,
     "start_time": "2021-10-04T01:20:16.299620",
     "status": "completed"
    },
    "tags": []
   },
   "source": [
    "scikit-learnに実装されているCountVectorizer()で、BoWベクトルをカウントする。"
   ]
  },
  {
   "cell_type": "code",
   "execution_count": 6,
   "id": "cccd7f28",
   "metadata": {
    "execution": {
     "iopub.execute_input": "2021-10-04T01:20:16.435589Z",
     "iopub.status.busy": "2021-10-04T01:20:16.434830Z",
     "iopub.status.idle": "2021-10-04T01:20:16.437467Z",
     "shell.execute_reply": "2021-10-04T01:20:16.437073Z",
     "shell.execute_reply.started": "2021-09-21T04:10:41.155746Z"
    },
    "papermill": {
     "duration": 0.052057,
     "end_time": "2021-10-04T01:20:16.437586",
     "exception": false,
     "start_time": "2021-10-04T01:20:16.385529",
     "status": "completed"
    },
    "tags": []
   },
   "outputs": [],
   "source": [
    "count = CountVectorizer()\n",
    "bag = count.fit_transform(docs)"
   ]
  },
  {
   "cell_type": "markdown",
   "id": "7d21f303",
   "metadata": {
    "papermill": {
     "duration": 0.04113,
     "end_time": "2021-10-04T01:20:16.519939",
     "exception": false,
     "start_time": "2021-10-04T01:20:16.478809",
     "status": "completed"
    },
    "tags": []
   },
   "source": [
    "上記によって、次の3つの文章におけるBoWモデルが構築された。<br>\n",
    "ここで、各単語に番号（インデックス）を付け、それぞれ確認をする。"
   ]
  },
  {
   "cell_type": "code",
   "execution_count": 7,
   "id": "f160172a",
   "metadata": {
    "execution": {
     "iopub.execute_input": "2021-10-04T01:20:16.606673Z",
     "iopub.status.busy": "2021-10-04T01:20:16.606136Z",
     "iopub.status.idle": "2021-10-04T01:20:16.610913Z",
     "shell.execute_reply": "2021-10-04T01:20:16.611504Z",
     "shell.execute_reply.started": "2021-09-21T04:10:41.166159Z"
    },
    "papermill": {
     "duration": 0.05009,
     "end_time": "2021-10-04T01:20:16.611681",
     "exception": false,
     "start_time": "2021-10-04T01:20:16.561591",
     "status": "completed"
    },
    "tags": []
   },
   "outputs": [
    {
     "name": "stdout",
     "output_type": "stream",
     "text": [
      "単語:インデックス {'the': 6, 'sun': 4, 'is': 1, 'shining': 3, 'weather': 8, 'sweet': 5, 'and': 0, 'one': 2, 'two': 7}\n"
     ]
    }
   ],
   "source": [
    "print('単語:インデックス', count.vocabulary_)"
   ]
  },
  {
   "cell_type": "markdown",
   "id": "6b524295",
   "metadata": {
    "papermill": {
     "duration": 0.04146,
     "end_time": "2021-10-04T01:20:16.695113",
     "exception": false,
     "start_time": "2021-10-04T01:20:16.653653",
     "status": "completed"
    },
    "tags": []
   },
   "source": [
    "3文目の「the」の頻出度を調べてみる。<br>\n",
    "0から数えるとインデックスは2となり、最後には単語を入れる。"
   ]
  },
  {
   "cell_type": "code",
   "execution_count": 8,
   "id": "f264e57b",
   "metadata": {
    "execution": {
     "iopub.execute_input": "2021-10-04T01:20:16.782647Z",
     "iopub.status.busy": "2021-10-04T01:20:16.782081Z",
     "iopub.status.idle": "2021-10-04T01:20:16.786904Z",
     "shell.execute_reply": "2021-10-04T01:20:16.786467Z",
     "shell.execute_reply.started": "2021-09-21T04:10:41.174913Z"
    },
    "papermill": {
     "duration": 0.050138,
     "end_time": "2021-10-04T01:20:16.787005",
     "exception": false,
     "start_time": "2021-10-04T01:20:16.736867",
     "status": "completed"
    },
    "tags": []
   },
   "outputs": [
    {
     "name": "stdout",
     "output_type": "stream",
     "text": [
      "頻出度： 2\n"
     ]
    }
   ],
   "source": [
    "print('頻出度：', bag.toarray()[2][count.vocabulary_['the']])"
   ]
  },
  {
   "cell_type": "markdown",
   "id": "406dba71",
   "metadata": {
    "execution": {
     "iopub.execute_input": "2021-07-30T11:19:54.864599Z",
     "iopub.status.busy": "2021-07-30T11:19:54.863996Z",
     "iopub.status.idle": "2021-07-30T11:19:54.873052Z",
     "shell.execute_reply": "2021-07-30T11:19:54.871126Z",
     "shell.execute_reply.started": "2021-07-30T11:19:54.864555Z"
    },
    "papermill": {
     "duration": 0.041867,
     "end_time": "2021-10-04T01:20:16.871382",
     "exception": false,
     "start_time": "2021-10-04T01:20:16.829515",
     "status": "completed"
    },
    "tags": []
   },
   "source": [
    "次に、特徴ベクトルを出力する。"
   ]
  },
  {
   "cell_type": "code",
   "execution_count": 9,
   "id": "6bcb06d7",
   "metadata": {
    "execution": {
     "iopub.execute_input": "2021-10-04T01:20:16.963882Z",
     "iopub.status.busy": "2021-10-04T01:20:16.963248Z",
     "iopub.status.idle": "2021-10-04T01:20:16.968176Z",
     "shell.execute_reply": "2021-10-04T01:20:16.968531Z",
     "shell.execute_reply.started": "2021-09-21T04:10:41.183327Z"
    },
    "papermill": {
     "duration": 0.055091,
     "end_time": "2021-10-04T01:20:16.968723",
     "exception": false,
     "start_time": "2021-10-04T01:20:16.913632",
     "status": "completed"
    },
    "tags": []
   },
   "outputs": [
    {
     "data": {
      "text/html": [
       "<div>\n",
       "<style scoped>\n",
       "    .dataframe tbody tr th:only-of-type {\n",
       "        vertical-align: middle;\n",
       "    }\n",
       "\n",
       "    .dataframe tbody tr th {\n",
       "        vertical-align: top;\n",
       "    }\n",
       "\n",
       "    .dataframe thead th {\n",
       "        text-align: right;\n",
       "    }\n",
       "</style>\n",
       "<table border=\"1\" class=\"dataframe\">\n",
       "  <thead>\n",
       "    <tr style=\"text-align: right;\">\n",
       "      <th></th>\n",
       "      <th>0</th>\n",
       "      <th>1</th>\n",
       "      <th>2</th>\n",
       "      <th>3</th>\n",
       "      <th>4</th>\n",
       "      <th>5</th>\n",
       "      <th>6</th>\n",
       "      <th>7</th>\n",
       "      <th>8</th>\n",
       "    </tr>\n",
       "  </thead>\n",
       "  <tbody>\n",
       "    <tr>\n",
       "      <th>0</th>\n",
       "      <td>0</td>\n",
       "      <td>1</td>\n",
       "      <td>0</td>\n",
       "      <td>1</td>\n",
       "      <td>1</td>\n",
       "      <td>0</td>\n",
       "      <td>1</td>\n",
       "      <td>0</td>\n",
       "      <td>0</td>\n",
       "    </tr>\n",
       "    <tr>\n",
       "      <th>1</th>\n",
       "      <td>0</td>\n",
       "      <td>1</td>\n",
       "      <td>0</td>\n",
       "      <td>0</td>\n",
       "      <td>0</td>\n",
       "      <td>1</td>\n",
       "      <td>1</td>\n",
       "      <td>0</td>\n",
       "      <td>1</td>\n",
       "    </tr>\n",
       "    <tr>\n",
       "      <th>2</th>\n",
       "      <td>2</td>\n",
       "      <td>3</td>\n",
       "      <td>2</td>\n",
       "      <td>1</td>\n",
       "      <td>1</td>\n",
       "      <td>1</td>\n",
       "      <td>2</td>\n",
       "      <td>1</td>\n",
       "      <td>1</td>\n",
       "    </tr>\n",
       "  </tbody>\n",
       "</table>\n",
       "</div>"
      ],
      "text/plain": [
       "   0  1  2  3  4  5  6  7  8\n",
       "0  0  1  0  1  1  0  1  0  0\n",
       "1  0  1  0  0  0  1  1  0  1\n",
       "2  2  3  2  1  1  1  2  1  1"
      ]
     },
     "execution_count": 9,
     "metadata": {},
     "output_type": "execute_result"
    }
   ],
   "source": [
    "pd.DataFrame(bag.toarray())"
   ]
  },
  {
   "cell_type": "markdown",
   "id": "0ede2835",
   "metadata": {
    "papermill": {
     "duration": 0.042175,
     "end_time": "2021-10-04T01:20:17.053498",
     "exception": false,
     "start_time": "2021-10-04T01:20:17.011323",
     "status": "completed"
    },
    "tags": []
   },
   "source": [
    "行は1～3文目、列は各単語のインデックス番号を前提に表示されている。<br>\n",
    "分かりやすいように、表示し直す。"
   ]
  },
  {
   "cell_type": "code",
   "execution_count": 10,
   "id": "280a59db",
   "metadata": {
    "execution": {
     "iopub.execute_input": "2021-10-04T01:20:17.149885Z",
     "iopub.status.busy": "2021-10-04T01:20:17.149251Z",
     "iopub.status.idle": "2021-10-04T01:20:17.154741Z",
     "shell.execute_reply": "2021-10-04T01:20:17.154244Z",
     "shell.execute_reply.started": "2021-09-21T04:10:41.199459Z"
    },
    "papermill": {
     "duration": 0.058801,
     "end_time": "2021-10-04T01:20:17.154848",
     "exception": false,
     "start_time": "2021-10-04T01:20:17.096047",
     "status": "completed"
    },
    "tags": []
   },
   "outputs": [
    {
     "data": {
      "text/html": [
       "<div>\n",
       "<style scoped>\n",
       "    .dataframe tbody tr th:only-of-type {\n",
       "        vertical-align: middle;\n",
       "    }\n",
       "\n",
       "    .dataframe tbody tr th {\n",
       "        vertical-align: top;\n",
       "    }\n",
       "\n",
       "    .dataframe thead th {\n",
       "        text-align: right;\n",
       "    }\n",
       "</style>\n",
       "<table border=\"1\" class=\"dataframe\">\n",
       "  <thead>\n",
       "    <tr style=\"text-align: right;\">\n",
       "      <th></th>\n",
       "      <th>and</th>\n",
       "      <th>is</th>\n",
       "      <th>one</th>\n",
       "      <th>shining</th>\n",
       "      <th>sun</th>\n",
       "      <th>sweet</th>\n",
       "      <th>the</th>\n",
       "      <th>two</th>\n",
       "      <th>weather</th>\n",
       "    </tr>\n",
       "  </thead>\n",
       "  <tbody>\n",
       "    <tr>\n",
       "      <th>The sun is shining</th>\n",
       "      <td>0</td>\n",
       "      <td>1</td>\n",
       "      <td>0</td>\n",
       "      <td>1</td>\n",
       "      <td>1</td>\n",
       "      <td>0</td>\n",
       "      <td>1</td>\n",
       "      <td>0</td>\n",
       "      <td>0</td>\n",
       "    </tr>\n",
       "    <tr>\n",
       "      <th>The weather is sweet</th>\n",
       "      <td>0</td>\n",
       "      <td>1</td>\n",
       "      <td>0</td>\n",
       "      <td>0</td>\n",
       "      <td>0</td>\n",
       "      <td>1</td>\n",
       "      <td>1</td>\n",
       "      <td>0</td>\n",
       "      <td>1</td>\n",
       "    </tr>\n",
       "    <tr>\n",
       "      <th>The sun is shining, the weather is sweet, and one and one is two</th>\n",
       "      <td>2</td>\n",
       "      <td>3</td>\n",
       "      <td>2</td>\n",
       "      <td>1</td>\n",
       "      <td>1</td>\n",
       "      <td>1</td>\n",
       "      <td>2</td>\n",
       "      <td>1</td>\n",
       "      <td>1</td>\n",
       "    </tr>\n",
       "  </tbody>\n",
       "</table>\n",
       "</div>"
      ],
      "text/plain": [
       "                                                                  and  is  \\\n",
       "The sun is shining                                                  0   1   \n",
       "The weather is sweet                                                0   1   \n",
       "The sun is shining, the weather is sweet, and one and one is two    2   3   \n",
       "\n",
       "                                                                  one  \\\n",
       "The sun is shining                                                  0   \n",
       "The weather is sweet                                                0   \n",
       "The sun is shining, the weather is sweet, and one and one is two    2   \n",
       "\n",
       "                                                                  shining  \\\n",
       "The sun is shining                                                      1   \n",
       "The weather is sweet                                                    0   \n",
       "The sun is shining, the weather is sweet, and one and one is two        1   \n",
       "\n",
       "                                                                  sun  sweet  \\\n",
       "The sun is shining                                                  1      0   \n",
       "The weather is sweet                                                0      1   \n",
       "The sun is shining, the weather is sweet, and one and one is two    1      1   \n",
       "\n",
       "                                                                  the  two  \\\n",
       "The sun is shining                                                  1    0   \n",
       "The weather is sweet                                                1    0   \n",
       "The sun is shining, the weather is sweet, and one and one is two    2    1   \n",
       "\n",
       "                                                                  weather  \n",
       "The sun is shining                                                      0  \n",
       "The weather is sweet                                                    1  \n",
       "The sun is shining, the weather is sweet, and one and one is two        1  "
      ]
     },
     "execution_count": 10,
     "metadata": {},
     "output_type": "execute_result"
    }
   ],
   "source": [
    "pd.DataFrame(bag.toarray(),\n",
    "             index=['The sun is shining',\n",
    "                    'The weather is sweet',\n",
    "                    'The sun is shining, the weather is sweet, and one and one is two'],\n",
    "             columns=['and', 'is', 'one', 'shining', 'sun', 'sweet', 'the', 'two', 'weather'])"
   ]
  },
  {
   "cell_type": "markdown",
   "id": "85e4adf9",
   "metadata": {
    "papermill": {
     "duration": 0.042823,
     "end_time": "2021-10-04T01:20:17.240818",
     "exception": false,
     "start_time": "2021-10-04T01:20:17.197995",
     "status": "completed"
    },
    "tags": []
   },
   "source": [
    "## 4.　TF-IDFを使って単語の関連性を評価する"
   ]
  },
  {
   "cell_type": "markdown",
   "id": "e8067728",
   "metadata": {
    "papermill": {
     "duration": 0.043528,
     "end_time": "2021-10-04T01:20:17.327163",
     "exception": false,
     "start_time": "2021-10-04T01:20:17.283635",
     "status": "completed"
    },
    "tags": []
   },
   "source": [
    "$\\rm{TF}$：対象の単語が、ある文書中にどれだけの頻度で出現しているか（頻度）<br>\n",
    "$\\rm{IDF}$：対象の単語が含まれる文が、文章全体にどれだけの頻度で出現していないか（珍しさ）<br>\n",
    "$\\rm{TF-IDF}$：Term Frequency – Inverse Document Frequency の略（重みづけの指標）"
   ]
  },
  {
   "cell_type": "markdown",
   "id": "4818dce0",
   "metadata": {
    "papermill": {
     "duration": 0.04247,
     "end_time": "2021-10-04T01:20:17.413058",
     "exception": false,
     "start_time": "2021-10-04T01:20:17.370588",
     "status": "completed"
    },
    "tags": []
   },
   "source": [
    "例えば、小説一冊が、下記で構成されているとする。\n",
    "\n",
    "・$D$ 個の文<br>\n",
    "・$N$ 個の単語\n",
    "\n",
    "小説に単語 $x$ が $n$ 回現れるならば\n",
    "$$\\begin{eqnarray}\n",
    "{\\rm TF}=\\frac{n}{N}\n",
    "\\end{eqnarray}$$\n",
    "小説に単語 $x$ を含む文が $d$ 個あるならば\n",
    "$$\\begin{eqnarray}\n",
    "{\\rm IDF}=-\\log_{10}\\frac{d}{D}=\\log_{10}\\frac{D}{d}\n",
    "\\end{eqnarray}$$\n",
    "よって、次のように求まる。\n",
    "$$\\begin{eqnarray}\n",
    "{\\rm TF-IDF}=\\frac{n}{N}\\log_{10}\\frac{D}{d}\n",
    "\\end{eqnarray}$$"
   ]
  },
  {
   "cell_type": "markdown",
   "id": "6167b685",
   "metadata": {
    "papermill": {
     "duration": 0.042803,
     "end_time": "2021-10-04T01:20:17.498666",
     "exception": false,
     "start_time": "2021-10-04T01:20:17.455863",
     "status": "completed"
    },
    "tags": []
   },
   "source": [
    "例題\n",
    "\n",
    "太宰治の作品「一歩前進二歩退却」から一部を抜粋したものである。<br>\n",
    "「作家」という単語のTF-IDFを求めなさい。\n",
    "\n",
    "-----\n",
    "\n",
    "　作家は、いよいよ窮屈である。何せ、眼光紙背に徹する読者ばかりを<br>\n",
    "相手にしているのだから、うっかりできない。あんまり緊張して、ついには<br>\n",
    "机のまえに端座したまま、そのまま、沈黙は金、という格言を底知れず肯定している。<br>\n",
    "そんなあわれな作家さえ出て来ぬともかぎらない。<br>\n",
    "　謙譲を、作家のみ要求し、作家は大いに恐縮し、卑屈なほどへりくだって<br>\n",
    "そうして読者は旦那である。作家の私生活、底の底まで剥ごうとする。<br>\n",
    "失敗である。安売りにしていいのは作品である。作家の人間までを売ってはいない。<br>\n",
    "謙譲は、読者にこそ之を要求したい。\n",
    "\n",
    "-----\n",
    "\n",
    "下記をカウントした。<br>\n",
    "<br>\n",
    "単語数 $N$：150<br>\n",
    "単語の種類：48<br>\n",
    "文数 $D$：10\n",
    "\n",
    "次に「作家」という単語 $x$ に着目する。\n",
    "\n",
    "出現回数 $n$：6<br>\n",
    "含まれる文数 $d$：5\n",
    "\n",
    "よって、次のように求まる。<br>\n",
    "\n",
    "$$\\begin{eqnarray}\n",
    "{\\rm TF}=\\frac{n}{N}=\\frac{6}{150}=0.04\n",
    "\\end{eqnarray}$$\n",
    "\n",
    "$$\\begin{eqnarray}\n",
    "{\\rm IDF}=\\log_{10}\\frac{D}{d}=\\log_{10}\\frac{10}{5}=0.301\n",
    "\\end{eqnarray}$$\n",
    "\n",
    "$$\\begin{eqnarray}\n",
    "{\\rm TF-IDF}=0.0120\n",
    "\\end{eqnarray}$$<br>\n",
    "<br>\n",
    "実際の自然言語処理では、これを48種類の単語すべてに行っていく。"
   ]
  },
  {
   "cell_type": "markdown",
   "id": "5d47b304",
   "metadata": {
    "papermill": {
     "duration": 0.042817,
     "end_time": "2021-10-04T01:20:17.584279",
     "exception": false,
     "start_time": "2021-10-04T01:20:17.541462",
     "status": "completed"
    },
    "tags": []
   },
   "source": [
    "### 4.1　scikit-learnでTF-IDFを実装する"
   ]
  },
  {
   "cell_type": "markdown",
   "id": "6fc526ab",
   "metadata": {
    "papermill": {
     "duration": 0.042663,
     "end_time": "2021-10-04T01:20:17.669859",
     "exception": false,
     "start_time": "2021-10-04T01:20:17.627196",
     "status": "completed"
    },
    "tags": []
   },
   "source": [
    "scikit-learnには、TfidTransformerという関数が実装されている。<br>\n",
    "これは、fit_transformメソッドのCountVectorizerから「生の単語の出現頻度」を入力として受け取り、TF-IDFに変換する。"
   ]
  },
  {
   "cell_type": "code",
   "execution_count": 11,
   "id": "70400548",
   "metadata": {
    "execution": {
     "iopub.execute_input": "2021-10-04T01:20:17.774579Z",
     "iopub.status.busy": "2021-10-04T01:20:17.774050Z",
     "iopub.status.idle": "2021-10-04T01:20:17.778741Z",
     "shell.execute_reply": "2021-10-04T01:20:17.778318Z",
     "shell.execute_reply.started": "2021-09-21T04:10:41.216271Z"
    },
    "papermill": {
     "duration": 0.06626,
     "end_time": "2021-10-04T01:20:17.778869",
     "exception": false,
     "start_time": "2021-10-04T01:20:17.712609",
     "status": "completed"
    },
    "tags": []
   },
   "outputs": [
    {
     "data": {
      "text/html": [
       "<div>\n",
       "<style scoped>\n",
       "    .dataframe tbody tr th:only-of-type {\n",
       "        vertical-align: middle;\n",
       "    }\n",
       "\n",
       "    .dataframe tbody tr th {\n",
       "        vertical-align: top;\n",
       "    }\n",
       "\n",
       "    .dataframe thead th {\n",
       "        text-align: right;\n",
       "    }\n",
       "</style>\n",
       "<table border=\"1\" class=\"dataframe\">\n",
       "  <thead>\n",
       "    <tr style=\"text-align: right;\">\n",
       "      <th></th>\n",
       "      <th>0</th>\n",
       "      <th>1</th>\n",
       "      <th>2</th>\n",
       "      <th>3</th>\n",
       "      <th>4</th>\n",
       "      <th>5</th>\n",
       "      <th>6</th>\n",
       "      <th>7</th>\n",
       "      <th>8</th>\n",
       "    </tr>\n",
       "  </thead>\n",
       "  <tbody>\n",
       "    <tr>\n",
       "      <th>0</th>\n",
       "      <td>0.0</td>\n",
       "      <td>0.43</td>\n",
       "      <td>0.0</td>\n",
       "      <td>0.56</td>\n",
       "      <td>0.56</td>\n",
       "      <td>0.00</td>\n",
       "      <td>0.43</td>\n",
       "      <td>0.00</td>\n",
       "      <td>0.00</td>\n",
       "    </tr>\n",
       "    <tr>\n",
       "      <th>1</th>\n",
       "      <td>0.0</td>\n",
       "      <td>0.43</td>\n",
       "      <td>0.0</td>\n",
       "      <td>0.00</td>\n",
       "      <td>0.00</td>\n",
       "      <td>0.56</td>\n",
       "      <td>0.43</td>\n",
       "      <td>0.00</td>\n",
       "      <td>0.56</td>\n",
       "    </tr>\n",
       "    <tr>\n",
       "      <th>2</th>\n",
       "      <td>0.5</td>\n",
       "      <td>0.45</td>\n",
       "      <td>0.5</td>\n",
       "      <td>0.19</td>\n",
       "      <td>0.19</td>\n",
       "      <td>0.19</td>\n",
       "      <td>0.30</td>\n",
       "      <td>0.25</td>\n",
       "      <td>0.19</td>\n",
       "    </tr>\n",
       "  </tbody>\n",
       "</table>\n",
       "</div>"
      ],
      "text/plain": [
       "     0     1    2     3     4     5     6     7     8\n",
       "0  0.0  0.43  0.0  0.56  0.56  0.00  0.43  0.00  0.00\n",
       "1  0.0  0.43  0.0  0.00  0.00  0.56  0.43  0.00  0.56\n",
       "2  0.5  0.45  0.5  0.19  0.19  0.19  0.30  0.25  0.19"
      ]
     },
     "execution_count": 11,
     "metadata": {},
     "output_type": "execute_result"
    }
   ],
   "source": [
    "tfidf = TfidfTransformer(use_idf=True, norm='l2', smooth_idf=True)\n",
    "tfidf_vec = tfidf.fit_transform(count.fit_transform(docs)).toarray()\n",
    "\n",
    "pd.DataFrame(tfidf_vec.round(2))"
   ]
  },
  {
   "cell_type": "markdown",
   "id": "501fd280",
   "metadata": {
    "papermill": {
     "duration": 0.042935,
     "end_time": "2021-10-04T01:20:17.867050",
     "exception": false,
     "start_time": "2021-10-04T01:20:17.824115",
     "status": "completed"
    },
    "tags": []
   },
   "source": [
    "smooth_idf：Truleがデフォルト<br>\n",
    "use_idf：idf()の使用有無（idf()関数による重み付けを行うかどうか）<br>\n",
    "norm：正則化の指定（デフォルトはなし、'l2'指定で単語ベクトルの長さが1になるよう正規化）<br>\n",
    "toarray()：行列出力\n",
    "\n",
    "それぞれの文や単語とも紐づけて可視化すると、以下のようになる。"
   ]
  },
  {
   "cell_type": "code",
   "execution_count": 12,
   "id": "5090e1a0",
   "metadata": {
    "execution": {
     "iopub.execute_input": "2021-10-04T01:20:17.969056Z",
     "iopub.status.busy": "2021-10-04T01:20:17.968334Z",
     "iopub.status.idle": "2021-10-04T01:20:17.973035Z",
     "shell.execute_reply": "2021-10-04T01:20:17.972625Z",
     "shell.execute_reply.started": "2021-09-21T04:10:41.242929Z"
    },
    "papermill": {
     "duration": 0.062785,
     "end_time": "2021-10-04T01:20:17.973139",
     "exception": false,
     "start_time": "2021-10-04T01:20:17.910354",
     "status": "completed"
    },
    "tags": []
   },
   "outputs": [
    {
     "data": {
      "text/html": [
       "<div>\n",
       "<style scoped>\n",
       "    .dataframe tbody tr th:only-of-type {\n",
       "        vertical-align: middle;\n",
       "    }\n",
       "\n",
       "    .dataframe tbody tr th {\n",
       "        vertical-align: top;\n",
       "    }\n",
       "\n",
       "    .dataframe thead th {\n",
       "        text-align: right;\n",
       "    }\n",
       "</style>\n",
       "<table border=\"1\" class=\"dataframe\">\n",
       "  <thead>\n",
       "    <tr style=\"text-align: right;\">\n",
       "      <th></th>\n",
       "      <th>and</th>\n",
       "      <th>is</th>\n",
       "      <th>one</th>\n",
       "      <th>shining</th>\n",
       "      <th>sun</th>\n",
       "      <th>sweet</th>\n",
       "      <th>the</th>\n",
       "      <th>two</th>\n",
       "      <th>weather</th>\n",
       "    </tr>\n",
       "  </thead>\n",
       "  <tbody>\n",
       "    <tr>\n",
       "      <th>The sun is shining</th>\n",
       "      <td>0.0</td>\n",
       "      <td>0.43</td>\n",
       "      <td>0.0</td>\n",
       "      <td>0.56</td>\n",
       "      <td>0.56</td>\n",
       "      <td>0.00</td>\n",
       "      <td>0.43</td>\n",
       "      <td>0.00</td>\n",
       "      <td>0.00</td>\n",
       "    </tr>\n",
       "    <tr>\n",
       "      <th>The weather is sweet</th>\n",
       "      <td>0.0</td>\n",
       "      <td>0.43</td>\n",
       "      <td>0.0</td>\n",
       "      <td>0.00</td>\n",
       "      <td>0.00</td>\n",
       "      <td>0.56</td>\n",
       "      <td>0.43</td>\n",
       "      <td>0.00</td>\n",
       "      <td>0.56</td>\n",
       "    </tr>\n",
       "    <tr>\n",
       "      <th>The sun is shining, the weather is sweet, and one and one is two</th>\n",
       "      <td>0.5</td>\n",
       "      <td>0.45</td>\n",
       "      <td>0.5</td>\n",
       "      <td>0.19</td>\n",
       "      <td>0.19</td>\n",
       "      <td>0.19</td>\n",
       "      <td>0.30</td>\n",
       "      <td>0.25</td>\n",
       "      <td>0.19</td>\n",
       "    </tr>\n",
       "  </tbody>\n",
       "</table>\n",
       "</div>"
      ],
      "text/plain": [
       "                                                                  and    is  \\\n",
       "The sun is shining                                                0.0  0.43   \n",
       "The weather is sweet                                              0.0  0.43   \n",
       "The sun is shining, the weather is sweet, and one and one is two  0.5  0.45   \n",
       "\n",
       "                                                                  one  \\\n",
       "The sun is shining                                                0.0   \n",
       "The weather is sweet                                              0.0   \n",
       "The sun is shining, the weather is sweet, and one and one is two  0.5   \n",
       "\n",
       "                                                                  shining  \\\n",
       "The sun is shining                                                   0.56   \n",
       "The weather is sweet                                                 0.00   \n",
       "The sun is shining, the weather is sweet, and one and one is two     0.19   \n",
       "\n",
       "                                                                   sun  sweet  \\\n",
       "The sun is shining                                                0.56   0.00   \n",
       "The weather is sweet                                              0.00   0.56   \n",
       "The sun is shining, the weather is sweet, and one and one is two  0.19   0.19   \n",
       "\n",
       "                                                                   the   two  \\\n",
       "The sun is shining                                                0.43  0.00   \n",
       "The weather is sweet                                              0.43  0.00   \n",
       "The sun is shining, the weather is sweet, and one and one is two  0.30  0.25   \n",
       "\n",
       "                                                                  weather  \n",
       "The sun is shining                                                   0.00  \n",
       "The weather is sweet                                                 0.56  \n",
       "The sun is shining, the weather is sweet, and one and one is two     0.19  "
      ]
     },
     "execution_count": 12,
     "metadata": {},
     "output_type": "execute_result"
    }
   ],
   "source": [
    "tfidf_df = pd.DataFrame(tfidf_vec.round(2),\n",
    "                        index=['The sun is shining',\n",
    "                               'The weather is sweet',\n",
    "                               'The sun is shining, the weather is sweet, and one and one is two'],\n",
    "                        columns=['and', 'is', 'one', 'shining', 'sun', 'sweet', 'the', 'two', 'weather'])\n",
    "\n",
    "tfidf_df.head()"
   ]
  },
  {
   "cell_type": "markdown",
   "id": "d5c48779",
   "metadata": {
    "papermill": {
     "duration": 0.043324,
     "end_time": "2021-10-04T01:20:18.060768",
     "exception": false,
     "start_time": "2021-10-04T01:20:18.017444",
     "status": "completed"
    },
    "tags": []
   },
   "source": [
    "「is」は3つの文章で使われているため、特徴語ではなく、どの文法に必要な語と判断される。<br>\n",
    "TF-IDFが（0.45）とそれほど大きくないことからも考えられる。\n",
    "\n",
    "一方で、「one」は3つ目の文章だけで2回使用されているので<br>\n",
    "TF-IDFは（0.5）と少しだけ大きくなっている。"
   ]
  },
  {
   "cell_type": "markdown",
   "id": "fa3aa450",
   "metadata": {
    "papermill": {
     "duration": 0.04362,
     "end_time": "2021-10-04T01:20:18.147904",
     "exception": false,
     "start_time": "2021-10-04T01:20:18.104284",
     "status": "completed"
    },
    "tags": []
   },
   "source": [
    "## 5.　クレンジング"
   ]
  },
  {
   "cell_type": "markdown",
   "id": "cea008f0",
   "metadata": {
    "papermill": {
     "duration": 0.043459,
     "end_time": "2021-10-04T01:20:18.235233",
     "exception": false,
     "start_time": "2021-10-04T01:20:18.191774",
     "status": "completed"
    },
    "tags": []
   },
   "source": [
    "まず、映画レビューデータセットの1つ目の文章から、最後の50文字を出力する。"
   ]
  },
  {
   "cell_type": "code",
   "execution_count": 13,
   "id": "b034284d",
   "metadata": {
    "execution": {
     "iopub.execute_input": "2021-10-04T01:20:18.329876Z",
     "iopub.status.busy": "2021-10-04T01:20:18.329150Z",
     "iopub.status.idle": "2021-10-04T01:20:18.335701Z",
     "shell.execute_reply": "2021-10-04T01:20:18.335233Z",
     "shell.execute_reply.started": "2021-09-21T04:10:41.26523Z"
    },
    "papermill": {
     "duration": 0.056472,
     "end_time": "2021-10-04T01:20:18.335809",
     "exception": false,
     "start_time": "2021-10-04T01:20:18.279337",
     "status": "completed"
    },
    "tags": []
   },
   "outputs": [
    {
     "data": {
      "text/plain": [
       "'is seven.<br /><br />Title (Brazil): Not Available'"
      ]
     },
     "execution_count": 13,
     "metadata": {},
     "output_type": "execute_result"
    }
   ],
   "source": [
    "df.loc[0, 'review'][-50:]"
   ]
  },
  {
   "cell_type": "markdown",
   "id": "a262b4cb",
   "metadata": {
    "papermill": {
     "duration": 0.044389,
     "end_time": "2021-10-04T01:20:18.425885",
     "exception": false,
     "start_time": "2021-10-04T01:20:18.381496",
     "status": "completed"
    },
    "tags": []
   },
   "source": [
    "出力結果を見てみると、不要な句読点や非英字文字が多い。<br>\n",
    "感情分析に役に立ちそうな顔文字要素のある記号「　：)　」のみ残し、それ以外はすべて削除する。<br>\n",
    "その際、今回はPythonの正規表現ライブラリを使用する。"
   ]
  },
  {
   "cell_type": "code",
   "execution_count": 14,
   "id": "def7bbbf",
   "metadata": {
    "execution": {
     "iopub.execute_input": "2021-10-04T01:20:18.518966Z",
     "iopub.status.busy": "2021-10-04T01:20:18.518264Z",
     "iopub.status.idle": "2021-10-04T01:20:18.520985Z",
     "shell.execute_reply": "2021-10-04T01:20:18.520597Z",
     "shell.execute_reply.started": "2021-09-21T04:10:41.279901Z"
    },
    "papermill": {
     "duration": 0.051304,
     "end_time": "2021-10-04T01:20:18.521087",
     "exception": false,
     "start_time": "2021-10-04T01:20:18.469783",
     "status": "completed"
    },
    "tags": []
   },
   "outputs": [],
   "source": [
    "def preprocessor(text):\n",
    "    text = re.sub('<[^>]*>', '', text)\n",
    "    emoticons = re.findall('(?::|;|=)(?:-)?(?:\\)|\\(|D|P)', text)\n",
    "    text = (re.sub('[\\W]+', ' ', text.lower()) + ' '.join(emoticons).replace('-', ''))\n",
    "    return text"
   ]
  },
  {
   "cell_type": "markdown",
   "id": "ad5864ab",
   "metadata": {
    "papermill": {
     "duration": 0.04462,
     "end_time": "2021-10-04T01:20:18.610405",
     "exception": false,
     "start_time": "2021-10-04T01:20:18.565785",
     "status": "completed"
    },
    "tags": []
   },
   "source": [
    "re.sub：正規表現で指定した文字列を置換する<br>\n",
    "str.lower(): すべての文字を小文字に変換\n",
    "\n",
    "2行目：正規表現（<[^>]*>）を使用し、HTMLマークアップを削除<br>\n",
    "3行目：顔文字を検索し、emoticonsに格納<br>\n",
    "4行目：正規表現[\\w]+を使って単語の一部でない文字を削除、小文字に変換し、emoticonsを加え、顔文字内の「-」を消去"
   ]
  },
  {
   "cell_type": "code",
   "execution_count": 15,
   "id": "b8902873",
   "metadata": {
    "execution": {
     "iopub.execute_input": "2021-10-04T01:20:18.703336Z",
     "iopub.status.busy": "2021-10-04T01:20:18.702674Z",
     "iopub.status.idle": "2021-10-04T01:20:18.705643Z",
     "shell.execute_reply": "2021-10-04T01:20:18.706051Z",
     "shell.execute_reply.started": "2021-09-21T04:10:41.288616Z"
    },
    "papermill": {
     "duration": 0.051623,
     "end_time": "2021-10-04T01:20:18.706166",
     "exception": false,
     "start_time": "2021-10-04T01:20:18.654543",
     "status": "completed"
    },
    "tags": []
   },
   "outputs": [
    {
     "name": "stdout",
     "output_type": "stream",
     "text": [
      "変換前: is seven.<br /><br />Title (Brazil): Not Available\n",
      "変換後: is seven title brazil not available\n"
     ]
    }
   ],
   "source": [
    "print('変換前:', df.loc[0, 'review'][-50:])\n",
    "print('変換後:', preprocessor(df.loc[0, 'review'][-50:]))"
   ]
  },
  {
   "cell_type": "code",
   "execution_count": 16,
   "id": "64f8f6c0",
   "metadata": {
    "execution": {
     "iopub.execute_input": "2021-10-04T01:20:18.798811Z",
     "iopub.status.busy": "2021-10-04T01:20:18.798283Z",
     "iopub.status.idle": "2021-10-04T01:20:18.801328Z",
     "shell.execute_reply": "2021-10-04T01:20:18.801939Z",
     "shell.execute_reply.started": "2021-09-21T04:10:41.300334Z"
    },
    "papermill": {
     "duration": 0.05182,
     "end_time": "2021-10-04T01:20:18.802093",
     "exception": false,
     "start_time": "2021-10-04T01:20:18.750273",
     "status": "completed"
    },
    "tags": []
   },
   "outputs": [
    {
     "name": "stdout",
     "output_type": "stream",
     "text": [
      "this is a test :) :( :)\n",
      " i like python \n",
      "machine lear nig \n"
     ]
    }
   ],
   "source": [
    "print(preprocessor(\"</a>This :) is :( a test :-)!\"))\n",
    "print(preprocessor(\"!\\/.i like ;.::python/:]/];/]\"))\n",
    "print(preprocessor('machine\\::lear\\[:::nig];@[/]'))"
   ]
  },
  {
   "cell_type": "markdown",
   "id": "1df06ea9",
   "metadata": {
    "papermill": {
     "duration": 0.044865,
     "end_time": "2021-10-04T01:20:18.893948",
     "exception": false,
     "start_time": "2021-10-04T01:20:18.849083",
     "status": "completed"
    },
    "tags": []
   },
   "source": [
    "再度、映画レビューデータセットの1行目を表示する。"
   ]
  },
  {
   "cell_type": "code",
   "execution_count": 17,
   "id": "fb21e39a",
   "metadata": {
    "execution": {
     "iopub.execute_input": "2021-10-04T01:20:18.992442Z",
     "iopub.status.busy": "2021-10-04T01:20:18.991515Z",
     "iopub.status.idle": "2021-10-04T01:20:18.996390Z",
     "shell.execute_reply": "2021-10-04T01:20:18.996952Z",
     "shell.execute_reply.started": "2021-09-21T04:10:41.310173Z"
    },
    "papermill": {
     "duration": 0.058362,
     "end_time": "2021-10-04T01:20:18.997121",
     "exception": false,
     "start_time": "2021-10-04T01:20:18.938759",
     "status": "completed"
    },
    "tags": []
   },
   "outputs": [
    {
     "name": "stdout",
     "output_type": "stream",
     "text": [
      "(50000, 2)\n"
     ]
    },
    {
     "data": {
      "text/html": [
       "<div>\n",
       "<style scoped>\n",
       "    .dataframe tbody tr th:only-of-type {\n",
       "        vertical-align: middle;\n",
       "    }\n",
       "\n",
       "    .dataframe tbody tr th {\n",
       "        vertical-align: top;\n",
       "    }\n",
       "\n",
       "    .dataframe thead th {\n",
       "        text-align: right;\n",
       "    }\n",
       "</style>\n",
       "<table border=\"1\" class=\"dataframe\">\n",
       "  <thead>\n",
       "    <tr style=\"text-align: right;\">\n",
       "      <th></th>\n",
       "      <th>review</th>\n",
       "      <th>sentiment</th>\n",
       "    </tr>\n",
       "  </thead>\n",
       "  <tbody>\n",
       "    <tr>\n",
       "      <th>0</th>\n",
       "      <td>In 1974, the teenager Martha Moxley (Maggie Grace) moves to the high-class area of Belle Haven, Greenwich, Connecticut. On the Mischief Night, eve...</td>\n",
       "      <td>1</td>\n",
       "    </tr>\n",
       "    <tr>\n",
       "      <th>1</th>\n",
       "      <td>OK... so... I really like Kris Kristofferson and his usual easy going delivery of lines in his movies. Age has helped him with his soft spoken low...</td>\n",
       "      <td>0</td>\n",
       "    </tr>\n",
       "    <tr>\n",
       "      <th>2</th>\n",
       "      <td>***SPOILER*** Do not read this, if you think about watching that movie, although it would be a waste of time. (By the way: The plot is so predicta...</td>\n",
       "      <td>0</td>\n",
       "    </tr>\n",
       "    <tr>\n",
       "      <th>3</th>\n",
       "      <td>hi for all the people who have seen this wonderful movie im sure thet you would have liked it as much as i. i love the songs once you have seen th...</td>\n",
       "      <td>1</td>\n",
       "    </tr>\n",
       "    <tr>\n",
       "      <th>4</th>\n",
       "      <td>I recently bought the DVD, forgetting just how much I hated the movie version of \"A Chorus Line.\" Every change the director Attenborough made to t...</td>\n",
       "      <td>0</td>\n",
       "    </tr>\n",
       "    <tr>\n",
       "      <th>5</th>\n",
       "      <td>Leave it to Braik to put on a good show. Finally he and Zorak are living their own lives outside of Spac Ghost Coast To Coast. I have to say that ...</td>\n",
       "      <td>1</td>\n",
       "    </tr>\n",
       "    <tr>\n",
       "      <th>6</th>\n",
       "      <td>Nathan Detroit (Frank Sinatra) is the manager of the New York's longest- established floating craps game, and he needs $1000 to secure a new locat...</td>\n",
       "      <td>1</td>\n",
       "    </tr>\n",
       "    <tr>\n",
       "      <th>7</th>\n",
       "      <td>To understand \"Crash Course\" in the right context, you must understand the 80's in TV. Most TV shows didn't have any point. The sitcom outpopulate...</td>\n",
       "      <td>1</td>\n",
       "    </tr>\n",
       "    <tr>\n",
       "      <th>8</th>\n",
       "      <td>I've been impressed with Chavez's stance against globalisation for sometime now, but it wasn't until I saw the film at the Amsterdam documentary i...</td>\n",
       "      <td>1</td>\n",
       "    </tr>\n",
       "    <tr>\n",
       "      <th>9</th>\n",
       "      <td>This movie is directed by Renny Harlin the finnish miracle. Stallone is Gabe Walker. Cat and Mouse on the mountains with ruthless terrorists. Renn...</td>\n",
       "      <td>1</td>\n",
       "    </tr>\n",
       "  </tbody>\n",
       "</table>\n",
       "</div>"
      ],
      "text/plain": [
       "                                                                                                                                                  review  \\\n",
       "0  In 1974, the teenager Martha Moxley (Maggie Grace) moves to the high-class area of Belle Haven, Greenwich, Connecticut. On the Mischief Night, eve...   \n",
       "1  OK... so... I really like Kris Kristofferson and his usual easy going delivery of lines in his movies. Age has helped him with his soft spoken low...   \n",
       "2  ***SPOILER*** Do not read this, if you think about watching that movie, although it would be a waste of time. (By the way: The plot is so predicta...   \n",
       "3  hi for all the people who have seen this wonderful movie im sure thet you would have liked it as much as i. i love the songs once you have seen th...   \n",
       "4  I recently bought the DVD, forgetting just how much I hated the movie version of \"A Chorus Line.\" Every change the director Attenborough made to t...   \n",
       "5  Leave it to Braik to put on a good show. Finally he and Zorak are living their own lives outside of Spac Ghost Coast To Coast. I have to say that ...   \n",
       "6  Nathan Detroit (Frank Sinatra) is the manager of the New York's longest- established floating craps game, and he needs $1000 to secure a new locat...   \n",
       "7  To understand \"Crash Course\" in the right context, you must understand the 80's in TV. Most TV shows didn't have any point. The sitcom outpopulate...   \n",
       "8  I've been impressed with Chavez's stance against globalisation for sometime now, but it wasn't until I saw the film at the Amsterdam documentary i...   \n",
       "9  This movie is directed by Renny Harlin the finnish miracle. Stallone is Gabe Walker. Cat and Mouse on the mountains with ruthless terrorists. Renn...   \n",
       "\n",
       "   sentiment  \n",
       "0          1  \n",
       "1          0  \n",
       "2          0  \n",
       "3          1  \n",
       "4          0  \n",
       "5          1  \n",
       "6          1  \n",
       "7          1  \n",
       "8          1  \n",
       "9          1  "
      ]
     },
     "execution_count": 17,
     "metadata": {},
     "output_type": "execute_result"
    }
   ],
   "source": [
    "print(df.shape)\n",
    "df.head(10)"
   ]
  },
  {
   "cell_type": "markdown",
   "id": "93e51822",
   "metadata": {
    "papermill": {
     "duration": 0.045064,
     "end_time": "2021-10-04T01:20:19.088082",
     "exception": false,
     "start_time": "2021-10-04T01:20:19.043018",
     "status": "completed"
    },
    "tags": []
   },
   "source": [
    "これに、先ほど作成したpreprocessor関数を適用する。<br>\n",
    "出力結果を確認すると、余計な文字や記号がなくなっていることが分かる。"
   ]
  },
  {
   "cell_type": "code",
   "execution_count": 18,
   "id": "274a7e28",
   "metadata": {
    "execution": {
     "iopub.execute_input": "2021-10-04T01:20:19.184498Z",
     "iopub.status.busy": "2021-10-04T01:20:19.183764Z",
     "iopub.status.idle": "2021-10-04T01:20:27.484182Z",
     "shell.execute_reply": "2021-10-04T01:20:27.483762Z",
     "shell.execute_reply.started": "2021-09-21T04:10:41.328269Z"
    },
    "papermill": {
     "duration": 8.351082,
     "end_time": "2021-10-04T01:20:27.484304",
     "exception": false,
     "start_time": "2021-10-04T01:20:19.133222",
     "status": "completed"
    },
    "tags": []
   },
   "outputs": [
    {
     "data": {
      "text/html": [
       "<div>\n",
       "<style scoped>\n",
       "    .dataframe tbody tr th:only-of-type {\n",
       "        vertical-align: middle;\n",
       "    }\n",
       "\n",
       "    .dataframe tbody tr th {\n",
       "        vertical-align: top;\n",
       "    }\n",
       "\n",
       "    .dataframe thead th {\n",
       "        text-align: right;\n",
       "    }\n",
       "</style>\n",
       "<table border=\"1\" class=\"dataframe\">\n",
       "  <thead>\n",
       "    <tr style=\"text-align: right;\">\n",
       "      <th></th>\n",
       "      <th>review</th>\n",
       "      <th>sentiment</th>\n",
       "    </tr>\n",
       "  </thead>\n",
       "  <tbody>\n",
       "    <tr>\n",
       "      <th>0</th>\n",
       "      <td>in 1974 the teenager martha moxley maggie grace moves to the high class area of belle haven greenwich connecticut on the mischief night eve of hal...</td>\n",
       "      <td>1</td>\n",
       "    </tr>\n",
       "    <tr>\n",
       "      <th>1</th>\n",
       "      <td>ok so i really like kris kristofferson and his usual easy going delivery of lines in his movies age has helped him with his soft spoken low energy...</td>\n",
       "      <td>0</td>\n",
       "    </tr>\n",
       "    <tr>\n",
       "      <th>2</th>\n",
       "      <td>spoiler do not read this if you think about watching that movie although it would be a waste of time by the way the plot is so predictable that i...</td>\n",
       "      <td>0</td>\n",
       "    </tr>\n",
       "    <tr>\n",
       "      <th>3</th>\n",
       "      <td>hi for all the people who have seen this wonderful movie im sure thet you would have liked it as much as i i love the songs once you have seen the...</td>\n",
       "      <td>1</td>\n",
       "    </tr>\n",
       "    <tr>\n",
       "      <th>4</th>\n",
       "      <td>i recently bought the dvd forgetting just how much i hated the movie version of a chorus line every change the director attenborough made to the s...</td>\n",
       "      <td>0</td>\n",
       "    </tr>\n",
       "    <tr>\n",
       "      <th>5</th>\n",
       "      <td>leave it to braik to put on a good show finally he and zorak are living their own lives outside of spac ghost coast to coast i have to say that i ...</td>\n",
       "      <td>1</td>\n",
       "    </tr>\n",
       "    <tr>\n",
       "      <th>6</th>\n",
       "      <td>nathan detroit frank sinatra is the manager of the new york s longest established floating craps game and he needs 1000 to secure a new location c...</td>\n",
       "      <td>1</td>\n",
       "    </tr>\n",
       "    <tr>\n",
       "      <th>7</th>\n",
       "      <td>to understand crash course in the right context you must understand the 80 s in tv most tv shows didn t have any point the sitcom outpopulated the...</td>\n",
       "      <td>1</td>\n",
       "    </tr>\n",
       "    <tr>\n",
       "      <th>8</th>\n",
       "      <td>i ve been impressed with chavez s stance against globalisation for sometime now but it wasn t until i saw the film at the amsterdam documentary in...</td>\n",
       "      <td>1</td>\n",
       "    </tr>\n",
       "    <tr>\n",
       "      <th>9</th>\n",
       "      <td>this movie is directed by renny harlin the finnish miracle stallone is gabe walker cat and mouse on the mountains with ruthless terrorists renny h...</td>\n",
       "      <td>1</td>\n",
       "    </tr>\n",
       "  </tbody>\n",
       "</table>\n",
       "</div>"
      ],
      "text/plain": [
       "                                                                                                                                                  review  \\\n",
       "0  in 1974 the teenager martha moxley maggie grace moves to the high class area of belle haven greenwich connecticut on the mischief night eve of hal...   \n",
       "1  ok so i really like kris kristofferson and his usual easy going delivery of lines in his movies age has helped him with his soft spoken low energy...   \n",
       "2   spoiler do not read this if you think about watching that movie although it would be a waste of time by the way the plot is so predictable that i...   \n",
       "3  hi for all the people who have seen this wonderful movie im sure thet you would have liked it as much as i i love the songs once you have seen the...   \n",
       "4  i recently bought the dvd forgetting just how much i hated the movie version of a chorus line every change the director attenborough made to the s...   \n",
       "5  leave it to braik to put on a good show finally he and zorak are living their own lives outside of spac ghost coast to coast i have to say that i ...   \n",
       "6  nathan detroit frank sinatra is the manager of the new york s longest established floating craps game and he needs 1000 to secure a new location c...   \n",
       "7  to understand crash course in the right context you must understand the 80 s in tv most tv shows didn t have any point the sitcom outpopulated the...   \n",
       "8  i ve been impressed with chavez s stance against globalisation for sometime now but it wasn t until i saw the film at the amsterdam documentary in...   \n",
       "9  this movie is directed by renny harlin the finnish miracle stallone is gabe walker cat and mouse on the mountains with ruthless terrorists renny h...   \n",
       "\n",
       "   sentiment  \n",
       "0          1  \n",
       "1          0  \n",
       "2          0  \n",
       "3          1  \n",
       "4          0  \n",
       "5          1  \n",
       "6          1  \n",
       "7          1  \n",
       "8          1  \n",
       "9          1  "
      ]
     },
     "execution_count": 18,
     "metadata": {},
     "output_type": "execute_result"
    }
   ],
   "source": [
    "df['review'] = df['review'].apply(preprocessor)\n",
    "df.head(10)"
   ]
  },
  {
   "cell_type": "markdown",
   "id": "9afc7425",
   "metadata": {
    "papermill": {
     "duration": 0.046136,
     "end_time": "2021-10-04T01:20:27.577082",
     "exception": false,
     "start_time": "2021-10-04T01:20:27.530946",
     "status": "completed"
    },
    "tags": []
   },
   "source": [
    "## 6.　トークン化"
   ]
  },
  {
   "cell_type": "markdown",
   "id": "b57193e6",
   "metadata": {
    "papermill": {
     "duration": 0.045509,
     "end_time": "2021-10-04T01:20:27.668666",
     "exception": false,
     "start_time": "2021-10-04T01:20:27.623157",
     "status": "completed"
    },
    "tags": []
   },
   "source": [
    "トークン化：文章を個々の単語に分割したり、変換したりすること<br>\n",
    "ワードステミング：単語を原形に変換すること　（例）running →　run　など\n",
    "\n",
    "ワードステミングは、PorterStemmerによって開発され、Porter stemmingアルゴリズムとも呼ばれる。<br>\n",
    "NLTKライブラリに実装されている。"
   ]
  },
  {
   "cell_type": "code",
   "execution_count": 19,
   "id": "3d3c04dd",
   "metadata": {
    "execution": {
     "iopub.execute_input": "2021-10-04T01:20:27.765753Z",
     "iopub.status.busy": "2021-10-04T01:20:27.765005Z",
     "iopub.status.idle": "2021-10-04T01:20:27.767744Z",
     "shell.execute_reply": "2021-10-04T01:20:27.767322Z",
     "shell.execute_reply.started": "2021-09-21T04:10:49.681784Z"
    },
    "papermill": {
     "duration": 0.053028,
     "end_time": "2021-10-04T01:20:27.767850",
     "exception": false,
     "start_time": "2021-10-04T01:20:27.714822",
     "status": "completed"
    },
    "tags": []
   },
   "outputs": [],
   "source": [
    "porter = PorterStemmer()\n",
    "\n",
    "def tokenizer(text):\n",
    "    return text.split()\n",
    "\n",
    "def tokenizer_porter(text):\n",
    "    return [porter.stem(word) for word in text.split()]"
   ]
  },
  {
   "cell_type": "markdown",
   "id": "4161b64f",
   "metadata": {
    "papermill": {
     "duration": 0.045755,
     "end_time": "2021-10-04T01:20:27.860067",
     "exception": false,
     "start_time": "2021-10-04T01:20:27.814312",
     "status": "completed"
    },
    "tags": []
   },
   "source": [
    "split()：文字を空白で分割<br>\n",
    "tokenizer_porter(text)：split()で分割した単語をfor文で1個ずつ取り出し、ワードステミングを実行\n",
    "\n",
    "ここで、トークン化とトークン化＋ワードワードステミングの結果を比較する。"
   ]
  },
  {
   "cell_type": "code",
   "execution_count": 20,
   "id": "7197bbea",
   "metadata": {
    "execution": {
     "iopub.execute_input": "2021-10-04T01:20:27.956531Z",
     "iopub.status.busy": "2021-10-04T01:20:27.955945Z",
     "iopub.status.idle": "2021-10-04T01:20:27.959832Z",
     "shell.execute_reply": "2021-10-04T01:20:27.959118Z",
     "shell.execute_reply.started": "2021-09-21T04:10:49.688907Z"
    },
    "papermill": {
     "duration": 0.053879,
     "end_time": "2021-10-04T01:20:27.959980",
     "exception": false,
     "start_time": "2021-10-04T01:20:27.906101",
     "status": "completed"
    },
    "tags": []
   },
   "outputs": [
    {
     "name": "stdout",
     "output_type": "stream",
     "text": [
      "['runners', 'like', 'running', 'and', 'thus', 'they', 'run']\n",
      "['runner', 'like', 'run', 'and', 'thu', 'they', 'run']\n"
     ]
    }
   ],
   "source": [
    "print(tokenizer('runners like running and thus they run'))\n",
    "print(tokenizer_porter('runners like running and thus they run'))"
   ]
  },
  {
   "cell_type": "markdown",
   "id": "69b0ceb8",
   "metadata": {
    "papermill": {
     "duration": 0.045998,
     "end_time": "2021-10-04T01:20:28.054190",
     "exception": false,
     "start_time": "2021-10-04T01:20:28.008192",
     "status": "completed"
    },
    "tags": []
   },
   "source": [
    "また、ストップワードの除去も行う。<br>\n",
    "こちらも、NLTKライブラリで実行することができる。\n",
    "\n",
    "まず、nltkに登録されているストップワードをダウンロードする。<br>\n",
    "その後、ストップワードでないものにtokenizer_porter()を適用し、単語を抽出する。"
   ]
  },
  {
   "cell_type": "code",
   "execution_count": 21,
   "id": "80c0f2dc",
   "metadata": {
    "execution": {
     "iopub.execute_input": "2021-10-04T01:20:28.157987Z",
     "iopub.status.busy": "2021-10-04T01:20:28.151073Z",
     "iopub.status.idle": "2021-10-04T01:20:28.276768Z",
     "shell.execute_reply": "2021-10-04T01:20:28.277387Z",
     "shell.execute_reply.started": "2021-09-21T04:10:49.699738Z"
    },
    "papermill": {
     "duration": 0.177108,
     "end_time": "2021-10-04T01:20:28.277567",
     "exception": false,
     "start_time": "2021-10-04T01:20:28.100459",
     "status": "completed"
    },
    "tags": []
   },
   "outputs": [
    {
     "name": "stdout",
     "output_type": "stream",
     "text": [
      "[nltk_data] Downloading package stopwords to /usr/share/nltk_data...\n",
      "[nltk_data]   Package stopwords is already up-to-date!\n"
     ]
    },
    {
     "data": {
      "text/plain": [
       "['runner', 'like', 'run', 'run', 'lot']"
      ]
     },
     "execution_count": 21,
     "metadata": {},
     "output_type": "execute_result"
    }
   ],
   "source": [
    "nltk.download('stopwords')\n",
    "\n",
    "stop = stopwords.words('english')\n",
    "[w for w in tokenizer_porter('a runner likes running and runs a lot')[-10:] if w not in stop]"
   ]
  },
  {
   "cell_type": "markdown",
   "id": "0f54fdda",
   "metadata": {
    "papermill": {
     "duration": 0.047239,
     "end_time": "2021-10-04T01:20:28.372325",
     "exception": false,
     "start_time": "2021-10-04T01:20:28.325086",
     "status": "completed"
    },
    "tags": []
   },
   "source": [
    "## 7.　自然言語処理のデモンストレーション"
   ]
  },
  {
   "cell_type": "markdown",
   "id": "27860348",
   "metadata": {
    "papermill": {
     "duration": 0.04662,
     "end_time": "2021-10-04T01:20:28.465676",
     "exception": false,
     "start_time": "2021-10-04T01:20:28.419056",
     "status": "completed"
    },
    "tags": []
   },
   "source": [
    "機械学習モデルを用いて、下記に分類する。\n",
    "\n",
    "1：ポジティブな感想（面白かった など）<br>\n",
    "0：ネガティブな感想（つまなかった など）\n",
    "\n",
    "まず、クレンジングしたテキストのDataframeを、訓練データとテストデータに分割する。"
   ]
  },
  {
   "cell_type": "code",
   "execution_count": 22,
   "id": "7c61004a",
   "metadata": {
    "execution": {
     "iopub.execute_input": "2021-10-04T01:20:28.563789Z",
     "iopub.status.busy": "2021-10-04T01:20:28.563163Z",
     "iopub.status.idle": "2021-10-04T01:20:29.117423Z",
     "shell.execute_reply": "2021-10-04T01:20:29.116945Z"
    },
    "papermill": {
     "duration": 0.604395,
     "end_time": "2021-10-04T01:20:29.117574",
     "exception": false,
     "start_time": "2021-10-04T01:20:28.513179",
     "status": "completed"
    },
    "tags": []
   },
   "outputs": [
    {
     "name": "stdout",
     "output_type": "stream",
     "text": [
      "(50000, 2)\n"
     ]
    },
    {
     "data": {
      "text/html": [
       "<div>\n",
       "<style scoped>\n",
       "    .dataframe tbody tr th:only-of-type {\n",
       "        vertical-align: middle;\n",
       "    }\n",
       "\n",
       "    .dataframe tbody tr th {\n",
       "        vertical-align: top;\n",
       "    }\n",
       "\n",
       "    .dataframe thead th {\n",
       "        text-align: right;\n",
       "    }\n",
       "</style>\n",
       "<table border=\"1\" class=\"dataframe\">\n",
       "  <thead>\n",
       "    <tr style=\"text-align: right;\">\n",
       "      <th></th>\n",
       "      <th>review</th>\n",
       "      <th>sentiment</th>\n",
       "    </tr>\n",
       "  </thead>\n",
       "  <tbody>\n",
       "    <tr>\n",
       "      <th>0</th>\n",
       "      <td>In 1974, the teenager Martha Moxley (Maggie Grace) moves to the high-class area of Belle Haven, Greenwich, Connecticut. On the Mischief Night, eve...</td>\n",
       "      <td>1</td>\n",
       "    </tr>\n",
       "    <tr>\n",
       "      <th>1</th>\n",
       "      <td>OK... so... I really like Kris Kristofferson and his usual easy going delivery of lines in his movies. Age has helped him with his soft spoken low...</td>\n",
       "      <td>0</td>\n",
       "    </tr>\n",
       "    <tr>\n",
       "      <th>2</th>\n",
       "      <td>***SPOILER*** Do not read this, if you think about watching that movie, although it would be a waste of time. (By the way: The plot is so predicta...</td>\n",
       "      <td>0</td>\n",
       "    </tr>\n",
       "    <tr>\n",
       "      <th>3</th>\n",
       "      <td>hi for all the people who have seen this wonderful movie im sure thet you would have liked it as much as i. i love the songs once you have seen th...</td>\n",
       "      <td>1</td>\n",
       "    </tr>\n",
       "    <tr>\n",
       "      <th>4</th>\n",
       "      <td>I recently bought the DVD, forgetting just how much I hated the movie version of \"A Chorus Line.\" Every change the director Attenborough made to t...</td>\n",
       "      <td>0</td>\n",
       "    </tr>\n",
       "    <tr>\n",
       "      <th>5</th>\n",
       "      <td>Leave it to Braik to put on a good show. Finally he and Zorak are living their own lives outside of Spac Ghost Coast To Coast. I have to say that ...</td>\n",
       "      <td>1</td>\n",
       "    </tr>\n",
       "    <tr>\n",
       "      <th>6</th>\n",
       "      <td>Nathan Detroit (Frank Sinatra) is the manager of the New York's longest- established floating craps game, and he needs $1000 to secure a new locat...</td>\n",
       "      <td>1</td>\n",
       "    </tr>\n",
       "    <tr>\n",
       "      <th>7</th>\n",
       "      <td>To understand \"Crash Course\" in the right context, you must understand the 80's in TV. Most TV shows didn't have any point. The sitcom outpopulate...</td>\n",
       "      <td>1</td>\n",
       "    </tr>\n",
       "    <tr>\n",
       "      <th>8</th>\n",
       "      <td>I've been impressed with Chavez's stance against globalisation for sometime now, but it wasn't until I saw the film at the Amsterdam documentary i...</td>\n",
       "      <td>1</td>\n",
       "    </tr>\n",
       "    <tr>\n",
       "      <th>9</th>\n",
       "      <td>This movie is directed by Renny Harlin the finnish miracle. Stallone is Gabe Walker. Cat and Mouse on the mountains with ruthless terrorists. Renn...</td>\n",
       "      <td>1</td>\n",
       "    </tr>\n",
       "  </tbody>\n",
       "</table>\n",
       "</div>"
      ],
      "text/plain": [
       "                                                                                                                                                  review  \\\n",
       "0  In 1974, the teenager Martha Moxley (Maggie Grace) moves to the high-class area of Belle Haven, Greenwich, Connecticut. On the Mischief Night, eve...   \n",
       "1  OK... so... I really like Kris Kristofferson and his usual easy going delivery of lines in his movies. Age has helped him with his soft spoken low...   \n",
       "2  ***SPOILER*** Do not read this, if you think about watching that movie, although it would be a waste of time. (By the way: The plot is so predicta...   \n",
       "3  hi for all the people who have seen this wonderful movie im sure thet you would have liked it as much as i. i love the songs once you have seen th...   \n",
       "4  I recently bought the DVD, forgetting just how much I hated the movie version of \"A Chorus Line.\" Every change the director Attenborough made to t...   \n",
       "5  Leave it to Braik to put on a good show. Finally he and Zorak are living their own lives outside of Spac Ghost Coast To Coast. I have to say that ...   \n",
       "6  Nathan Detroit (Frank Sinatra) is the manager of the New York's longest- established floating craps game, and he needs $1000 to secure a new locat...   \n",
       "7  To understand \"Crash Course\" in the right context, you must understand the 80's in TV. Most TV shows didn't have any point. The sitcom outpopulate...   \n",
       "8  I've been impressed with Chavez's stance against globalisation for sometime now, but it wasn't until I saw the film at the Amsterdam documentary i...   \n",
       "9  This movie is directed by Renny Harlin the finnish miracle. Stallone is Gabe Walker. Cat and Mouse on the mountains with ruthless terrorists. Renn...   \n",
       "\n",
       "   sentiment  \n",
       "0          1  \n",
       "1          0  \n",
       "2          0  \n",
       "3          1  \n",
       "4          0  \n",
       "5          1  \n",
       "6          1  \n",
       "7          1  \n",
       "8          1  \n",
       "9          1  "
      ]
     },
     "execution_count": 22,
     "metadata": {},
     "output_type": "execute_result"
    }
   ],
   "source": [
    "df = pd.read_csv('../input/movie-datacsv/movie_data.csv')\n",
    "\n",
    "print(df.shape)\n",
    "df.head(10)"
   ]
  },
  {
   "cell_type": "code",
   "execution_count": 23,
   "id": "5b618469",
   "metadata": {
    "execution": {
     "iopub.execute_input": "2021-10-04T01:20:29.223859Z",
     "iopub.status.busy": "2021-10-04T01:20:29.222996Z",
     "iopub.status.idle": "2021-10-04T01:20:29.226840Z",
     "shell.execute_reply": "2021-10-04T01:20:29.226429Z",
     "shell.execute_reply.started": "2021-09-29T05:38:59.254866Z"
    },
    "papermill": {
     "duration": 0.059533,
     "end_time": "2021-10-04T01:20:29.226948",
     "exception": false,
     "start_time": "2021-10-04T01:20:29.167415",
     "status": "completed"
    },
    "tags": []
   },
   "outputs": [
    {
     "data": {
      "text/html": [
       "<div>\n",
       "<style scoped>\n",
       "    .dataframe tbody tr th:only-of-type {\n",
       "        vertical-align: middle;\n",
       "    }\n",
       "\n",
       "    .dataframe tbody tr th {\n",
       "        vertical-align: top;\n",
       "    }\n",
       "\n",
       "    .dataframe thead th {\n",
       "        text-align: right;\n",
       "    }\n",
       "</style>\n",
       "<table border=\"1\" class=\"dataframe\">\n",
       "  <thead>\n",
       "    <tr style=\"text-align: right;\">\n",
       "      <th></th>\n",
       "      <th>カラム</th>\n",
       "      <th>意味</th>\n",
       "    </tr>\n",
       "  </thead>\n",
       "  <tbody>\n",
       "    <tr>\n",
       "      <th>0</th>\n",
       "      <td>review</td>\n",
       "      <td>映画の感想文</td>\n",
       "    </tr>\n",
       "    <tr>\n",
       "      <th>1</th>\n",
       "      <td>sentiment</td>\n",
       "      <td>感情（0：マイナス、1：プラス）</td>\n",
       "    </tr>\n",
       "  </tbody>\n",
       "</table>\n",
       "</div>"
      ],
      "text/plain": [
       "         カラム                意味\n",
       "0     review            映画の感想文\n",
       "1  sentiment  感情（0：マイナス、1：プラス）"
      ]
     },
     "execution_count": 23,
     "metadata": {},
     "output_type": "execute_result"
    }
   ],
   "source": [
    "pd.DataFrame([['review', '映画の感想文'],\n",
    "              ['sentiment', '感情（0：マイナス、1：プラス）']],\n",
    "              columns=['カラム', '意味'])"
   ]
  },
  {
   "cell_type": "code",
   "execution_count": 24,
   "id": "36487d54",
   "metadata": {
    "execution": {
     "iopub.execute_input": "2021-10-04T01:20:29.333378Z",
     "iopub.status.busy": "2021-10-04T01:20:29.332464Z",
     "iopub.status.idle": "2021-10-04T01:20:29.336769Z",
     "shell.execute_reply": "2021-10-04T01:20:29.337186Z",
     "shell.execute_reply.started": "2021-09-21T04:10:49.786839Z"
    },
    "papermill": {
     "duration": 0.061523,
     "end_time": "2021-10-04T01:20:29.337307",
     "exception": false,
     "start_time": "2021-10-04T01:20:29.275784",
     "status": "completed"
    },
    "tags": []
   },
   "outputs": [
    {
     "name": "stdout",
     "output_type": "stream",
     "text": [
      "(25000, 2)\n"
     ]
    },
    {
     "data": {
      "text/html": [
       "<div>\n",
       "<style scoped>\n",
       "    .dataframe tbody tr th:only-of-type {\n",
       "        vertical-align: middle;\n",
       "    }\n",
       "\n",
       "    .dataframe tbody tr th {\n",
       "        vertical-align: top;\n",
       "    }\n",
       "\n",
       "    .dataframe thead th {\n",
       "        text-align: right;\n",
       "    }\n",
       "</style>\n",
       "<table border=\"1\" class=\"dataframe\">\n",
       "  <thead>\n",
       "    <tr style=\"text-align: right;\">\n",
       "      <th></th>\n",
       "      <th>review</th>\n",
       "      <th>sentiment</th>\n",
       "    </tr>\n",
       "  </thead>\n",
       "  <tbody>\n",
       "    <tr>\n",
       "      <th>0</th>\n",
       "      <td>In 1974, the teenager Martha Moxley (Maggie Grace) moves to the high-class area of Belle Haven, Greenwich, Connecticut. On the Mischief Night, eve...</td>\n",
       "      <td>1</td>\n",
       "    </tr>\n",
       "    <tr>\n",
       "      <th>1</th>\n",
       "      <td>OK... so... I really like Kris Kristofferson and his usual easy going delivery of lines in his movies. Age has helped him with his soft spoken low...</td>\n",
       "      <td>0</td>\n",
       "    </tr>\n",
       "    <tr>\n",
       "      <th>2</th>\n",
       "      <td>***SPOILER*** Do not read this, if you think about watching that movie, although it would be a waste of time. (By the way: The plot is so predicta...</td>\n",
       "      <td>0</td>\n",
       "    </tr>\n",
       "    <tr>\n",
       "      <th>3</th>\n",
       "      <td>hi for all the people who have seen this wonderful movie im sure thet you would have liked it as much as i. i love the songs once you have seen th...</td>\n",
       "      <td>1</td>\n",
       "    </tr>\n",
       "    <tr>\n",
       "      <th>4</th>\n",
       "      <td>I recently bought the DVD, forgetting just how much I hated the movie version of \"A Chorus Line.\" Every change the director Attenborough made to t...</td>\n",
       "      <td>0</td>\n",
       "    </tr>\n",
       "  </tbody>\n",
       "</table>\n",
       "</div>"
      ],
      "text/plain": [
       "                                                                                                                                                  review  \\\n",
       "0  In 1974, the teenager Martha Moxley (Maggie Grace) moves to the high-class area of Belle Haven, Greenwich, Connecticut. On the Mischief Night, eve...   \n",
       "1  OK... so... I really like Kris Kristofferson and his usual easy going delivery of lines in his movies. Age has helped him with his soft spoken low...   \n",
       "2  ***SPOILER*** Do not read this, if you think about watching that movie, although it would be a waste of time. (By the way: The plot is so predicta...   \n",
       "3  hi for all the people who have seen this wonderful movie im sure thet you would have liked it as much as i. i love the songs once you have seen th...   \n",
       "4  I recently bought the DVD, forgetting just how much I hated the movie version of \"A Chorus Line.\" Every change the director Attenborough made to t...   \n",
       "\n",
       "   sentiment  \n",
       "0          1  \n",
       "1          0  \n",
       "2          0  \n",
       "3          1  \n",
       "4          0  "
      ]
     },
     "execution_count": 24,
     "metadata": {},
     "output_type": "execute_result"
    }
   ],
   "source": [
    "train = df[:25000]\n",
    "\n",
    "print(train.shape)\n",
    "train.head()"
   ]
  },
  {
   "cell_type": "code",
   "execution_count": 25,
   "id": "7891cec5",
   "metadata": {
    "execution": {
     "iopub.execute_input": "2021-10-04T01:20:29.440594Z",
     "iopub.status.busy": "2021-10-04T01:20:29.439817Z",
     "iopub.status.idle": "2021-10-04T01:20:29.444142Z",
     "shell.execute_reply": "2021-10-04T01:20:29.444537Z",
     "shell.execute_reply.started": "2021-09-21T04:10:49.80177Z"
    },
    "papermill": {
     "duration": 0.05746,
     "end_time": "2021-10-04T01:20:29.444668",
     "exception": false,
     "start_time": "2021-10-04T01:20:29.387208",
     "status": "completed"
    },
    "tags": []
   },
   "outputs": [
    {
     "data": {
      "text/plain": [
       "'In 1974, the teenager Martha Moxley (Maggie Grace) moves to the high-class area of Belle Haven, Greenwich, Connecticut. On the Mischief Night, eve of Halloween, she was murdered in the backyard of her house and her murder remained unsolved. Twenty-two years later, the writer Mark Fuhrman (Christopher Meloni), who is a former LA detective that has fallen in disgrace for perjury in O.J. Simpson trial and moved to Idaho, decides to investigate the case with his partner Stephen Weeks (Andrew Mitchell) with the purpose of writing a book. The locals squirm and do not welcome them, but with the support of the retired detective Steve Carroll (Robert Forster) that was in charge of the investigation in the 70\\'s, they discover the criminal and a net of power and money to cover the murder.<br /><br />\"Murder in Greenwich\" is a good TV movie, with the true story of a murder of a fifteen years old girl that was committed by a wealthy teenager whose mother was a Kennedy. The powerful and rich family used their influence to cover the murder for more than twenty years. However, a snoopy detective and convicted perjurer in disgrace was able to disclose how the hideous crime was committed. The screenplay shows the investigation of Mark and the last days of Martha in parallel, but there is a lack of the emotion in the dramatization. My vote is seven.<br /><br />Title (Brazil): Not Available'"
      ]
     },
     "execution_count": 25,
     "metadata": {},
     "output_type": "execute_result"
    }
   ],
   "source": [
    "train.loc[0, 'review']"
   ]
  },
  {
   "cell_type": "code",
   "execution_count": 26,
   "id": "38c2cbe3",
   "metadata": {
    "execution": {
     "iopub.execute_input": "2021-10-04T01:20:29.551449Z",
     "iopub.status.busy": "2021-10-04T01:20:29.550571Z",
     "iopub.status.idle": "2021-10-04T01:20:29.555529Z",
     "shell.execute_reply": "2021-10-04T01:20:29.556107Z",
     "shell.execute_reply.started": "2021-09-21T04:10:49.811625Z"
    },
    "papermill": {
     "duration": 0.062651,
     "end_time": "2021-10-04T01:20:29.556259",
     "exception": false,
     "start_time": "2021-10-04T01:20:29.493608",
     "status": "completed"
    },
    "tags": []
   },
   "outputs": [
    {
     "name": "stdout",
     "output_type": "stream",
     "text": [
      "(10, 2)\n"
     ]
    },
    {
     "data": {
      "text/html": [
       "<div>\n",
       "<style scoped>\n",
       "    .dataframe tbody tr th:only-of-type {\n",
       "        vertical-align: middle;\n",
       "    }\n",
       "\n",
       "    .dataframe tbody tr th {\n",
       "        vertical-align: top;\n",
       "    }\n",
       "\n",
       "    .dataframe thead th {\n",
       "        text-align: right;\n",
       "    }\n",
       "</style>\n",
       "<table border=\"1\" class=\"dataframe\">\n",
       "  <thead>\n",
       "    <tr style=\"text-align: right;\">\n",
       "      <th></th>\n",
       "      <th>review</th>\n",
       "      <th>sentiment</th>\n",
       "    </tr>\n",
       "  </thead>\n",
       "  <tbody>\n",
       "    <tr>\n",
       "      <th>25000</th>\n",
       "      <td>There's a part of me that would like to give this movie a high rating. Considering that it was made in 1953, this is a very courageous movie about...</td>\n",
       "      <td>0</td>\n",
       "    </tr>\n",
       "    <tr>\n",
       "      <th>25001</th>\n",
       "      <td>Excellent and moving story of the end of a uniquely intimate affair. Then again, the point of the film, to paraphrase another comment, is that eve...</td>\n",
       "      <td>1</td>\n",
       "    </tr>\n",
       "    <tr>\n",
       "      <th>25002</th>\n",
       "      <td>Surprisingly well-acted, well-written movie about hard rockin'-but-decent young man getting that much-hoped-for ticket to stardom: his favorite he...</td>\n",
       "      <td>1</td>\n",
       "    </tr>\n",
       "    <tr>\n",
       "      <th>25003</th>\n",
       "      <td>What garbage, is there actually no part II? If this movie actually ends the way it did, everyone involved with this movie should be ashamed. This ...</td>\n",
       "      <td>0</td>\n",
       "    </tr>\n",
       "    <tr>\n",
       "      <th>25004</th>\n",
       "      <td>Basically, this was obviously designed to be promotional material for the movie produced by the same horrible director, which happens to be even w...</td>\n",
       "      <td>0</td>\n",
       "    </tr>\n",
       "    <tr>\n",
       "      <th>25005</th>\n",
       "      <td>Robot Jox doesn't suffer from story or bad effects. I mean, this was 1990 if you know what I'm talking about. RoboCop 2 still used the stop animat...</td>\n",
       "      <td>1</td>\n",
       "    </tr>\n",
       "    <tr>\n",
       "      <th>25006</th>\n",
       "      <td>I'm sorry to say this, but the acting in this film is horrible. The dialogue sounds as if they are reading their lines for the first time ever. Pe...</td>\n",
       "      <td>0</td>\n",
       "    </tr>\n",
       "    <tr>\n",
       "      <th>25007</th>\n",
       "      <td>Greystoke: The Legend of Tarzan, Lord of the Apes is based on the classic book Tarzan of the Apes by Edgar Rice Burroughs and is a more faithful a...</td>\n",
       "      <td>1</td>\n",
       "    </tr>\n",
       "    <tr>\n",
       "      <th>25008</th>\n",
       "      <td>I searched for this movie for years, apparently it ain't available here in the States so bought me a copy off Ebay.&lt;br /&gt;&lt;br /&gt;Four young hunters ...</td>\n",
       "      <td>1</td>\n",
       "    </tr>\n",
       "    <tr>\n",
       "      <th>25009</th>\n",
       "      <td>Once again, Disney manages to make a children's movie which totally ignores its background. About the only thing common with this and the original...</td>\n",
       "      <td>0</td>\n",
       "    </tr>\n",
       "  </tbody>\n",
       "</table>\n",
       "</div>"
      ],
      "text/plain": [
       "                                                                                                                                                      review  \\\n",
       "25000  There's a part of me that would like to give this movie a high rating. Considering that it was made in 1953, this is a very courageous movie about...   \n",
       "25001  Excellent and moving story of the end of a uniquely intimate affair. Then again, the point of the film, to paraphrase another comment, is that eve...   \n",
       "25002  Surprisingly well-acted, well-written movie about hard rockin'-but-decent young man getting that much-hoped-for ticket to stardom: his favorite he...   \n",
       "25003  What garbage, is there actually no part II? If this movie actually ends the way it did, everyone involved with this movie should be ashamed. This ...   \n",
       "25004  Basically, this was obviously designed to be promotional material for the movie produced by the same horrible director, which happens to be even w...   \n",
       "25005  Robot Jox doesn't suffer from story or bad effects. I mean, this was 1990 if you know what I'm talking about. RoboCop 2 still used the stop animat...   \n",
       "25006  I'm sorry to say this, but the acting in this film is horrible. The dialogue sounds as if they are reading their lines for the first time ever. Pe...   \n",
       "25007  Greystoke: The Legend of Tarzan, Lord of the Apes is based on the classic book Tarzan of the Apes by Edgar Rice Burroughs and is a more faithful a...   \n",
       "25008  I searched for this movie for years, apparently it ain't available here in the States so bought me a copy off Ebay.<br /><br />Four young hunters ...   \n",
       "25009  Once again, Disney manages to make a children's movie which totally ignores its background. About the only thing common with this and the original...   \n",
       "\n",
       "       sentiment  \n",
       "25000          0  \n",
       "25001          1  \n",
       "25002          1  \n",
       "25003          0  \n",
       "25004          0  \n",
       "25005          1  \n",
       "25006          0  \n",
       "25007          1  \n",
       "25008          1  \n",
       "25009          0  "
      ]
     },
     "execution_count": 26,
     "metadata": {},
     "output_type": "execute_result"
    }
   ],
   "source": [
    "test = df[25000:25010]\n",
    "\n",
    "print(test.shape)\n",
    "test.head(10)"
   ]
  },
  {
   "cell_type": "code",
   "execution_count": 27,
   "id": "fb3bc8e7",
   "metadata": {
    "execution": {
     "iopub.execute_input": "2021-10-04T01:20:29.660842Z",
     "iopub.status.busy": "2021-10-04T01:20:29.660119Z",
     "iopub.status.idle": "2021-10-04T01:20:29.662799Z",
     "shell.execute_reply": "2021-10-04T01:20:29.662373Z",
     "shell.execute_reply.started": "2021-09-21T04:10:49.825487Z"
    },
    "papermill": {
     "duration": 0.056058,
     "end_time": "2021-10-04T01:20:29.662905",
     "exception": false,
     "start_time": "2021-10-04T01:20:29.606847",
     "status": "completed"
    },
    "tags": []
   },
   "outputs": [],
   "source": [
    "test_review = test['review']"
   ]
  },
  {
   "cell_type": "code",
   "execution_count": 28,
   "id": "30d3bfd8",
   "metadata": {
    "execution": {
     "iopub.execute_input": "2021-10-04T01:20:29.766220Z",
     "iopub.status.busy": "2021-10-04T01:20:29.765388Z",
     "iopub.status.idle": "2021-10-04T01:20:29.775899Z",
     "shell.execute_reply": "2021-10-04T01:20:29.775299Z",
     "shell.execute_reply.started": "2021-09-21T04:10:49.833274Z"
    },
    "papermill": {
     "duration": 0.063496,
     "end_time": "2021-10-04T01:20:29.776033",
     "exception": false,
     "start_time": "2021-10-04T01:20:29.712537",
     "status": "completed"
    },
    "tags": []
   },
   "outputs": [
    {
     "name": "stdout",
     "output_type": "stream",
     "text": [
      "(25010, 2)\n"
     ]
    },
    {
     "data": {
      "text/html": [
       "<div>\n",
       "<style scoped>\n",
       "    .dataframe tbody tr th:only-of-type {\n",
       "        vertical-align: middle;\n",
       "    }\n",
       "\n",
       "    .dataframe tbody tr th {\n",
       "        vertical-align: top;\n",
       "    }\n",
       "\n",
       "    .dataframe thead th {\n",
       "        text-align: right;\n",
       "    }\n",
       "</style>\n",
       "<table border=\"1\" class=\"dataframe\">\n",
       "  <thead>\n",
       "    <tr style=\"text-align: right;\">\n",
       "      <th></th>\n",
       "      <th>review</th>\n",
       "      <th>sentiment</th>\n",
       "    </tr>\n",
       "  </thead>\n",
       "  <tbody>\n",
       "    <tr>\n",
       "      <th>0</th>\n",
       "      <td>In 1974, the teenager Martha Moxley (Maggie Grace) moves to the high-class area of Belle Haven, Greenwich, Connecticut. On the Mischief Night, eve...</td>\n",
       "      <td>1</td>\n",
       "    </tr>\n",
       "    <tr>\n",
       "      <th>1</th>\n",
       "      <td>OK... so... I really like Kris Kristofferson and his usual easy going delivery of lines in his movies. Age has helped him with his soft spoken low...</td>\n",
       "      <td>0</td>\n",
       "    </tr>\n",
       "    <tr>\n",
       "      <th>2</th>\n",
       "      <td>***SPOILER*** Do not read this, if you think about watching that movie, although it would be a waste of time. (By the way: The plot is so predicta...</td>\n",
       "      <td>0</td>\n",
       "    </tr>\n",
       "    <tr>\n",
       "      <th>3</th>\n",
       "      <td>hi for all the people who have seen this wonderful movie im sure thet you would have liked it as much as i. i love the songs once you have seen th...</td>\n",
       "      <td>1</td>\n",
       "    </tr>\n",
       "    <tr>\n",
       "      <th>4</th>\n",
       "      <td>I recently bought the DVD, forgetting just how much I hated the movie version of \"A Chorus Line.\" Every change the director Attenborough made to t...</td>\n",
       "      <td>0</td>\n",
       "    </tr>\n",
       "  </tbody>\n",
       "</table>\n",
       "</div>"
      ],
      "text/plain": [
       "                                                                                                                                                  review  \\\n",
       "0  In 1974, the teenager Martha Moxley (Maggie Grace) moves to the high-class area of Belle Haven, Greenwich, Connecticut. On the Mischief Night, eve...   \n",
       "1  OK... so... I really like Kris Kristofferson and his usual easy going delivery of lines in his movies. Age has helped him with his soft spoken low...   \n",
       "2  ***SPOILER*** Do not read this, if you think about watching that movie, although it would be a waste of time. (By the way: The plot is so predicta...   \n",
       "3  hi for all the people who have seen this wonderful movie im sure thet you would have liked it as much as i. i love the songs once you have seen th...   \n",
       "4  I recently bought the DVD, forgetting just how much I hated the movie version of \"A Chorus Line.\" Every change the director Attenborough made to t...   \n",
       "\n",
       "   sentiment  \n",
       "0          1  \n",
       "1          0  \n",
       "2          0  \n",
       "3          1  \n",
       "4          0  "
      ]
     },
     "execution_count": 28,
     "metadata": {},
     "output_type": "execute_result"
    }
   ],
   "source": [
    "data = pd.concat([train, test], axis=0)\n",
    "\n",
    "print(data.shape)\n",
    "data.head()"
   ]
  },
  {
   "cell_type": "code",
   "execution_count": 29,
   "id": "32cdb2e8",
   "metadata": {
    "execution": {
     "iopub.execute_input": "2021-10-04T01:20:29.880295Z",
     "iopub.status.busy": "2021-10-04T01:20:29.879493Z",
     "iopub.status.idle": "2021-10-04T01:20:29.882263Z",
     "shell.execute_reply": "2021-10-04T01:20:29.881847Z",
     "shell.execute_reply.started": "2021-09-21T04:10:49.848944Z"
    },
    "papermill": {
     "duration": 0.056176,
     "end_time": "2021-10-04T01:20:29.882359",
     "exception": false,
     "start_time": "2021-10-04T01:20:29.826183",
     "status": "completed"
    },
    "tags": []
   },
   "outputs": [],
   "source": [
    "X = data['review']\n",
    "y = data['sentiment']"
   ]
  },
  {
   "cell_type": "code",
   "execution_count": 30,
   "id": "10becc91",
   "metadata": {
    "_kg_hide-output": false,
    "execution": {
     "iopub.execute_input": "2021-10-04T01:20:30.007233Z",
     "iopub.status.busy": "2021-10-04T01:20:29.986357Z",
     "iopub.status.idle": "2021-10-04T01:20:34.060944Z",
     "shell.execute_reply": "2021-10-04T01:20:34.061618Z",
     "shell.execute_reply.started": "2021-09-21T04:10:49.855925Z"
    },
    "papermill": {
     "duration": 4.12956,
     "end_time": "2021-10-04T01:20:34.061855",
     "exception": false,
     "start_time": "2021-10-04T01:20:29.932295",
     "status": "completed"
    },
    "tags": []
   },
   "outputs": [
    {
     "name": "stdout",
     "output_type": "stream",
     "text": [
      "(25010,)\n"
     ]
    },
    {
     "data": {
      "text/html": [
       "<div>\n",
       "<style scoped>\n",
       "    .dataframe tbody tr th:only-of-type {\n",
       "        vertical-align: middle;\n",
       "    }\n",
       "\n",
       "    .dataframe tbody tr th {\n",
       "        vertical-align: top;\n",
       "    }\n",
       "\n",
       "    .dataframe thead th {\n",
       "        text-align: right;\n",
       "    }\n",
       "</style>\n",
       "<table border=\"1\" class=\"dataframe\">\n",
       "  <thead>\n",
       "    <tr style=\"text-align: right;\">\n",
       "      <th></th>\n",
       "      <th>review</th>\n",
       "    </tr>\n",
       "  </thead>\n",
       "  <tbody>\n",
       "    <tr>\n",
       "      <th>0</th>\n",
       "      <td>in 1974 the teenager martha moxley maggie grace moves to the high class area of belle haven greenwich connecticut on the mischief night eve of hal...</td>\n",
       "    </tr>\n",
       "    <tr>\n",
       "      <th>1</th>\n",
       "      <td>ok so i really like kris kristofferson and his usual easy going delivery of lines in his movies age has helped him with his soft spoken low energy...</td>\n",
       "    </tr>\n",
       "    <tr>\n",
       "      <th>2</th>\n",
       "      <td>spoiler do not read this if you think about watching that movie although it would be a waste of time by the way the plot is so predictable that i...</td>\n",
       "    </tr>\n",
       "    <tr>\n",
       "      <th>3</th>\n",
       "      <td>hi for all the people who have seen this wonderful movie im sure thet you would have liked it as much as i i love the songs once you have seen the...</td>\n",
       "    </tr>\n",
       "    <tr>\n",
       "      <th>4</th>\n",
       "      <td>i recently bought the dvd forgetting just how much i hated the movie version of a chorus line every change the director attenborough made to the s...</td>\n",
       "    </tr>\n",
       "  </tbody>\n",
       "</table>\n",
       "</div>"
      ],
      "text/plain": [
       "                                                                                                                                                  review\n",
       "0  in 1974 the teenager martha moxley maggie grace moves to the high class area of belle haven greenwich connecticut on the mischief night eve of hal...\n",
       "1  ok so i really like kris kristofferson and his usual easy going delivery of lines in his movies age has helped him with his soft spoken low energy...\n",
       "2   spoiler do not read this if you think about watching that movie although it would be a waste of time by the way the plot is so predictable that i...\n",
       "3  hi for all the people who have seen this wonderful movie im sure thet you would have liked it as much as i i love the songs once you have seen the...\n",
       "4  i recently bought the dvd forgetting just how much i hated the movie version of a chorus line every change the director attenborough made to the s..."
      ]
     },
     "execution_count": 30,
     "metadata": {},
     "output_type": "execute_result"
    }
   ],
   "source": [
    "X = X.apply(lambda x: preprocessor(x))\n",
    "\n",
    "print(X.shape)\n",
    "pd.DataFrame(X).head()"
   ]
  },
  {
   "cell_type": "markdown",
   "id": "fbd17028",
   "metadata": {
    "execution": {
     "iopub.status.busy": "2021-09-21T04:17:01.4969Z",
     "iopub.status.idle": "2021-09-21T04:17:01.497518Z"
    },
    "papermill": {
     "duration": 0.053625,
     "end_time": "2021-10-04T01:20:34.169228",
     "exception": false,
     "start_time": "2021-10-04T01:20:34.115603",
     "status": "completed"
    },
    "tags": []
   },
   "source": [
    "TF-IDFの算出と、トークン化を同時に行う。"
   ]
  },
  {
   "cell_type": "code",
   "execution_count": 31,
   "id": "0463df31",
   "metadata": {
    "_kg_hide-output": false,
    "execution": {
     "iopub.execute_input": "2021-10-04T01:20:34.336528Z",
     "iopub.status.busy": "2021-10-04T01:20:34.331941Z",
     "iopub.status.idle": "2021-10-04T01:22:43.317906Z",
     "shell.execute_reply": "2021-10-04T01:22:43.317391Z",
     "shell.execute_reply.started": "2021-09-21T04:10:53.783943Z"
    },
    "papermill": {
     "duration": 129.096825,
     "end_time": "2021-10-04T01:22:43.318052",
     "exception": false,
     "start_time": "2021-10-04T01:20:34.221227",
     "status": "completed"
    },
    "tags": []
   },
   "outputs": [
    {
     "name": "stderr",
     "output_type": "stream",
     "text": [
      "/opt/conda/lib/python3.7/site-packages/sklearn/feature_extraction/text.py:386: UserWarning: Your stop_words may be inconsistent with your preprocessing. Tokenizing the stop words generated tokens ['abov', 'afterward', 'alon', 'alreadi', 'alway', 'ani', 'anoth', 'anyon', 'anyth', 'anywher', 'becam', 'becaus', 'becom', 'befor', 'besid', 'cri', 'describ', 'dure', 'els', 'elsewher', 'empti', 'everi', 'everyon', 'everyth', 'everywher', 'fifti', 'formerli', 'forti', 'ha', 'henc', 'hereaft', 'herebi', 'hi', 'howev', 'hundr', 'inde', 'latterli', 'mani', 'meanwhil', 'moreov', 'mostli', 'nobodi', 'noon', 'noth', 'nowher', 'onc', 'onli', 'otherwis', 'ourselv', 'perhap', 'pleas', 'seriou', 'sever', 'sinc', 'sincer', 'sixti', 'someon', 'someth', 'sometim', 'somewher', 'themselv', 'thenc', 'thereaft', 'therebi', 'therefor', 'thi', 'thu', 'togeth', 'twelv', 'twenti', 'veri', 'wa', 'whatev', 'whenc', 'whenev', 'wherea', 'whereaft', 'wherebi', 'wherev', 'whi', 'yourselv'] not in stop_words.\n",
      "  'stop_words.' % sorted(inconsistent))\n"
     ]
    }
   ],
   "source": [
    "tv = TfidfVectorizer(tokenizer=tokenizer_porter, stop_words='english')\n",
    "X = tv.fit_transform(X)"
   ]
  },
  {
   "cell_type": "code",
   "execution_count": 32,
   "id": "e01c2a4d",
   "metadata": {
    "execution": {
     "iopub.execute_input": "2021-10-04T01:22:43.426933Z",
     "iopub.status.busy": "2021-10-04T01:22:43.426124Z",
     "iopub.status.idle": "2021-10-04T01:22:43.449266Z",
     "shell.execute_reply": "2021-10-04T01:22:43.448825Z",
     "shell.execute_reply.started": "2021-09-21T04:13:00.748082Z"
    },
    "papermill": {
     "duration": 0.078841,
     "end_time": "2021-10-04T01:22:43.449382",
     "exception": false,
     "start_time": "2021-10-04T01:22:43.370541",
     "status": "completed"
    },
    "tags": []
   },
   "outputs": [
    {
     "name": "stdout",
     "output_type": "stream",
     "text": [
      "(10, 54274)\n"
     ]
    }
   ],
   "source": [
    "X_train = X[:25000]\n",
    "y_train = y[:25000]\n",
    "X_test = X[25000:]\n",
    "y_test = y[25000:]\n",
    "\n",
    "print(X_test.shape)"
   ]
  },
  {
   "cell_type": "code",
   "execution_count": 33,
   "id": "93e041c6",
   "metadata": {
    "_kg_hide-output": true,
    "execution": {
     "iopub.execute_input": "2021-10-04T01:22:43.558676Z",
     "iopub.status.busy": "2021-10-04T01:22:43.557898Z",
     "iopub.status.idle": "2021-10-04T01:22:43.561531Z",
     "shell.execute_reply": "2021-10-04T01:22:43.561143Z",
     "shell.execute_reply.started": "2021-09-21T04:17:18.817116Z"
    },
    "papermill": {
     "duration": 0.060605,
     "end_time": "2021-10-04T01:22:43.561656",
     "exception": false,
     "start_time": "2021-10-04T01:22:43.501051",
     "status": "completed"
    },
    "tags": []
   },
   "outputs": [
    {
     "data": {
      "text/plain": [
       "\"\\nX_tr, X_val, y_tr, y_val = train_test_split(X_train, y_train, test_size=0.2, random_state=666)\\n\\ndef create_model(trial):\\n    num_leaves = trial.suggest_int('num_leaves', 2, 30)\\n    n_estimators = trial.suggest_int('n_estimators', 50, 300)\\n    learning_rate = trial.suggest_uniform('learning_rate', 0.0001, 0.99)\\n    max_depth = trial.suggest_int('max_depth', 2, 10)\\n    min_child_samples = trial.suggest_int('min_child_samples', 100, 1200)\\n    min_data_in_leaf = trial.suggest_int('min_data_in_leaf', 5, 90)\\n    bagging_freq = trial.suggest_int('bagging_freq', 1, 7)\\n    bagging_fraction = trial.suggest_uniform('bagging_fraction', 0.0001, 1.0)\\n    feature_fraction = trial.suggest_uniform('feature_fraction', 0.0001, 1.0)\\n    subsample = trial.suggest_uniform('subsample', 0.1, 1.0)\\n    colsample_bytree = trial.suggest_uniform('colsample_bytree', 0.1, 1.0)\\n    \\n    model = lgb.LGBMClassifier(\\n        num_leaves=num_leaves,\\n        n_estimators=n_estimators,\\n        learning_rate=learning_rate,\\n        max_depth=max_depth, \\n        min_child_samples=min_child_samples, \\n        min_data_in_leaf=min_data_in_leaf,\\n        bagging_freq=bagging_freq,\\n        bagging_fraction=bagging_fraction,\\n        feature_fraction=feature_fraction,\\n        subsample=subsample,\\n        colsample_bytree=colsample_bytree,\\n        random_state=666)\\n    return model\\n\\ndef objective(trial):\\n    model = create_model(trial)\\n    model.fit(X_tr, y_tr)\\n    y_pred = model.predict(X_val)\\n    accuracy = accuracy_score(y_val, y_pred)\\n    return accuracy\\n\\nstudy = optuna.create_study(direction='maximize')\\nstudy.optimize(objective, n_trials=40)\\nparams = study.best_params\\nprint(params)\\n\""
      ]
     },
     "execution_count": 33,
     "metadata": {},
     "output_type": "execute_result"
    }
   ],
   "source": [
    "'''\n",
    "X_tr, X_val, y_tr, y_val = train_test_split(X_train, y_train, test_size=0.2, random_state=666)\n",
    "\n",
    "def create_model(trial):\n",
    "    num_leaves = trial.suggest_int('num_leaves', 2, 30)\n",
    "    n_estimators = trial.suggest_int('n_estimators', 50, 300)\n",
    "    learning_rate = trial.suggest_uniform('learning_rate', 0.0001, 0.99)\n",
    "    max_depth = trial.suggest_int('max_depth', 2, 10)\n",
    "    min_child_samples = trial.suggest_int('min_child_samples', 100, 1200)\n",
    "    min_data_in_leaf = trial.suggest_int('min_data_in_leaf', 5, 90)\n",
    "    bagging_freq = trial.suggest_int('bagging_freq', 1, 7)\n",
    "    bagging_fraction = trial.suggest_uniform('bagging_fraction', 0.0001, 1.0)\n",
    "    feature_fraction = trial.suggest_uniform('feature_fraction', 0.0001, 1.0)\n",
    "    subsample = trial.suggest_uniform('subsample', 0.1, 1.0)\n",
    "    colsample_bytree = trial.suggest_uniform('colsample_bytree', 0.1, 1.0)\n",
    "    \n",
    "    model = lgb.LGBMClassifier(\n",
    "        num_leaves=num_leaves,\n",
    "        n_estimators=n_estimators,\n",
    "        learning_rate=learning_rate,\n",
    "        max_depth=max_depth, \n",
    "        min_child_samples=min_child_samples, \n",
    "        min_data_in_leaf=min_data_in_leaf,\n",
    "        bagging_freq=bagging_freq,\n",
    "        bagging_fraction=bagging_fraction,\n",
    "        feature_fraction=feature_fraction,\n",
    "        subsample=subsample,\n",
    "        colsample_bytree=colsample_bytree,\n",
    "        random_state=666)\n",
    "    return model\n",
    "\n",
    "def objective(trial):\n",
    "    model = create_model(trial)\n",
    "    model.fit(X_tr, y_tr)\n",
    "    y_pred = model.predict(X_val)\n",
    "    accuracy = accuracy_score(y_val, y_pred)\n",
    "    return accuracy\n",
    "\n",
    "study = optuna.create_study(direction='maximize')\n",
    "study.optimize(objective, n_trials=40)\n",
    "params = study.best_params\n",
    "print(params)\n",
    "'''"
   ]
  },
  {
   "cell_type": "code",
   "execution_count": 34,
   "id": "92db8422",
   "metadata": {
    "execution": {
     "iopub.execute_input": "2021-10-04T01:22:43.707356Z",
     "iopub.status.busy": "2021-10-04T01:22:43.706842Z",
     "iopub.status.idle": "2021-10-04T01:22:43.710735Z",
     "shell.execute_reply": "2021-10-04T01:22:43.710308Z",
     "shell.execute_reply.started": "2021-09-21T04:32:59.278542Z"
    },
    "papermill": {
     "duration": 0.060331,
     "end_time": "2021-10-04T01:22:43.710838",
     "exception": false,
     "start_time": "2021-10-04T01:22:43.650507",
     "status": "completed"
    },
    "tags": []
   },
   "outputs": [],
   "source": [
    "params =  {'num_leaves': 15,\n",
    "           'n_estimators': 261,\n",
    "           'learning_rate': 0.20889849934915378,\n",
    "           'max_depth': 9,\n",
    "           'min_child_samples': 539,\n",
    "           'min_data_in_leaf': 51,\n",
    "           'bagging_freq': 5,\n",
    "           'bagging_fraction': 0.6471599134667355,\n",
    "           'feature_fraction': 0.7844921786683485,\n",
    "           'subsample': 0.8286584823998,\n",
    "           'colsample_bytree': 0.7804281493256859,\n",
    "           'random_state': 666}"
   ]
  },
  {
   "cell_type": "code",
   "execution_count": 35,
   "id": "af356747",
   "metadata": {
    "_kg_hide-output": true,
    "execution": {
     "iopub.execute_input": "2021-10-04T01:22:43.819930Z",
     "iopub.status.busy": "2021-10-04T01:22:43.819108Z",
     "iopub.status.idle": "2021-10-04T01:23:10.971962Z",
     "shell.execute_reply": "2021-10-04T01:23:10.971303Z",
     "shell.execute_reply.started": "2021-09-21T04:33:01.751233Z"
    },
    "papermill": {
     "duration": 27.208965,
     "end_time": "2021-10-04T01:23:10.972108",
     "exception": false,
     "start_time": "2021-10-04T01:22:43.763143",
     "status": "completed"
    },
    "tags": []
   },
   "outputs": [
    {
     "name": "stdout",
     "output_type": "stream",
     "text": [
      "[LightGBM] [Warning] bagging_fraction is set=0.6471599134667355, subsample=0.8286584823998 will be ignored. Current value: bagging_fraction=0.6471599134667355\n",
      "[LightGBM] [Warning] feature_fraction is set=0.7844921786683485, colsample_bytree=0.7804281493256859 will be ignored. Current value: feature_fraction=0.7844921786683485\n",
      "[LightGBM] [Warning] bagging_freq is set=5, subsample_freq=0 will be ignored. Current value: bagging_freq=5\n",
      "[LightGBM] [Warning] min_data_in_leaf is set=51, min_child_samples=539 will be ignored. Current value: min_data_in_leaf=51\n"
     ]
    },
    {
     "data": {
      "text/plain": [
       "LGBMClassifier(bagging_fraction=0.6471599134667355, bagging_freq=5,\n",
       "               colsample_bytree=0.7804281493256859,\n",
       "               feature_fraction=0.7844921786683485,\n",
       "               learning_rate=0.20889849934915378, max_depth=9,\n",
       "               min_child_samples=539, min_data_in_leaf=51, n_estimators=261,\n",
       "               num_leaves=15, random_state=666, subsample=0.8286584823998)"
      ]
     },
     "execution_count": 35,
     "metadata": {},
     "output_type": "execute_result"
    }
   ],
   "source": [
    "cls = lgb.LGBMClassifier(**params)\n",
    "cls.fit(X_train, y_train)"
   ]
  },
  {
   "cell_type": "code",
   "execution_count": 36,
   "id": "72279c5b",
   "metadata": {
    "execution": {
     "iopub.execute_input": "2021-10-04T01:23:11.082013Z",
     "iopub.status.busy": "2021-10-04T01:23:11.081392Z",
     "iopub.status.idle": "2021-10-04T01:23:11.090587Z",
     "shell.execute_reply": "2021-10-04T01:23:11.091983Z",
     "shell.execute_reply.started": "2021-09-21T04:33:28.382186Z"
    },
    "papermill": {
     "duration": 0.067057,
     "end_time": "2021-10-04T01:23:11.092154",
     "exception": false,
     "start_time": "2021-10-04T01:23:11.025097",
     "status": "completed"
    },
    "tags": []
   },
   "outputs": [
    {
     "name": "stdout",
     "output_type": "stream",
     "text": [
      "(10, 54274)\n",
      "(10,)\n"
     ]
    }
   ],
   "source": [
    "y_pred = cls.predict(X_test)\n",
    "print(X_test.shape)\n",
    "print(y_pred.shape)"
   ]
  },
  {
   "cell_type": "code",
   "execution_count": 37,
   "id": "c2292ea7",
   "metadata": {
    "execution": {
     "iopub.execute_input": "2021-10-04T01:23:11.215461Z",
     "iopub.status.busy": "2021-10-04T01:23:11.214301Z",
     "iopub.status.idle": "2021-10-04T01:23:11.218141Z",
     "shell.execute_reply": "2021-10-04T01:23:11.218534Z",
     "shell.execute_reply.started": "2021-09-21T04:33:28.39234Z"
    },
    "papermill": {
     "duration": 0.07072,
     "end_time": "2021-10-04T01:23:11.218664",
     "exception": false,
     "start_time": "2021-10-04T01:23:11.147944",
     "status": "completed"
    },
    "tags": []
   },
   "outputs": [
    {
     "data": {
      "text/html": [
       "<div>\n",
       "<style scoped>\n",
       "    .dataframe tbody tr th:only-of-type {\n",
       "        vertical-align: middle;\n",
       "    }\n",
       "\n",
       "    .dataframe tbody tr th {\n",
       "        vertical-align: top;\n",
       "    }\n",
       "\n",
       "    .dataframe thead th {\n",
       "        text-align: right;\n",
       "    }\n",
       "</style>\n",
       "<table border=\"1\" class=\"dataframe\">\n",
       "  <thead>\n",
       "    <tr style=\"text-align: right;\">\n",
       "      <th></th>\n",
       "      <th>review</th>\n",
       "      <th>answer</th>\n",
       "      <th>prediction</th>\n",
       "    </tr>\n",
       "  </thead>\n",
       "  <tbody>\n",
       "    <tr>\n",
       "      <th>25000</th>\n",
       "      <td>There's a part of me that would like to give this movie a high rating. Considering that it was made in 1953, this is a very courageous movie about...</td>\n",
       "      <td>0</td>\n",
       "      <td>0</td>\n",
       "    </tr>\n",
       "    <tr>\n",
       "      <th>25001</th>\n",
       "      <td>Excellent and moving story of the end of a uniquely intimate affair. Then again, the point of the film, to paraphrase another comment, is that eve...</td>\n",
       "      <td>1</td>\n",
       "      <td>1</td>\n",
       "    </tr>\n",
       "    <tr>\n",
       "      <th>25002</th>\n",
       "      <td>Surprisingly well-acted, well-written movie about hard rockin'-but-decent young man getting that much-hoped-for ticket to stardom: his favorite he...</td>\n",
       "      <td>1</td>\n",
       "      <td>0</td>\n",
       "    </tr>\n",
       "    <tr>\n",
       "      <th>25003</th>\n",
       "      <td>What garbage, is there actually no part II? If this movie actually ends the way it did, everyone involved with this movie should be ashamed. This ...</td>\n",
       "      <td>0</td>\n",
       "      <td>0</td>\n",
       "    </tr>\n",
       "    <tr>\n",
       "      <th>25004</th>\n",
       "      <td>Basically, this was obviously designed to be promotional material for the movie produced by the same horrible director, which happens to be even w...</td>\n",
       "      <td>0</td>\n",
       "      <td>0</td>\n",
       "    </tr>\n",
       "    <tr>\n",
       "      <th>25005</th>\n",
       "      <td>Robot Jox doesn't suffer from story or bad effects. I mean, this was 1990 if you know what I'm talking about. RoboCop 2 still used the stop animat...</td>\n",
       "      <td>1</td>\n",
       "      <td>1</td>\n",
       "    </tr>\n",
       "    <tr>\n",
       "      <th>25006</th>\n",
       "      <td>I'm sorry to say this, but the acting in this film is horrible. The dialogue sounds as if they are reading their lines for the first time ever. Pe...</td>\n",
       "      <td>0</td>\n",
       "      <td>0</td>\n",
       "    </tr>\n",
       "    <tr>\n",
       "      <th>25007</th>\n",
       "      <td>Greystoke: The Legend of Tarzan, Lord of the Apes is based on the classic book Tarzan of the Apes by Edgar Rice Burroughs and is a more faithful a...</td>\n",
       "      <td>1</td>\n",
       "      <td>1</td>\n",
       "    </tr>\n",
       "    <tr>\n",
       "      <th>25008</th>\n",
       "      <td>I searched for this movie for years, apparently it ain't available here in the States so bought me a copy off Ebay.&lt;br /&gt;&lt;br /&gt;Four young hunters ...</td>\n",
       "      <td>1</td>\n",
       "      <td>0</td>\n",
       "    </tr>\n",
       "    <tr>\n",
       "      <th>25009</th>\n",
       "      <td>Once again, Disney manages to make a children's movie which totally ignores its background. About the only thing common with this and the original...</td>\n",
       "      <td>0</td>\n",
       "      <td>0</td>\n",
       "    </tr>\n",
       "  </tbody>\n",
       "</table>\n",
       "</div>"
      ],
      "text/plain": [
       "                                                                                                                                                      review  \\\n",
       "25000  There's a part of me that would like to give this movie a high rating. Considering that it was made in 1953, this is a very courageous movie about...   \n",
       "25001  Excellent and moving story of the end of a uniquely intimate affair. Then again, the point of the film, to paraphrase another comment, is that eve...   \n",
       "25002  Surprisingly well-acted, well-written movie about hard rockin'-but-decent young man getting that much-hoped-for ticket to stardom: his favorite he...   \n",
       "25003  What garbage, is there actually no part II? If this movie actually ends the way it did, everyone involved with this movie should be ashamed. This ...   \n",
       "25004  Basically, this was obviously designed to be promotional material for the movie produced by the same horrible director, which happens to be even w...   \n",
       "25005  Robot Jox doesn't suffer from story or bad effects. I mean, this was 1990 if you know what I'm talking about. RoboCop 2 still used the stop animat...   \n",
       "25006  I'm sorry to say this, but the acting in this film is horrible. The dialogue sounds as if they are reading their lines for the first time ever. Pe...   \n",
       "25007  Greystoke: The Legend of Tarzan, Lord of the Apes is based on the classic book Tarzan of the Apes by Edgar Rice Burroughs and is a more faithful a...   \n",
       "25008  I searched for this movie for years, apparently it ain't available here in the States so bought me a copy off Ebay.<br /><br />Four young hunters ...   \n",
       "25009  Once again, Disney manages to make a children's movie which totally ignores its background. About the only thing common with this and the original...   \n",
       "\n",
       "       answer  prediction  \n",
       "25000       0           0  \n",
       "25001       1           1  \n",
       "25002       1           0  \n",
       "25003       0           0  \n",
       "25004       0           0  \n",
       "25005       1           1  \n",
       "25006       0           0  \n",
       "25007       1           1  \n",
       "25008       1           0  \n",
       "25009       0           0  "
      ]
     },
     "execution_count": 37,
     "metadata": {},
     "output_type": "execute_result"
    }
   ],
   "source": [
    "df = pd.DataFrame(test_review, columns=['review'])\n",
    "df['answer'] = y_test\n",
    "df['prediction'] = y_pred\n",
    "\n",
    "df.head(10)"
   ]
  },
  {
   "cell_type": "code",
   "execution_count": 38,
   "id": "db34e792",
   "metadata": {
    "execution": {
     "iopub.execute_input": "2021-10-04T01:23:11.333078Z",
     "iopub.status.busy": "2021-10-04T01:23:11.332212Z",
     "iopub.status.idle": "2021-10-04T01:23:11.336565Z",
     "shell.execute_reply": "2021-10-04T01:23:11.335967Z",
     "shell.execute_reply.started": "2021-09-21T04:33:28.410934Z"
    },
    "papermill": {
     "duration": 0.063531,
     "end_time": "2021-10-04T01:23:11.336709",
     "exception": false,
     "start_time": "2021-10-04T01:23:11.273178",
     "status": "completed"
    },
    "tags": []
   },
   "outputs": [
    {
     "name": "stdout",
     "output_type": "stream",
     "text": [
      "精度: 80.0 %\n"
     ]
    }
   ],
   "source": [
    "print('精度:', accuracy_score(y_test, y_pred)*100, '%')"
   ]
  }
 ],
 "metadata": {
  "kernelspec": {
   "display_name": "Python 3",
   "language": "python",
   "name": "python3"
  },
  "language_info": {
   "codemirror_mode": {
    "name": "ipython",
    "version": 3
   },
   "file_extension": ".py",
   "mimetype": "text/x-python",
   "name": "python",
   "nbconvert_exporter": "python",
   "pygments_lexer": "ipython3",
   "version": "3.7.10"
  },
  "papermill": {
   "default_parameters": {},
   "duration": 189.736354,
   "end_time": "2021-10-04T01:23:12.400330",
   "environment_variables": {},
   "exception": null,
   "input_path": "__notebook__.ipynb",
   "output_path": "__notebook__.ipynb",
   "parameters": {},
   "start_time": "2021-10-04T01:20:02.663976",
   "version": "2.3.3"
  }
 },
 "nbformat": 4,
 "nbformat_minor": 5
}
