{
 "cells": [
  {
   "cell_type": "markdown",
   "id": "786f7518",
   "metadata": {
    "_cell_guid": "b1076dfc-b9ad-4769-8c92-a6c4dae69d19",
    "_uuid": "8f2839f25d086af736a60e9eeb907d3b93b6e0e5",
    "papermill": {
     "duration": 0.045287,
     "end_time": "2021-08-03T23:49:59.402417",
     "exception": false,
     "start_time": "2021-08-03T23:49:59.357130",
     "status": "completed"
    },
    "tags": []
   },
   "source": [
    "# 自然言語処理 ー 感情分析"
   ]
  },
  {
   "cell_type": "markdown",
   "id": "9fad0152",
   "metadata": {
    "papermill": {
     "duration": 0.044557,
     "end_time": "2021-08-03T23:49:59.492870",
     "exception": false,
     "start_time": "2021-08-03T23:49:59.448313",
     "status": "completed"
    },
    "tags": []
   },
   "source": [
    "## 1.　自然言語処理の6ステップ"
   ]
  },
  {
   "cell_type": "markdown",
   "id": "8235ee9e",
   "metadata": {
    "papermill": {
     "duration": 0.069651,
     "end_time": "2021-08-03T23:49:59.616456",
     "exception": false,
     "start_time": "2021-08-03T23:49:59.546805",
     "status": "completed"
    },
    "tags": []
   },
   "source": [
    "#### ① 自然言語（文章）を用意\n",
    "　吾輩は猫である。"
   ]
  },
  {
   "cell_type": "markdown",
   "id": "02cf065e",
   "metadata": {
    "papermill": {
     "duration": 0.045321,
     "end_time": "2021-08-03T23:49:59.708486",
     "exception": false,
     "start_time": "2021-08-03T23:49:59.663165",
     "status": "completed"
    },
    "tags": []
   },
   "source": [
    "#### ② 単語ごとに区切る（形態素解析）\n",
    "　吾輩　／　は　／　猫　／　で　／　ある　／　。"
   ]
  },
  {
   "cell_type": "markdown",
   "id": "531af4a4",
   "metadata": {
    "papermill": {
     "duration": 0.056817,
     "end_time": "2021-08-03T23:49:59.822135",
     "exception": false,
     "start_time": "2021-08-03T23:49:59.765318",
     "status": "completed"
    },
    "tags": []
   },
   "source": [
    "#### ③ 助詞「「てにをは」などを削除する（データのクレンジング）\n",
    "　吾輩　／　猫　　　※それ以外は削除"
   ]
  },
  {
   "cell_type": "markdown",
   "id": "4b2d085f",
   "metadata": {
    "papermill": {
     "duration": 0.04391,
     "end_time": "2021-08-03T23:49:59.920527",
     "exception": false,
     "start_time": "2021-08-03T23:49:59.876617",
     "status": "completed"
    },
    "tags": []
   },
   "source": [
    "#### ④ 単語を原形（running→run など）に戻す（トークン化）\n",
    "　今回はなし"
   ]
  },
  {
   "cell_type": "markdown",
   "id": "c1aec0c6",
   "metadata": {
    "papermill": {
     "duration": 0.059272,
     "end_time": "2021-08-03T23:50:00.023704",
     "exception": false,
     "start_time": "2021-08-03T23:49:59.964432",
     "status": "completed"
    },
    "tags": []
   },
   "source": [
    "#### ⑤ 各語句の頻出度を求める（BoW）\n",
    "　吾輩：１　猫：1"
   ]
  },
  {
   "cell_type": "markdown",
   "id": "3b13f0ad",
   "metadata": {
    "papermill": {
     "duration": 0.043804,
     "end_time": "2021-08-03T23:50:00.129630",
     "exception": false,
     "start_time": "2021-08-03T23:50:00.085826",
     "status": "completed"
    },
    "tags": []
   },
   "source": [
    "#### ⑥ 各語句の重み（TF-IDF）を調べ、特徴語を決める\n",
    "　吾輩：xxx　、猫：xxxx　　　→　特徴語は「猫」"
   ]
  },
  {
   "cell_type": "markdown",
   "id": "3a8aeb49",
   "metadata": {
    "papermill": {
     "duration": 0.043528,
     "end_time": "2021-08-03T23:50:00.217058",
     "exception": false,
     "start_time": "2021-08-03T23:50:00.173530",
     "status": "completed"
    },
    "tags": []
   },
   "source": [
    "#### ⑦ 他の文章との区別（分類）を行う（ロジスティック回帰）\n",
    "　夏目漱石「吾輩は猫である」の特徴語：猫<br>\n",
    " 　森鴎外「舞姫」の特徴語：姫\n",
    "  \n",
    "　どちらかの小説の一文を投入する　→　この小説は「夏目漱石」の小説です"
   ]
  },
  {
   "cell_type": "markdown",
   "id": "4def51cf",
   "metadata": {
    "papermill": {
     "duration": 0.043555,
     "end_time": "2021-08-03T23:50:00.304810",
     "exception": false,
     "start_time": "2021-08-03T23:50:00.261255",
     "status": "completed"
    },
    "tags": []
   },
   "source": [
    "## 2.　IMDbデータセットの取得<br>"
   ]
  },
  {
   "cell_type": "markdown",
   "id": "331ec67e",
   "metadata": {
    "papermill": {
     "duration": 0.043535,
     "end_time": "2021-08-03T23:50:00.392400",
     "exception": false,
     "start_time": "2021-08-03T23:50:00.348865",
     "status": "completed"
    },
    "tags": []
   },
   "source": [
    "今回は、以下のデータセットを使用する。\n",
    "\n",
    "・[IMDb](http://ai.stanford.edu/~amaas/data/sentiment/)：映画レビューのデータセット"
   ]
  },
  {
   "cell_type": "code",
   "execution_count": 1,
   "id": "7f35f598",
   "metadata": {
    "_kg_hide-input": true,
    "execution": {
     "iopub.execute_input": "2021-08-03T23:50:00.493064Z",
     "iopub.status.busy": "2021-08-03T23:50:00.492521Z",
     "iopub.status.idle": "2021-08-03T23:50:01.934798Z",
     "shell.execute_reply": "2021-08-03T23:50:01.935882Z",
     "shell.execute_reply.started": "2021-08-03T23:43:43.367645Z"
    },
    "papermill": {
     "duration": 1.499687,
     "end_time": "2021-08-03T23:50:01.936241",
     "exception": false,
     "start_time": "2021-08-03T23:50:00.436554",
     "status": "completed"
    },
    "tags": []
   },
   "outputs": [],
   "source": [
    "import os\n",
    "import re\n",
    "import sys\n",
    "import tarfile\n",
    "import time\n",
    "import pyprind\n",
    "import numpy as np\n",
    "import pandas as pd\n",
    "import nltk\n",
    "\n",
    "from sklearn.feature_extraction.text import CountVectorizer\n",
    "from sklearn.feature_extraction.text import TfidfTransformer\n",
    "from nltk.stem.porter import PorterStemmer\n",
    "from nltk.corpus import stopwords\n",
    "from sklearn.pipeline import Pipeline\n",
    "from sklearn.linear_model import LogisticRegression\n",
    "from sklearn.feature_extraction.text import TfidfVectorizer\n",
    "from sklearn.model_selection import GridSearchCV"
   ]
  },
  {
   "cell_type": "code",
   "execution_count": 2,
   "id": "5bfd5728",
   "metadata": {
    "execution": {
     "iopub.execute_input": "2021-08-03T23:50:02.061580Z",
     "iopub.status.busy": "2021-08-03T23:50:02.061053Z",
     "iopub.status.idle": "2021-08-03T23:50:03.724504Z",
     "shell.execute_reply": "2021-08-03T23:50:03.724068Z",
     "shell.execute_reply.started": "2021-08-03T23:43:44.679821Z"
    },
    "papermill": {
     "duration": 1.711179,
     "end_time": "2021-08-03T23:50:03.724630",
     "exception": false,
     "start_time": "2021-08-03T23:50:02.013451",
     "status": "completed"
    },
    "tags": []
   },
   "outputs": [
    {
     "name": "stdout",
     "output_type": "stream",
     "text": [
      "(50000, 2)\n"
     ]
    },
    {
     "data": {
      "text/html": [
       "<div>\n",
       "<style scoped>\n",
       "    .dataframe tbody tr th:only-of-type {\n",
       "        vertical-align: middle;\n",
       "    }\n",
       "\n",
       "    .dataframe tbody tr th {\n",
       "        vertical-align: top;\n",
       "    }\n",
       "\n",
       "    .dataframe thead th {\n",
       "        text-align: right;\n",
       "    }\n",
       "</style>\n",
       "<table border=\"1\" class=\"dataframe\">\n",
       "  <thead>\n",
       "    <tr style=\"text-align: right;\">\n",
       "      <th></th>\n",
       "      <th>review</th>\n",
       "      <th>sentiment</th>\n",
       "    </tr>\n",
       "  </thead>\n",
       "  <tbody>\n",
       "    <tr>\n",
       "      <th>0</th>\n",
       "      <td>In 1974, the teenager Martha Moxley (Maggie Grace) moves to the high-class area of Belle Haven, Greenwich, Connecticut. On the Mischief Night, eve...</td>\n",
       "      <td>1</td>\n",
       "    </tr>\n",
       "    <tr>\n",
       "      <th>1</th>\n",
       "      <td>OK... so... I really like Kris Kristofferson and his usual easy going delivery of lines in his movies. Age has helped him with his soft spoken low...</td>\n",
       "      <td>0</td>\n",
       "    </tr>\n",
       "    <tr>\n",
       "      <th>2</th>\n",
       "      <td>***SPOILER*** Do not read this, if you think about watching that movie, although it would be a waste of time. (By the way: The plot is so predicta...</td>\n",
       "      <td>0</td>\n",
       "    </tr>\n",
       "    <tr>\n",
       "      <th>3</th>\n",
       "      <td>hi for all the people who have seen this wonderful movie im sure thet you would have liked it as much as i. i love the songs once you have seen th...</td>\n",
       "      <td>1</td>\n",
       "    </tr>\n",
       "    <tr>\n",
       "      <th>4</th>\n",
       "      <td>I recently bought the DVD, forgetting just how much I hated the movie version of \"A Chorus Line.\" Every change the director Attenborough made to t...</td>\n",
       "      <td>0</td>\n",
       "    </tr>\n",
       "    <tr>\n",
       "      <th>5</th>\n",
       "      <td>Leave it to Braik to put on a good show. Finally he and Zorak are living their own lives outside of Spac Ghost Coast To Coast. I have to say that ...</td>\n",
       "      <td>1</td>\n",
       "    </tr>\n",
       "    <tr>\n",
       "      <th>6</th>\n",
       "      <td>Nathan Detroit (Frank Sinatra) is the manager of the New York's longest- established floating craps game, and he needs $1000 to secure a new locat...</td>\n",
       "      <td>1</td>\n",
       "    </tr>\n",
       "    <tr>\n",
       "      <th>7</th>\n",
       "      <td>To understand \"Crash Course\" in the right context, you must understand the 80's in TV. Most TV shows didn't have any point. The sitcom outpopulate...</td>\n",
       "      <td>1</td>\n",
       "    </tr>\n",
       "    <tr>\n",
       "      <th>8</th>\n",
       "      <td>I've been impressed with Chavez's stance against globalisation for sometime now, but it wasn't until I saw the film at the Amsterdam documentary i...</td>\n",
       "      <td>1</td>\n",
       "    </tr>\n",
       "    <tr>\n",
       "      <th>9</th>\n",
       "      <td>This movie is directed by Renny Harlin the finnish miracle. Stallone is Gabe Walker. Cat and Mouse on the mountains with ruthless terrorists. Renn...</td>\n",
       "      <td>1</td>\n",
       "    </tr>\n",
       "  </tbody>\n",
       "</table>\n",
       "</div>"
      ],
      "text/plain": [
       "                                                                                                                                                  review  \\\n",
       "0  In 1974, the teenager Martha Moxley (Maggie Grace) moves to the high-class area of Belle Haven, Greenwich, Connecticut. On the Mischief Night, eve...   \n",
       "1  OK... so... I really like Kris Kristofferson and his usual easy going delivery of lines in his movies. Age has helped him with his soft spoken low...   \n",
       "2  ***SPOILER*** Do not read this, if you think about watching that movie, although it would be a waste of time. (By the way: The plot is so predicta...   \n",
       "3  hi for all the people who have seen this wonderful movie im sure thet you would have liked it as much as i. i love the songs once you have seen th...   \n",
       "4  I recently bought the DVD, forgetting just how much I hated the movie version of \"A Chorus Line.\" Every change the director Attenborough made to t...   \n",
       "5  Leave it to Braik to put on a good show. Finally he and Zorak are living their own lives outside of Spac Ghost Coast To Coast. I have to say that ...   \n",
       "6  Nathan Detroit (Frank Sinatra) is the manager of the New York's longest- established floating craps game, and he needs $1000 to secure a new locat...   \n",
       "7  To understand \"Crash Course\" in the right context, you must understand the 80's in TV. Most TV shows didn't have any point. The sitcom outpopulate...   \n",
       "8  I've been impressed with Chavez's stance against globalisation for sometime now, but it wasn't until I saw the film at the Amsterdam documentary i...   \n",
       "9  This movie is directed by Renny Harlin the finnish miracle. Stallone is Gabe Walker. Cat and Mouse on the mountains with ruthless terrorists. Renn...   \n",
       "\n",
       "   sentiment  \n",
       "0          1  \n",
       "1          0  \n",
       "2          0  \n",
       "3          1  \n",
       "4          0  \n",
       "5          1  \n",
       "6          1  \n",
       "7          1  \n",
       "8          1  \n",
       "9          1  "
      ]
     },
     "execution_count": 2,
     "metadata": {},
     "output_type": "execute_result"
    }
   ],
   "source": [
    "df = pd.read_csv('../input/movie-datacsv/movie_data.csv')\n",
    "print(df.shape)\n",
    "\n",
    "pd.set_option(\"display.max_colwidth\", 150)\n",
    "df.head(10)"
   ]
  },
  {
   "cell_type": "markdown",
   "id": "68bca535",
   "metadata": {
    "papermill": {
     "duration": 0.044494,
     "end_time": "2021-08-03T23:50:03.814893",
     "exception": false,
     "start_time": "2021-08-03T23:50:03.770399",
     "status": "completed"
    },
    "tags": []
   },
   "source": [
    "## 3.　BoWベクトル"
   ]
  },
  {
   "cell_type": "markdown",
   "id": "ff8bf4af",
   "metadata": {
    "papermill": {
     "duration": 0.044971,
     "end_time": "2021-08-03T23:50:03.904532",
     "exception": false,
     "start_time": "2021-08-03T23:50:03.859561",
     "status": "completed"
    },
    "tags": []
   },
   "source": [
    "文を数値化（ベクトル化）する方法として、**Bag of Words（BOW）**がある。"
   ]
  },
  {
   "cell_type": "markdown",
   "id": "5c4fdf02",
   "metadata": {
    "papermill": {
     "duration": 0.0453,
     "end_time": "2021-08-03T23:50:03.994830",
     "exception": false,
     "start_time": "2021-08-03T23:50:03.949530",
     "status": "completed"
    },
    "tags": []
   },
   "source": [
    "### 3.1　単語を特徴ベクトルに変換する"
   ]
  },
  {
   "cell_type": "code",
   "execution_count": 3,
   "id": "e63d17c7",
   "metadata": {
    "execution": {
     "iopub.execute_input": "2021-08-03T23:50:04.088482Z",
     "iopub.status.busy": "2021-08-03T23:50:04.087921Z",
     "iopub.status.idle": "2021-08-03T23:50:04.091764Z",
     "shell.execute_reply": "2021-08-03T23:50:04.091355Z",
     "shell.execute_reply.started": "2021-08-03T23:43:46.437035Z"
    },
    "papermill": {
     "duration": 0.052065,
     "end_time": "2021-08-03T23:50:04.091871",
     "exception": false,
     "start_time": "2021-08-03T23:50:04.039806",
     "status": "completed"
    },
    "tags": []
   },
   "outputs": [],
   "source": [
    "docs = np.array(['The sun is shining',\n",
    "                 'The weather is sweet',\n",
    "                 'The sun is shining, the weather is sweet, and one and one is two'])"
   ]
  },
  {
   "cell_type": "markdown",
   "id": "148259d7",
   "metadata": {
    "execution": {
     "iopub.execute_input": "2021-07-30T11:18:04.164292Z",
     "iopub.status.busy": "2021-07-30T11:18:04.16365Z",
     "iopub.status.idle": "2021-07-30T11:18:04.174157Z",
     "shell.execute_reply": "2021-07-30T11:18:04.171547Z",
     "shell.execute_reply.started": "2021-07-30T11:18:04.164237Z"
    },
    "papermill": {
     "duration": 0.045068,
     "end_time": "2021-08-03T23:50:04.181521",
     "exception": false,
     "start_time": "2021-08-03T23:50:04.136453",
     "status": "completed"
    },
    "tags": []
   },
   "source": [
    "scikit-learnに実装されているCountVectorizer()で、BoWベクトルをカウントする。"
   ]
  },
  {
   "cell_type": "code",
   "execution_count": 4,
   "id": "cca7d529",
   "metadata": {
    "execution": {
     "iopub.execute_input": "2021-08-03T23:50:04.277334Z",
     "iopub.status.busy": "2021-08-03T23:50:04.276789Z",
     "iopub.status.idle": "2021-08-03T23:50:04.280293Z",
     "shell.execute_reply": "2021-08-03T23:50:04.280669Z",
     "shell.execute_reply.started": "2021-08-03T23:43:46.444041Z"
    },
    "papermill": {
     "duration": 0.054734,
     "end_time": "2021-08-03T23:50:04.280793",
     "exception": false,
     "start_time": "2021-08-03T23:50:04.226059",
     "status": "completed"
    },
    "tags": []
   },
   "outputs": [],
   "source": [
    "count = CountVectorizer()\n",
    "bag = count.fit_transform(docs)"
   ]
  },
  {
   "cell_type": "markdown",
   "id": "b4f8d7f1",
   "metadata": {
    "papermill": {
     "duration": 0.044484,
     "end_time": "2021-08-03T23:50:04.369981",
     "exception": false,
     "start_time": "2021-08-03T23:50:04.325497",
     "status": "completed"
    },
    "tags": []
   },
   "source": [
    "上記によって、次の3つの文章におけるBoWモデルが構築された。<br>\n",
    "ここで、各単語に番号（インデックス）を付け、それぞれ確認をする。"
   ]
  },
  {
   "cell_type": "code",
   "execution_count": 5,
   "id": "36cc39c1",
   "metadata": {
    "execution": {
     "iopub.execute_input": "2021-08-03T23:50:04.469020Z",
     "iopub.status.busy": "2021-08-03T23:50:04.467745Z",
     "iopub.status.idle": "2021-08-03T23:50:04.471790Z",
     "shell.execute_reply": "2021-08-03T23:50:04.471210Z",
     "shell.execute_reply.started": "2021-08-03T23:43:46.456507Z"
    },
    "papermill": {
     "duration": 0.055274,
     "end_time": "2021-08-03T23:50:04.471932",
     "exception": false,
     "start_time": "2021-08-03T23:50:04.416658",
     "status": "completed"
    },
    "tags": []
   },
   "outputs": [
    {
     "name": "stdout",
     "output_type": "stream",
     "text": [
      "単語:インデックス {'the': 6, 'sun': 4, 'is': 1, 'shining': 3, 'weather': 8, 'sweet': 5, 'and': 0, 'one': 2, 'two': 7}\n"
     ]
    }
   ],
   "source": [
    "print('単語:インデックス', count.vocabulary_)"
   ]
  },
  {
   "cell_type": "markdown",
   "id": "eed1944e",
   "metadata": {
    "papermill": {
     "duration": 0.044482,
     "end_time": "2021-08-03T23:50:04.562691",
     "exception": false,
     "start_time": "2021-08-03T23:50:04.518209",
     "status": "completed"
    },
    "tags": []
   },
   "source": [
    "3文目の「the」の頻出度を調べてみる。<br>\n",
    "0から数えるとインデックスは2となり、最後には単語を入れる。"
   ]
  },
  {
   "cell_type": "code",
   "execution_count": 6,
   "id": "d121783a",
   "metadata": {
    "execution": {
     "iopub.execute_input": "2021-08-03T23:50:04.656113Z",
     "iopub.status.busy": "2021-08-03T23:50:04.655562Z",
     "iopub.status.idle": "2021-08-03T23:50:04.661273Z",
     "shell.execute_reply": "2021-08-03T23:50:04.660656Z",
     "shell.execute_reply.started": "2021-08-03T23:43:46.465275Z"
    },
    "papermill": {
     "duration": 0.053899,
     "end_time": "2021-08-03T23:50:04.661411",
     "exception": false,
     "start_time": "2021-08-03T23:50:04.607512",
     "status": "completed"
    },
    "tags": []
   },
   "outputs": [
    {
     "name": "stdout",
     "output_type": "stream",
     "text": [
      "頻出度： 2\n"
     ]
    }
   ],
   "source": [
    "print('頻出度：', bag.toarray()[2][count.vocabulary_['the']])"
   ]
  },
  {
   "cell_type": "markdown",
   "id": "acee8b18",
   "metadata": {
    "execution": {
     "iopub.execute_input": "2021-07-30T11:19:54.864599Z",
     "iopub.status.busy": "2021-07-30T11:19:54.863996Z",
     "iopub.status.idle": "2021-07-30T11:19:54.873052Z",
     "shell.execute_reply": "2021-07-30T11:19:54.871126Z",
     "shell.execute_reply.started": "2021-07-30T11:19:54.864555Z"
    },
    "papermill": {
     "duration": 0.044868,
     "end_time": "2021-08-03T23:50:04.752191",
     "exception": false,
     "start_time": "2021-08-03T23:50:04.707323",
     "status": "completed"
    },
    "tags": []
   },
   "source": [
    "次に、特徴ベクトルを出力する。"
   ]
  },
  {
   "cell_type": "code",
   "execution_count": 7,
   "id": "7c3653d8",
   "metadata": {
    "execution": {
     "iopub.execute_input": "2021-08-03T23:50:04.850857Z",
     "iopub.status.busy": "2021-08-03T23:50:04.850381Z",
     "iopub.status.idle": "2021-08-03T23:50:04.854908Z",
     "shell.execute_reply": "2021-08-03T23:50:04.855374Z",
     "shell.execute_reply.started": "2021-08-03T23:43:46.475317Z"
    },
    "papermill": {
     "duration": 0.058073,
     "end_time": "2021-08-03T23:50:04.855499",
     "exception": false,
     "start_time": "2021-08-03T23:50:04.797426",
     "status": "completed"
    },
    "tags": []
   },
   "outputs": [
    {
     "data": {
      "text/html": [
       "<div>\n",
       "<style scoped>\n",
       "    .dataframe tbody tr th:only-of-type {\n",
       "        vertical-align: middle;\n",
       "    }\n",
       "\n",
       "    .dataframe tbody tr th {\n",
       "        vertical-align: top;\n",
       "    }\n",
       "\n",
       "    .dataframe thead th {\n",
       "        text-align: right;\n",
       "    }\n",
       "</style>\n",
       "<table border=\"1\" class=\"dataframe\">\n",
       "  <thead>\n",
       "    <tr style=\"text-align: right;\">\n",
       "      <th></th>\n",
       "      <th>0</th>\n",
       "      <th>1</th>\n",
       "      <th>2</th>\n",
       "      <th>3</th>\n",
       "      <th>4</th>\n",
       "      <th>5</th>\n",
       "      <th>6</th>\n",
       "      <th>7</th>\n",
       "      <th>8</th>\n",
       "    </tr>\n",
       "  </thead>\n",
       "  <tbody>\n",
       "    <tr>\n",
       "      <th>0</th>\n",
       "      <td>0</td>\n",
       "      <td>1</td>\n",
       "      <td>0</td>\n",
       "      <td>1</td>\n",
       "      <td>1</td>\n",
       "      <td>0</td>\n",
       "      <td>1</td>\n",
       "      <td>0</td>\n",
       "      <td>0</td>\n",
       "    </tr>\n",
       "    <tr>\n",
       "      <th>1</th>\n",
       "      <td>0</td>\n",
       "      <td>1</td>\n",
       "      <td>0</td>\n",
       "      <td>0</td>\n",
       "      <td>0</td>\n",
       "      <td>1</td>\n",
       "      <td>1</td>\n",
       "      <td>0</td>\n",
       "      <td>1</td>\n",
       "    </tr>\n",
       "    <tr>\n",
       "      <th>2</th>\n",
       "      <td>2</td>\n",
       "      <td>3</td>\n",
       "      <td>2</td>\n",
       "      <td>1</td>\n",
       "      <td>1</td>\n",
       "      <td>1</td>\n",
       "      <td>2</td>\n",
       "      <td>1</td>\n",
       "      <td>1</td>\n",
       "    </tr>\n",
       "  </tbody>\n",
       "</table>\n",
       "</div>"
      ],
      "text/plain": [
       "   0  1  2  3  4  5  6  7  8\n",
       "0  0  1  0  1  1  0  1  0  0\n",
       "1  0  1  0  0  0  1  1  0  1\n",
       "2  2  3  2  1  1  1  2  1  1"
      ]
     },
     "execution_count": 7,
     "metadata": {},
     "output_type": "execute_result"
    }
   ],
   "source": [
    "pd.DataFrame(bag.toarray())"
   ]
  },
  {
   "cell_type": "markdown",
   "id": "0d0c40a2",
   "metadata": {
    "papermill": {
     "duration": 0.045616,
     "end_time": "2021-08-03T23:50:04.947321",
     "exception": false,
     "start_time": "2021-08-03T23:50:04.901705",
     "status": "completed"
    },
    "tags": []
   },
   "source": [
    "行は1～3文目、列は各単語のインデックス番号を前提に表示されている。<br>\n",
    "分かりやすいように、表示し直す。"
   ]
  },
  {
   "cell_type": "code",
   "execution_count": 8,
   "id": "46ec4da9",
   "metadata": {
    "execution": {
     "iopub.execute_input": "2021-08-03T23:50:05.047846Z",
     "iopub.status.busy": "2021-08-03T23:50:05.047342Z",
     "iopub.status.idle": "2021-08-03T23:50:05.052635Z",
     "shell.execute_reply": "2021-08-03T23:50:05.053017Z",
     "shell.execute_reply.started": "2021-08-03T23:43:46.494033Z"
    },
    "papermill": {
     "duration": 0.060443,
     "end_time": "2021-08-03T23:50:05.053147",
     "exception": false,
     "start_time": "2021-08-03T23:50:04.992704",
     "status": "completed"
    },
    "tags": []
   },
   "outputs": [
    {
     "data": {
      "text/html": [
       "<div>\n",
       "<style scoped>\n",
       "    .dataframe tbody tr th:only-of-type {\n",
       "        vertical-align: middle;\n",
       "    }\n",
       "\n",
       "    .dataframe tbody tr th {\n",
       "        vertical-align: top;\n",
       "    }\n",
       "\n",
       "    .dataframe thead th {\n",
       "        text-align: right;\n",
       "    }\n",
       "</style>\n",
       "<table border=\"1\" class=\"dataframe\">\n",
       "  <thead>\n",
       "    <tr style=\"text-align: right;\">\n",
       "      <th></th>\n",
       "      <th>and</th>\n",
       "      <th>is</th>\n",
       "      <th>one</th>\n",
       "      <th>shining</th>\n",
       "      <th>sun</th>\n",
       "      <th>sweet</th>\n",
       "      <th>the</th>\n",
       "      <th>two</th>\n",
       "      <th>weather</th>\n",
       "    </tr>\n",
       "  </thead>\n",
       "  <tbody>\n",
       "    <tr>\n",
       "      <th>1文目</th>\n",
       "      <td>0</td>\n",
       "      <td>1</td>\n",
       "      <td>0</td>\n",
       "      <td>1</td>\n",
       "      <td>1</td>\n",
       "      <td>0</td>\n",
       "      <td>1</td>\n",
       "      <td>0</td>\n",
       "      <td>0</td>\n",
       "    </tr>\n",
       "    <tr>\n",
       "      <th>2文目</th>\n",
       "      <td>0</td>\n",
       "      <td>1</td>\n",
       "      <td>0</td>\n",
       "      <td>0</td>\n",
       "      <td>0</td>\n",
       "      <td>1</td>\n",
       "      <td>1</td>\n",
       "      <td>0</td>\n",
       "      <td>1</td>\n",
       "    </tr>\n",
       "    <tr>\n",
       "      <th>3文目</th>\n",
       "      <td>2</td>\n",
       "      <td>3</td>\n",
       "      <td>2</td>\n",
       "      <td>1</td>\n",
       "      <td>1</td>\n",
       "      <td>1</td>\n",
       "      <td>2</td>\n",
       "      <td>1</td>\n",
       "      <td>1</td>\n",
       "    </tr>\n",
       "  </tbody>\n",
       "</table>\n",
       "</div>"
      ],
      "text/plain": [
       "     and  is  one  shining  sun  sweet  the  two  weather\n",
       "1文目    0   1    0        1    1      0    1    0        0\n",
       "2文目    0   1    0        0    0      1    1    0        1\n",
       "3文目    2   3    2        1    1      1    2    1        1"
      ]
     },
     "execution_count": 8,
     "metadata": {},
     "output_type": "execute_result"
    }
   ],
   "source": [
    "pd.DataFrame(bag.toarray(),\n",
    "             index=['1文目', '2文目', '3文目'],\n",
    "             columns=['and', 'is', 'one', 'shining', 'sun', 'sweet', 'the', 'two', 'weather'])"
   ]
  },
  {
   "cell_type": "markdown",
   "id": "f06b767b",
   "metadata": {
    "papermill": {
     "duration": 0.045603,
     "end_time": "2021-08-03T23:50:05.144706",
     "exception": false,
     "start_time": "2021-08-03T23:50:05.099103",
     "status": "completed"
    },
    "tags": []
   },
   "source": [
    "### 3.2　TF-IDFを使って単語の関連性を評価する"
   ]
  },
  {
   "cell_type": "markdown",
   "id": "6e48f9f1",
   "metadata": {
    "papermill": {
     "duration": 0.04564,
     "end_time": "2021-08-03T23:50:05.236201",
     "exception": false,
     "start_time": "2021-08-03T23:50:05.190561",
     "status": "completed"
    },
    "tags": []
   },
   "source": [
    "$\\rm{TF}$：対象の単語が、ある文書中にどれだけの頻度で出現しているか（頻度）<br>\n",
    "$\\rm{IDF}$：対象の単語が含まれる文が、文章全体にどれだけの頻度で出現していないか（珍しさ）<br>\n",
    "$\\rm{TF-IDF}$：Term Frequency – Inverse Document Frequency の略（重みづけの指標）"
   ]
  },
  {
   "cell_type": "markdown",
   "id": "31b7d86b",
   "metadata": {
    "papermill": {
     "duration": 0.046275,
     "end_time": "2021-08-03T23:50:05.328305",
     "exception": false,
     "start_time": "2021-08-03T23:50:05.282030",
     "status": "completed"
    },
    "tags": []
   },
   "source": [
    "例えば、小説一冊が、下記で構成されているとする。\n",
    "\n",
    "・$D$ 個の文<br>\n",
    "・$N$ 個の単語\n",
    "\n",
    "小説に単語 $x$ が $n$ 回現れるならば\n",
    "$$\\begin{eqnarray}\n",
    "{\\rm TF}=\\frac{n}{N}\n",
    "\\end{eqnarray}$$\n",
    "小説に単語 $x$ を含む文が $d$ 個あるならば\n",
    "$$\\begin{eqnarray}\n",
    "{\\rm IDF}=-\\log_{10}\\frac{d}{D}=\\log_{10}\\frac{D}{d}\n",
    "\\end{eqnarray}$$\n",
    "よって、次のように求まる。\n",
    "$$\\begin{eqnarray}\n",
    "{\\rm TF-IDF}=\\frac{n}{N}\\log_{10}\\frac{D}{d}\n",
    "\\end{eqnarray}$$"
   ]
  },
  {
   "cell_type": "markdown",
   "id": "3b9bfbf4",
   "metadata": {
    "papermill": {
     "duration": 0.045875,
     "end_time": "2021-08-03T23:50:05.420613",
     "exception": false,
     "start_time": "2021-08-03T23:50:05.374738",
     "status": "completed"
    },
    "tags": []
   },
   "source": [
    "例題\n",
    "\n",
    "太宰治の作品「一歩前進二歩退却」から一部を抜粋したものである。<br>\n",
    "TF-IDFを求めなさい。\n",
    "\n",
    "-----\n",
    "\n",
    "　作家は、いよいよ窮屈である。何せ、眼光紙背に徹する読者ばかりを<br>\n",
    "相手にしているのだから、うっかりできない。あんまり緊張して、ついには<br>\n",
    "机のまえに端座したまま、そのまま、沈黙は金、という格言を底知れず肯定している。<br>\n",
    "そんなあわれな作家さえ出て来ぬともかぎらない。<br>\n",
    "　謙譲を、作家のみ要求し、作家は大いに恐縮し、卑屈なほどへりくだって<br>\n",
    "そうして読者は旦那である。作家の私生活、底の底まで剥ごうとする。<br>\n",
    "失敗である。安売りにしていいのは作品である。作家の人間までを売ってはいない。<br>\n",
    "謙譲は、読者にこそ之を要求したい。\n",
    "\n",
    "-----\n",
    "\n",
    "下記をカウントした。<br>\n",
    "<br>\n",
    "単語数 $N$：150<br>\n",
    "単語の種類：48<br>\n",
    "文数 $D$：10\n",
    "\n",
    "次に「作家」という単語 $x$ に着目する。\n",
    "\n",
    "出現回数 $n$：6<br>\n",
    "含まれる文数 $d$：5\n",
    "\n",
    "よって、次のように求まる。<br>\n",
    "\n",
    "$$\\begin{eqnarray}\n",
    "{\\rm TF}=\\frac{n}{N}=\\frac{6}{150}=0.04\n",
    "\\end{eqnarray}$$\n",
    "\n",
    "$$\\begin{eqnarray}\n",
    "{\\rm IDF}=\\log_{10}\\frac{D}{d}=\\log_{10}\\frac{10}{5}=0.301\n",
    "\\end{eqnarray}$$\n",
    "\n",
    "$$\\begin{eqnarray}\n",
    "{\\rm TF-IDF}=0.0120\n",
    "\\end{eqnarray}$$<br>\n",
    "<br>\n",
    "実際の自然言語処理では、これを48種類の単語すべてに行っていく。"
   ]
  },
  {
   "cell_type": "markdown",
   "id": "8068779c",
   "metadata": {
    "papermill": {
     "duration": 0.046003,
     "end_time": "2021-08-03T23:50:05.513257",
     "exception": false,
     "start_time": "2021-08-03T23:50:05.467254",
     "status": "completed"
    },
    "tags": []
   },
   "source": [
    "### 3.3　scikit-learnでTF-IDFを実装する"
   ]
  },
  {
   "cell_type": "markdown",
   "id": "2c589994",
   "metadata": {
    "papermill": {
     "duration": 0.046134,
     "end_time": "2021-08-03T23:50:05.605962",
     "exception": false,
     "start_time": "2021-08-03T23:50:05.559828",
     "status": "completed"
    },
    "tags": []
   },
   "source": [
    "scikit-learnには、TfidTransformerという関数が実装されている。<br>\n",
    "これは、fit_transformメソッドのCountVectorizerから「生の単語の出現頻度」を入力として受け取り、TF-IDFに変換する。"
   ]
  },
  {
   "cell_type": "code",
   "execution_count": 9,
   "id": "08fbf5f5",
   "metadata": {
    "execution": {
     "iopub.execute_input": "2021-08-03T23:50:05.717532Z",
     "iopub.status.busy": "2021-08-03T23:50:05.712377Z",
     "iopub.status.idle": "2021-08-03T23:50:05.722769Z",
     "shell.execute_reply": "2021-08-03T23:50:05.722361Z",
     "shell.execute_reply.started": "2021-08-03T23:43:46.509253Z"
    },
    "papermill": {
     "duration": 0.070912,
     "end_time": "2021-08-03T23:50:05.722878",
     "exception": false,
     "start_time": "2021-08-03T23:50:05.651966",
     "status": "completed"
    },
    "tags": []
   },
   "outputs": [
    {
     "data": {
      "text/html": [
       "<div>\n",
       "<style scoped>\n",
       "    .dataframe tbody tr th:only-of-type {\n",
       "        vertical-align: middle;\n",
       "    }\n",
       "\n",
       "    .dataframe tbody tr th {\n",
       "        vertical-align: top;\n",
       "    }\n",
       "\n",
       "    .dataframe thead th {\n",
       "        text-align: right;\n",
       "    }\n",
       "</style>\n",
       "<table border=\"1\" class=\"dataframe\">\n",
       "  <thead>\n",
       "    <tr style=\"text-align: right;\">\n",
       "      <th></th>\n",
       "      <th>0</th>\n",
       "      <th>1</th>\n",
       "      <th>2</th>\n",
       "      <th>3</th>\n",
       "      <th>4</th>\n",
       "      <th>5</th>\n",
       "      <th>6</th>\n",
       "      <th>7</th>\n",
       "      <th>8</th>\n",
       "    </tr>\n",
       "  </thead>\n",
       "  <tbody>\n",
       "    <tr>\n",
       "      <th>0</th>\n",
       "      <td>0.0</td>\n",
       "      <td>0.43</td>\n",
       "      <td>0.0</td>\n",
       "      <td>0.56</td>\n",
       "      <td>0.56</td>\n",
       "      <td>0.00</td>\n",
       "      <td>0.43</td>\n",
       "      <td>0.00</td>\n",
       "      <td>0.00</td>\n",
       "    </tr>\n",
       "    <tr>\n",
       "      <th>1</th>\n",
       "      <td>0.0</td>\n",
       "      <td>0.43</td>\n",
       "      <td>0.0</td>\n",
       "      <td>0.00</td>\n",
       "      <td>0.00</td>\n",
       "      <td>0.56</td>\n",
       "      <td>0.43</td>\n",
       "      <td>0.00</td>\n",
       "      <td>0.56</td>\n",
       "    </tr>\n",
       "    <tr>\n",
       "      <th>2</th>\n",
       "      <td>0.5</td>\n",
       "      <td>0.45</td>\n",
       "      <td>0.5</td>\n",
       "      <td>0.19</td>\n",
       "      <td>0.19</td>\n",
       "      <td>0.19</td>\n",
       "      <td>0.30</td>\n",
       "      <td>0.25</td>\n",
       "      <td>0.19</td>\n",
       "    </tr>\n",
       "  </tbody>\n",
       "</table>\n",
       "</div>"
      ],
      "text/plain": [
       "     0     1    2     3     4     5     6     7     8\n",
       "0  0.0  0.43  0.0  0.56  0.56  0.00  0.43  0.00  0.00\n",
       "1  0.0  0.43  0.0  0.00  0.00  0.56  0.43  0.00  0.56\n",
       "2  0.5  0.45  0.5  0.19  0.19  0.19  0.30  0.25  0.19"
      ]
     },
     "execution_count": 9,
     "metadata": {},
     "output_type": "execute_result"
    }
   ],
   "source": [
    "tfidf = TfidfTransformer(use_idf=True, norm='l2', smooth_idf=True)\n",
    "tfidf_vec = tfidf.fit_transform(count.fit_transform(docs)).toarray()\n",
    "\n",
    "pd.DataFrame(tfidf_vec.round(2))"
   ]
  },
  {
   "cell_type": "markdown",
   "id": "93b4dc14",
   "metadata": {
    "papermill": {
     "duration": 0.045917,
     "end_time": "2021-08-03T23:50:05.815792",
     "exception": false,
     "start_time": "2021-08-03T23:50:05.769875",
     "status": "completed"
    },
    "tags": []
   },
   "source": [
    "smooth_idf：Truleがデフォルト<br>\n",
    "use_idf：idf()の使用有無（idf()関数による重み付けを行うかどうか）<br>\n",
    "norm：正則化の指定（デフォルトはなし、'l2'指定で単語ベクトルの長さが1になるよう正規化）<br>\n",
    "toarray()：行列出力\n",
    "\n",
    "それぞれの文や単語とも紐づけて可視化すると、以下のようになる。"
   ]
  },
  {
   "cell_type": "code",
   "execution_count": 10,
   "id": "c0ee4086",
   "metadata": {
    "execution": {
     "iopub.execute_input": "2021-08-03T23:50:05.914732Z",
     "iopub.status.busy": "2021-08-03T23:50:05.913527Z",
     "iopub.status.idle": "2021-08-03T23:50:05.915872Z",
     "shell.execute_reply": "2021-08-03T23:50:05.916266Z",
     "shell.execute_reply.started": "2021-08-03T23:43:46.534705Z"
    },
    "papermill": {
     "duration": 0.054189,
     "end_time": "2021-08-03T23:50:05.916393",
     "exception": false,
     "start_time": "2021-08-03T23:50:05.862204",
     "status": "completed"
    },
    "tags": []
   },
   "outputs": [],
   "source": [
    "tfidf_df = pd.DataFrame(tfidf_vec.round(2),\n",
    "                        index=['1文目', '2文目', '3文目'],\n",
    "                        columns=['and', 'is', 'one', 'shining', 'sun', 'sweet', 'the', 'two', 'weather'])"
   ]
  },
  {
   "cell_type": "markdown",
   "id": "7386d5c2",
   "metadata": {
    "papermill": {
     "duration": 0.046696,
     "end_time": "2021-08-03T23:50:06.010368",
     "exception": false,
     "start_time": "2021-08-03T23:50:05.963672",
     "status": "completed"
    },
    "tags": []
   },
   "source": [
    "ここで、3つの文章を改めて見てみる。\n",
    "\n",
    "・The sun is shining<br>\n",
    "・The weather is sweet<br>\n",
    "・The sun is shining, the weather is sweet, and one and one is two"
   ]
  },
  {
   "cell_type": "markdown",
   "id": "e98fccae",
   "metadata": {
    "papermill": {
     "duration": 0.047452,
     "end_time": "2021-08-03T23:50:06.104730",
     "exception": false,
     "start_time": "2021-08-03T23:50:06.057278",
     "status": "completed"
    },
    "tags": []
   },
   "source": [
    "「is」は3つの文章で使われているため、特徴語ではなく、どの文法に必要な語と判断される。<br>\n",
    "TF-IDFが（0.45）とそれほど大きくないことからも考えられる。\n",
    "\n",
    "一方で、「one」は3つ目の文章だけで2回使用されているので<br>\n",
    "TF-IDFは（0.5）と少しだけ大きくなっている。"
   ]
  },
  {
   "cell_type": "markdown",
   "id": "38384442",
   "metadata": {
    "papermill": {
     "duration": 0.047028,
     "end_time": "2021-08-03T23:50:06.199377",
     "exception": false,
     "start_time": "2021-08-03T23:50:06.152349",
     "status": "completed"
    },
    "tags": []
   },
   "source": [
    "### 3.4　scikit-learnにおけるTF-IDFの定義式"
   ]
  },
  {
   "cell_type": "markdown",
   "id": "2b898d7a",
   "metadata": {
    "papermill": {
     "duration": 0.046659,
     "end_time": "2021-08-03T23:50:06.293951",
     "exception": false,
     "start_time": "2021-08-03T23:50:06.247292",
     "status": "completed"
    },
    "tags": []
   },
   "source": [
    "また各々の特徴ベクトルのTF-IDFを「手動」で計算すると、上記の計算と合わないことが分かる。<br>\n",
    "scikit-learnについて、厳密には下記の式で定義される。"
   ]
  },
  {
   "cell_type": "markdown",
   "id": "59c92713",
   "metadata": {
    "papermill": {
     "duration": 0.046965,
     "end_time": "2021-08-03T23:50:06.388403",
     "exception": false,
     "start_time": "2021-08-03T23:50:06.341438",
     "status": "completed"
    },
    "tags": []
   },
   "source": [
    "$$\\begin{eqnarray}\n",
    "{\\rm tf}(t,d)=N\n",
    "\\end{eqnarray}$$\n",
    "\n",
    "$$\\begin{eqnarray}\n",
    "{\\rm idf}(t,d) = \\log\\frac{1 + n_d}{1 + {\\rm idf}(d, t)}+1\n",
    "\\end{eqnarray}$$\n",
    "\n",
    "$$\\begin{eqnarray}\n",
    "{\\rm tf-idf}(t,d)={\\rm tf(t,d)}\\times {\\rm idf(t,d)}\n",
    "\\end{eqnarray}$$"
   ]
  },
  {
   "cell_type": "markdown",
   "id": "410afe11",
   "metadata": {
    "execution": {
     "iopub.execute_input": "2021-08-03T04:42:06.952735Z",
     "iopub.status.busy": "2021-08-03T04:42:06.952413Z",
     "iopub.status.idle": "2021-08-03T04:42:06.95828Z",
     "shell.execute_reply": "2021-08-03T04:42:06.956989Z",
     "shell.execute_reply.started": "2021-08-03T04:42:06.952705Z"
    },
    "papermill": {
     "duration": 0.04728,
     "end_time": "2021-08-03T23:50:06.483187",
     "exception": false,
     "start_time": "2021-08-03T23:50:06.435907",
     "status": "completed"
    },
    "tags": []
   },
   "source": [
    "$N$：1つの文章の中にある、単語$t$の出現回数"
   ]
  },
  {
   "cell_type": "markdown",
   "id": "f2aaa646",
   "metadata": {
    "papermill": {
     "duration": 0.047056,
     "end_time": "2021-08-03T23:50:06.578103",
     "exception": false,
     "start_time": "2021-08-03T23:50:06.531047",
     "status": "completed"
    },
    "tags": []
   },
   "source": [
    "TF-IDFの正規化については、次式のように定義される。"
   ]
  },
  {
   "cell_type": "markdown",
   "id": "66c87686",
   "metadata": {
    "execution": {
     "iopub.execute_input": "2021-08-03T04:37:33.85862Z",
     "iopub.status.busy": "2021-08-03T04:37:33.858295Z",
     "iopub.status.idle": "2021-08-03T04:37:33.864372Z",
     "shell.execute_reply": "2021-08-03T04:37:33.863153Z",
     "shell.execute_reply.started": "2021-08-03T04:37:33.858592Z"
    },
    "papermill": {
     "duration": 0.04703,
     "end_time": "2021-08-03T23:50:06.671894",
     "exception": false,
     "start_time": "2021-08-03T23:50:06.624864",
     "status": "completed"
    },
    "tags": []
   },
   "source": [
    "$$v_{\\text{norm}} = \\frac{v}{||v||_2} = \\frac{v}{\\sqrt{v_{1}^{2} + v_{2}^{2} + \\dots + v_{n}^{2}}} = \\frac{v}{\\big (\\sum_{i=1}^{n} v_{i}^{2}\\big)^\\frac{1}{2}}$$"
   ]
  },
  {
   "cell_type": "markdown",
   "id": "7d6722de",
   "metadata": {
    "papermill": {
     "duration": 0.046794,
     "end_time": "2021-08-03T23:50:06.765655",
     "exception": false,
     "start_time": "2021-08-03T23:50:06.718861",
     "status": "completed"
    },
    "tags": []
   },
   "source": [
    "ここで、3つ目の文章について、改めて確認をする。\n",
    "\n",
    "・The sun is shining, the weather is sweet, and one and one is two\n",
    "\n",
    "今後は「is」に着目して、考えていくことにする。"
   ]
  },
  {
   "cell_type": "markdown",
   "id": "71f6c29c",
   "metadata": {
    "papermill": {
     "duration": 0.046664,
     "end_time": "2021-08-03T23:50:06.859159",
     "exception": false,
     "start_time": "2021-08-03T23:50:06.812495",
     "status": "completed"
    },
    "tags": []
   },
   "source": [
    "### 3.5　scikit-learnの計算方法を手動で行う"
   ]
  },
  {
   "cell_type": "markdown",
   "id": "f47cf69c",
   "metadata": {
    "papermill": {
     "duration": 0.046192,
     "end_time": "2021-08-03T23:50:06.953085",
     "exception": false,
     "start_time": "2021-08-03T23:50:06.906893",
     "status": "completed"
    },
    "tags": []
   },
   "source": [
    "TFについて、scikit-learnでは、単語「is」の出現回数がそのままの値となる。<br>\n",
    "3つ目の文章において、「is」は3個あるため、次のようになる。"
   ]
  },
  {
   "cell_type": "markdown",
   "id": "068b0fdd",
   "metadata": {
    "papermill": {
     "duration": 0.04673,
     "end_time": "2021-08-03T23:50:07.046607",
     "exception": false,
     "start_time": "2021-08-03T23:50:06.999877",
     "status": "completed"
    },
    "tags": []
   },
   "source": [
    "$$\\text{tf}(\"is\")= 3$$\n",
    "\n",
    "$$\\text{idf}(\"is\", d3) = log \\frac{1+3}{1+3}+1 = 0+1=1$$\n",
    "\n",
    "よってTF-IDFは、次の値となる。\n",
    "\n",
    "$$\\text{tf-idf}(\"is\",d3)= 3 \\times 1 = 3$$"
   ]
  },
  {
   "cell_type": "markdown",
   "id": "e72d653e",
   "metadata": {
    "papermill": {
     "duration": 0.04746,
     "end_time": "2021-08-03T23:50:07.141068",
     "exception": false,
     "start_time": "2021-08-03T23:50:07.093608",
     "status": "completed"
    },
    "tags": []
   },
   "source": [
    "これらの計算を3つ目の文章の全ての単語に行った後で<br>\n",
    "先ほど説明した正規化の式に従って、TF-IDFのL2正規化を行う。"
   ]
  },
  {
   "cell_type": "markdown",
   "id": "4bc82e18",
   "metadata": {
    "papermill": {
     "duration": 0.046815,
     "end_time": "2021-08-03T23:50:07.235045",
     "exception": false,
     "start_time": "2021-08-03T23:50:07.188230",
     "status": "completed"
    },
    "tags": []
   },
   "source": [
    "$$\\text{tf-idf}_{norm} = \\frac{[3.39, 3.0, 3.39, 1.29, 1.29, 1.29, 2.0 , 1.69, 1.29]}{\\sqrt{[3.39^2, 3.0^2, 3.39^2, 1.29^2, 1.29^2, 1.29^2, 2.0^2 , 1.69^2, 1.29^2]}}$$\n",
    "\n",
    "$$=[0.5, 0.45, 0.5, 0.19, 0.19, 0.19, 0.3, 0.25, 0.19]$$\n",
    "\n",
    "$$\\Rightarrow \\text{tf-idf}_{norm}(\"is\", d3) = 0.45$$"
   ]
  },
  {
   "cell_type": "code",
   "execution_count": 11,
   "id": "5ea058d8",
   "metadata": {
    "execution": {
     "iopub.execute_input": "2021-08-03T23:50:07.334433Z",
     "iopub.status.busy": "2021-08-03T23:50:07.333726Z",
     "iopub.status.idle": "2021-08-03T23:50:07.338166Z",
     "shell.execute_reply": "2021-08-03T23:50:07.337752Z",
     "shell.execute_reply.started": "2021-08-03T23:43:46.543269Z"
    },
    "papermill": {
     "duration": 0.056625,
     "end_time": "2021-08-03T23:50:07.338275",
     "exception": false,
     "start_time": "2021-08-03T23:50:07.281650",
     "status": "completed"
    },
    "tags": []
   },
   "outputs": [
    {
     "data": {
      "text/plain": [
       "0.45"
      ]
     },
     "execution_count": 11,
     "metadata": {},
     "output_type": "execute_result"
    }
   ],
   "source": [
    "tfidf_df.loc['3文目', 'is']"
   ]
  },
  {
   "cell_type": "markdown",
   "id": "5e1408e2",
   "metadata": {
    "papermill": {
     "duration": 0.046574,
     "end_time": "2021-08-03T23:50:07.431627",
     "exception": false,
     "start_time": "2021-08-03T23:50:07.385053",
     "status": "completed"
    },
    "tags": []
   },
   "source": [
    "これにより、手動での計算結果とscikit-learnの計算結果の一致が証明できた。<br>\n",
    "自然言語処理では、このTF・IDF・TF-IDFをもとに、特徴ベクトル（特徴語、重み）を決定する。"
   ]
  },
  {
   "cell_type": "markdown",
   "id": "9791175c",
   "metadata": {
    "papermill": {
     "duration": 0.046757,
     "end_time": "2021-08-03T23:50:07.525241",
     "exception": false,
     "start_time": "2021-08-03T23:50:07.478484",
     "status": "completed"
    },
    "tags": []
   },
   "source": [
    "## 4.　クレンジング"
   ]
  },
  {
   "cell_type": "markdown",
   "id": "0eb4673f",
   "metadata": {
    "papermill": {
     "duration": 0.046714,
     "end_time": "2021-08-03T23:50:07.618694",
     "exception": false,
     "start_time": "2021-08-03T23:50:07.571980",
     "status": "completed"
    },
    "tags": []
   },
   "source": [
    "まず、映画レビューデータセットの1つ目の文章から、最後の50文字を出力する。"
   ]
  },
  {
   "cell_type": "code",
   "execution_count": 12,
   "id": "e57d5d7d",
   "metadata": {
    "execution": {
     "iopub.execute_input": "2021-08-03T23:50:07.716767Z",
     "iopub.status.busy": "2021-08-03T23:50:07.716062Z",
     "iopub.status.idle": "2021-08-03T23:50:07.722217Z",
     "shell.execute_reply": "2021-08-03T23:50:07.722649Z",
     "shell.execute_reply.started": "2021-08-03T23:43:46.556906Z"
    },
    "papermill": {
     "duration": 0.057276,
     "end_time": "2021-08-03T23:50:07.722777",
     "exception": false,
     "start_time": "2021-08-03T23:50:07.665501",
     "status": "completed"
    },
    "tags": []
   },
   "outputs": [
    {
     "data": {
      "text/plain": [
       "'is seven.<br /><br />Title (Brazil): Not Available'"
      ]
     },
     "execution_count": 12,
     "metadata": {},
     "output_type": "execute_result"
    }
   ],
   "source": [
    "df.loc[0, 'review'][-50:]"
   ]
  },
  {
   "cell_type": "markdown",
   "id": "f5854097",
   "metadata": {
    "papermill": {
     "duration": 0.046622,
     "end_time": "2021-08-03T23:50:07.816948",
     "exception": false,
     "start_time": "2021-08-03T23:50:07.770326",
     "status": "completed"
    },
    "tags": []
   },
   "source": [
    "出力結果を見てみると、不要な句読点や非英字文字が多い。<br>\n",
    "感情分析に役に立ちそうな顔文字要素のある記号「　：)　」のみ残し、それ以外はすべて削除する。<br>\n",
    "その際、今回はPythonの正規表現ライブラリを使用する。"
   ]
  },
  {
   "cell_type": "code",
   "execution_count": 13,
   "id": "583eca13",
   "metadata": {
    "execution": {
     "iopub.execute_input": "2021-08-03T23:50:07.916070Z",
     "iopub.status.busy": "2021-08-03T23:50:07.915283Z",
     "iopub.status.idle": "2021-08-03T23:50:07.917790Z",
     "shell.execute_reply": "2021-08-03T23:50:07.917393Z",
     "shell.execute_reply.started": "2021-08-03T23:43:46.570575Z"
    },
    "papermill": {
     "duration": 0.053919,
     "end_time": "2021-08-03T23:50:07.917894",
     "exception": false,
     "start_time": "2021-08-03T23:50:07.863975",
     "status": "completed"
    },
    "tags": []
   },
   "outputs": [],
   "source": [
    "def preprocessor(text):\n",
    "    text = re.sub('<[^>]*>', '', text)\n",
    "    emoticons = re.findall('(?::|;|=)(?:-)?(?:\\)|\\(|D|P)', text)\n",
    "    text = (re.sub('[\\W]+', ' ', text.lower()) + ' '.join(emoticons).replace('-', ''))\n",
    "    return text"
   ]
  },
  {
   "cell_type": "markdown",
   "id": "18dcf0c6",
   "metadata": {
    "papermill": {
     "duration": 0.046849,
     "end_time": "2021-08-03T23:50:08.011632",
     "exception": false,
     "start_time": "2021-08-03T23:50:07.964783",
     "status": "completed"
    },
    "tags": []
   },
   "source": [
    "re.sub：正規表現で指定した文字列を置換する<br>\n",
    "str.lower(): すべての文字を小文字に変換\n",
    "\n",
    "2行目：正規表現（<[^>]*>）を使用し、HTMLマークアップを削除<br>\n",
    "3行目：顔文字を検索し、emoticonsに格納<br>\n",
    "4行目：正規表現[\\w]+を使って単語の一部でない文字を削除、小文字に変換し、emoticonsを加え、顔文字内の「-」を消去"
   ]
  },
  {
   "cell_type": "code",
   "execution_count": 14,
   "id": "9b7da9c6",
   "metadata": {
    "execution": {
     "iopub.execute_input": "2021-08-03T23:50:08.111094Z",
     "iopub.status.busy": "2021-08-03T23:50:08.110240Z",
     "iopub.status.idle": "2021-08-03T23:50:08.114173Z",
     "shell.execute_reply": "2021-08-03T23:50:08.114746Z",
     "shell.execute_reply.started": "2021-08-03T23:43:46.580773Z"
    },
    "papermill": {
     "duration": 0.056184,
     "end_time": "2021-08-03T23:50:08.114908",
     "exception": false,
     "start_time": "2021-08-03T23:50:08.058724",
     "status": "completed"
    },
    "tags": []
   },
   "outputs": [
    {
     "name": "stdout",
     "output_type": "stream",
     "text": [
      "変換前: is seven.<br /><br />Title (Brazil): Not Available\n",
      "変換後: is seven title brazil not available\n"
     ]
    }
   ],
   "source": [
    "print('変換前:', df.loc[0, 'review'][-50:])\n",
    "print('変換後:', preprocessor(df.loc[0, 'review'][-50:]))"
   ]
  },
  {
   "cell_type": "code",
   "execution_count": 15,
   "id": "047d285e",
   "metadata": {
    "execution": {
     "iopub.execute_input": "2021-08-03T23:50:08.214456Z",
     "iopub.status.busy": "2021-08-03T23:50:08.213875Z",
     "iopub.status.idle": "2021-08-03T23:50:08.216796Z",
     "shell.execute_reply": "2021-08-03T23:50:08.217217Z",
     "shell.execute_reply.started": "2021-08-03T23:43:46.591986Z"
    },
    "papermill": {
     "duration": 0.054133,
     "end_time": "2021-08-03T23:50:08.217336",
     "exception": false,
     "start_time": "2021-08-03T23:50:08.163203",
     "status": "completed"
    },
    "tags": []
   },
   "outputs": [
    {
     "name": "stdout",
     "output_type": "stream",
     "text": [
      "this is a test :) :( :)\n",
      " i like python \n",
      "machine lear nig \n"
     ]
    }
   ],
   "source": [
    "print(preprocessor(\"</a>This :) is :( a test :-)!\"))\n",
    "print(preprocessor(\"!\\/.i like ;.::python/:]/];/]\"))\n",
    "print(preprocessor('machine\\::lear\\[:::nig];@[/]'))"
   ]
  },
  {
   "cell_type": "markdown",
   "id": "8e508bd6",
   "metadata": {
    "papermill": {
     "duration": 0.049284,
     "end_time": "2021-08-03T23:50:08.316768",
     "exception": false,
     "start_time": "2021-08-03T23:50:08.267484",
     "status": "completed"
    },
    "tags": []
   },
   "source": [
    "再度、映画レビューデータセットの1行目を表示する。"
   ]
  },
  {
   "cell_type": "code",
   "execution_count": 16,
   "id": "834dfef6",
   "metadata": {
    "execution": {
     "iopub.execute_input": "2021-08-03T23:50:08.438037Z",
     "iopub.status.busy": "2021-08-03T23:50:08.437045Z",
     "iopub.status.idle": "2021-08-03T23:50:08.441748Z",
     "shell.execute_reply": "2021-08-03T23:50:08.442214Z",
     "shell.execute_reply.started": "2021-08-03T23:43:46.602459Z"
    },
    "papermill": {
     "duration": 0.068909,
     "end_time": "2021-08-03T23:50:08.442349",
     "exception": false,
     "start_time": "2021-08-03T23:50:08.373440",
     "status": "completed"
    },
    "tags": []
   },
   "outputs": [
    {
     "name": "stdout",
     "output_type": "stream",
     "text": [
      "(50000, 2)\n"
     ]
    },
    {
     "data": {
      "text/html": [
       "<div>\n",
       "<style scoped>\n",
       "    .dataframe tbody tr th:only-of-type {\n",
       "        vertical-align: middle;\n",
       "    }\n",
       "\n",
       "    .dataframe tbody tr th {\n",
       "        vertical-align: top;\n",
       "    }\n",
       "\n",
       "    .dataframe thead th {\n",
       "        text-align: right;\n",
       "    }\n",
       "</style>\n",
       "<table border=\"1\" class=\"dataframe\">\n",
       "  <thead>\n",
       "    <tr style=\"text-align: right;\">\n",
       "      <th></th>\n",
       "      <th>review</th>\n",
       "      <th>sentiment</th>\n",
       "    </tr>\n",
       "  </thead>\n",
       "  <tbody>\n",
       "    <tr>\n",
       "      <th>0</th>\n",
       "      <td>In 1974, the teenager Martha Moxley (Maggie Grace) moves to the high-class area of Belle Haven, Greenwich, Connecticut. On the Mischief Night, eve...</td>\n",
       "      <td>1</td>\n",
       "    </tr>\n",
       "    <tr>\n",
       "      <th>1</th>\n",
       "      <td>OK... so... I really like Kris Kristofferson and his usual easy going delivery of lines in his movies. Age has helped him with his soft spoken low...</td>\n",
       "      <td>0</td>\n",
       "    </tr>\n",
       "    <tr>\n",
       "      <th>2</th>\n",
       "      <td>***SPOILER*** Do not read this, if you think about watching that movie, although it would be a waste of time. (By the way: The plot is so predicta...</td>\n",
       "      <td>0</td>\n",
       "    </tr>\n",
       "    <tr>\n",
       "      <th>3</th>\n",
       "      <td>hi for all the people who have seen this wonderful movie im sure thet you would have liked it as much as i. i love the songs once you have seen th...</td>\n",
       "      <td>1</td>\n",
       "    </tr>\n",
       "    <tr>\n",
       "      <th>4</th>\n",
       "      <td>I recently bought the DVD, forgetting just how much I hated the movie version of \"A Chorus Line.\" Every change the director Attenborough made to t...</td>\n",
       "      <td>0</td>\n",
       "    </tr>\n",
       "    <tr>\n",
       "      <th>5</th>\n",
       "      <td>Leave it to Braik to put on a good show. Finally he and Zorak are living their own lives outside of Spac Ghost Coast To Coast. I have to say that ...</td>\n",
       "      <td>1</td>\n",
       "    </tr>\n",
       "    <tr>\n",
       "      <th>6</th>\n",
       "      <td>Nathan Detroit (Frank Sinatra) is the manager of the New York's longest- established floating craps game, and he needs $1000 to secure a new locat...</td>\n",
       "      <td>1</td>\n",
       "    </tr>\n",
       "    <tr>\n",
       "      <th>7</th>\n",
       "      <td>To understand \"Crash Course\" in the right context, you must understand the 80's in TV. Most TV shows didn't have any point. The sitcom outpopulate...</td>\n",
       "      <td>1</td>\n",
       "    </tr>\n",
       "    <tr>\n",
       "      <th>8</th>\n",
       "      <td>I've been impressed with Chavez's stance against globalisation for sometime now, but it wasn't until I saw the film at the Amsterdam documentary i...</td>\n",
       "      <td>1</td>\n",
       "    </tr>\n",
       "    <tr>\n",
       "      <th>9</th>\n",
       "      <td>This movie is directed by Renny Harlin the finnish miracle. Stallone is Gabe Walker. Cat and Mouse on the mountains with ruthless terrorists. Renn...</td>\n",
       "      <td>1</td>\n",
       "    </tr>\n",
       "  </tbody>\n",
       "</table>\n",
       "</div>"
      ],
      "text/plain": [
       "                                                                                                                                                  review  \\\n",
       "0  In 1974, the teenager Martha Moxley (Maggie Grace) moves to the high-class area of Belle Haven, Greenwich, Connecticut. On the Mischief Night, eve...   \n",
       "1  OK... so... I really like Kris Kristofferson and his usual easy going delivery of lines in his movies. Age has helped him with his soft spoken low...   \n",
       "2  ***SPOILER*** Do not read this, if you think about watching that movie, although it would be a waste of time. (By the way: The plot is so predicta...   \n",
       "3  hi for all the people who have seen this wonderful movie im sure thet you would have liked it as much as i. i love the songs once you have seen th...   \n",
       "4  I recently bought the DVD, forgetting just how much I hated the movie version of \"A Chorus Line.\" Every change the director Attenborough made to t...   \n",
       "5  Leave it to Braik to put on a good show. Finally he and Zorak are living their own lives outside of Spac Ghost Coast To Coast. I have to say that ...   \n",
       "6  Nathan Detroit (Frank Sinatra) is the manager of the New York's longest- established floating craps game, and he needs $1000 to secure a new locat...   \n",
       "7  To understand \"Crash Course\" in the right context, you must understand the 80's in TV. Most TV shows didn't have any point. The sitcom outpopulate...   \n",
       "8  I've been impressed with Chavez's stance against globalisation for sometime now, but it wasn't until I saw the film at the Amsterdam documentary i...   \n",
       "9  This movie is directed by Renny Harlin the finnish miracle. Stallone is Gabe Walker. Cat and Mouse on the mountains with ruthless terrorists. Renn...   \n",
       "\n",
       "   sentiment  \n",
       "0          1  \n",
       "1          0  \n",
       "2          0  \n",
       "3          1  \n",
       "4          0  \n",
       "5          1  \n",
       "6          1  \n",
       "7          1  \n",
       "8          1  \n",
       "9          1  "
      ]
     },
     "execution_count": 16,
     "metadata": {},
     "output_type": "execute_result"
    }
   ],
   "source": [
    "print(df.shape)\n",
    "df.head(10)"
   ]
  },
  {
   "cell_type": "markdown",
   "id": "47a38075",
   "metadata": {
    "papermill": {
     "duration": 0.051682,
     "end_time": "2021-08-03T23:50:08.550067",
     "exception": false,
     "start_time": "2021-08-03T23:50:08.498385",
     "status": "completed"
    },
    "tags": []
   },
   "source": [
    "これに、先ほど作成したpreprocessor関数を適用する。<br>\n",
    "出力結果を確認すると、余計な文字や記号がなくなっていることが分かる。"
   ]
  },
  {
   "cell_type": "code",
   "execution_count": 17,
   "id": "421a909b",
   "metadata": {
    "execution": {
     "iopub.execute_input": "2021-08-03T23:50:08.654167Z",
     "iopub.status.busy": "2021-08-03T23:50:08.653417Z",
     "iopub.status.idle": "2021-08-03T23:50:16.985987Z",
     "shell.execute_reply": "2021-08-03T23:50:16.986429Z",
     "shell.execute_reply.started": "2021-08-03T23:43:46.621680Z"
    },
    "papermill": {
     "duration": 8.386762,
     "end_time": "2021-08-03T23:50:16.986581",
     "exception": false,
     "start_time": "2021-08-03T23:50:08.599819",
     "status": "completed"
    },
    "tags": []
   },
   "outputs": [
    {
     "data": {
      "text/html": [
       "<div>\n",
       "<style scoped>\n",
       "    .dataframe tbody tr th:only-of-type {\n",
       "        vertical-align: middle;\n",
       "    }\n",
       "\n",
       "    .dataframe tbody tr th {\n",
       "        vertical-align: top;\n",
       "    }\n",
       "\n",
       "    .dataframe thead th {\n",
       "        text-align: right;\n",
       "    }\n",
       "</style>\n",
       "<table border=\"1\" class=\"dataframe\">\n",
       "  <thead>\n",
       "    <tr style=\"text-align: right;\">\n",
       "      <th></th>\n",
       "      <th>review</th>\n",
       "      <th>sentiment</th>\n",
       "    </tr>\n",
       "  </thead>\n",
       "  <tbody>\n",
       "    <tr>\n",
       "      <th>0</th>\n",
       "      <td>in 1974 the teenager martha moxley maggie grace moves to the high class area of belle haven greenwich connecticut on the mischief night eve of hal...</td>\n",
       "      <td>1</td>\n",
       "    </tr>\n",
       "    <tr>\n",
       "      <th>1</th>\n",
       "      <td>ok so i really like kris kristofferson and his usual easy going delivery of lines in his movies age has helped him with his soft spoken low energy...</td>\n",
       "      <td>0</td>\n",
       "    </tr>\n",
       "    <tr>\n",
       "      <th>2</th>\n",
       "      <td>spoiler do not read this if you think about watching that movie although it would be a waste of time by the way the plot is so predictable that i...</td>\n",
       "      <td>0</td>\n",
       "    </tr>\n",
       "    <tr>\n",
       "      <th>3</th>\n",
       "      <td>hi for all the people who have seen this wonderful movie im sure thet you would have liked it as much as i i love the songs once you have seen the...</td>\n",
       "      <td>1</td>\n",
       "    </tr>\n",
       "    <tr>\n",
       "      <th>4</th>\n",
       "      <td>i recently bought the dvd forgetting just how much i hated the movie version of a chorus line every change the director attenborough made to the s...</td>\n",
       "      <td>0</td>\n",
       "    </tr>\n",
       "    <tr>\n",
       "      <th>5</th>\n",
       "      <td>leave it to braik to put on a good show finally he and zorak are living their own lives outside of spac ghost coast to coast i have to say that i ...</td>\n",
       "      <td>1</td>\n",
       "    </tr>\n",
       "    <tr>\n",
       "      <th>6</th>\n",
       "      <td>nathan detroit frank sinatra is the manager of the new york s longest established floating craps game and he needs 1000 to secure a new location c...</td>\n",
       "      <td>1</td>\n",
       "    </tr>\n",
       "    <tr>\n",
       "      <th>7</th>\n",
       "      <td>to understand crash course in the right context you must understand the 80 s in tv most tv shows didn t have any point the sitcom outpopulated the...</td>\n",
       "      <td>1</td>\n",
       "    </tr>\n",
       "    <tr>\n",
       "      <th>8</th>\n",
       "      <td>i ve been impressed with chavez s stance against globalisation for sometime now but it wasn t until i saw the film at the amsterdam documentary in...</td>\n",
       "      <td>1</td>\n",
       "    </tr>\n",
       "    <tr>\n",
       "      <th>9</th>\n",
       "      <td>this movie is directed by renny harlin the finnish miracle stallone is gabe walker cat and mouse on the mountains with ruthless terrorists renny h...</td>\n",
       "      <td>1</td>\n",
       "    </tr>\n",
       "  </tbody>\n",
       "</table>\n",
       "</div>"
      ],
      "text/plain": [
       "                                                                                                                                                  review  \\\n",
       "0  in 1974 the teenager martha moxley maggie grace moves to the high class area of belle haven greenwich connecticut on the mischief night eve of hal...   \n",
       "1  ok so i really like kris kristofferson and his usual easy going delivery of lines in his movies age has helped him with his soft spoken low energy...   \n",
       "2   spoiler do not read this if you think about watching that movie although it would be a waste of time by the way the plot is so predictable that i...   \n",
       "3  hi for all the people who have seen this wonderful movie im sure thet you would have liked it as much as i i love the songs once you have seen the...   \n",
       "4  i recently bought the dvd forgetting just how much i hated the movie version of a chorus line every change the director attenborough made to the s...   \n",
       "5  leave it to braik to put on a good show finally he and zorak are living their own lives outside of spac ghost coast to coast i have to say that i ...   \n",
       "6  nathan detroit frank sinatra is the manager of the new york s longest established floating craps game and he needs 1000 to secure a new location c...   \n",
       "7  to understand crash course in the right context you must understand the 80 s in tv most tv shows didn t have any point the sitcom outpopulated the...   \n",
       "8  i ve been impressed with chavez s stance against globalisation for sometime now but it wasn t until i saw the film at the amsterdam documentary in...   \n",
       "9  this movie is directed by renny harlin the finnish miracle stallone is gabe walker cat and mouse on the mountains with ruthless terrorists renny h...   \n",
       "\n",
       "   sentiment  \n",
       "0          1  \n",
       "1          0  \n",
       "2          0  \n",
       "3          1  \n",
       "4          0  \n",
       "5          1  \n",
       "6          1  \n",
       "7          1  \n",
       "8          1  \n",
       "9          1  "
      ]
     },
     "execution_count": 17,
     "metadata": {},
     "output_type": "execute_result"
    }
   ],
   "source": [
    "df['review'] = df['review'].apply(preprocessor)\n",
    "df.head(10)"
   ]
  },
  {
   "cell_type": "markdown",
   "id": "270a5c16",
   "metadata": {
    "papermill": {
     "duration": 0.049069,
     "end_time": "2021-08-03T23:50:17.085335",
     "exception": false,
     "start_time": "2021-08-03T23:50:17.036266",
     "status": "completed"
    },
    "tags": []
   },
   "source": [
    "## 5.　トークン化"
   ]
  },
  {
   "cell_type": "markdown",
   "id": "77c64ec3",
   "metadata": {
    "papermill": {
     "duration": 0.048968,
     "end_time": "2021-08-03T23:50:17.183348",
     "exception": false,
     "start_time": "2021-08-03T23:50:17.134380",
     "status": "completed"
    },
    "tags": []
   },
   "source": [
    "トークン化：文章を個々の単語に分割したり、変換したりすること<br>\n",
    "ワードステミング：単語を原形に変換すること　（例）running →　run　など\n",
    "\n",
    "ワードステミングは、PorterStemmerによって開発され、Porter stemmingアルゴリズムとも呼ばれる。<br>\n",
    "NLTKライブラリに実装されている。"
   ]
  },
  {
   "cell_type": "code",
   "execution_count": 18,
   "id": "69e36ad3",
   "metadata": {
    "execution": {
     "iopub.execute_input": "2021-08-03T23:50:17.286219Z",
     "iopub.status.busy": "2021-08-03T23:50:17.285601Z",
     "iopub.status.idle": "2021-08-03T23:50:17.289245Z",
     "shell.execute_reply": "2021-08-03T23:50:17.288793Z",
     "shell.execute_reply.started": "2021-08-03T23:43:56.128146Z"
    },
    "papermill": {
     "duration": 0.056979,
     "end_time": "2021-08-03T23:50:17.289349",
     "exception": false,
     "start_time": "2021-08-03T23:50:17.232370",
     "status": "completed"
    },
    "tags": []
   },
   "outputs": [],
   "source": [
    "porter = PorterStemmer()\n",
    "\n",
    "def tokenizer(text):\n",
    "    return text.split()\n",
    "\n",
    "def tokenizer_porter(text):\n",
    "    return [porter.stem(word) for word in text.split()]"
   ]
  },
  {
   "cell_type": "markdown",
   "id": "80d07250",
   "metadata": {
    "papermill": {
     "duration": 0.049045,
     "end_time": "2021-08-03T23:50:17.387433",
     "exception": false,
     "start_time": "2021-08-03T23:50:17.338388",
     "status": "completed"
    },
    "tags": []
   },
   "source": [
    "split()：文字を空白で分割<br>\n",
    "tokenizer_porter(text)：split()で分割した単語をfor文で1個ずつ取り出し、ワードステミングを実行\n",
    "\n",
    "ここで、トークン化とトークン化＋ワードワードステミングの結果を比較する。"
   ]
  },
  {
   "cell_type": "code",
   "execution_count": 19,
   "id": "9da5d83b",
   "metadata": {
    "execution": {
     "iopub.execute_input": "2021-08-03T23:50:17.490138Z",
     "iopub.status.busy": "2021-08-03T23:50:17.489605Z",
     "iopub.status.idle": "2021-08-03T23:50:17.494432Z",
     "shell.execute_reply": "2021-08-03T23:50:17.494978Z",
     "shell.execute_reply.started": "2021-08-03T23:43:56.136580Z"
    },
    "papermill": {
     "duration": 0.058686,
     "end_time": "2021-08-03T23:50:17.495164",
     "exception": false,
     "start_time": "2021-08-03T23:50:17.436478",
     "status": "completed"
    },
    "tags": []
   },
   "outputs": [
    {
     "name": "stdout",
     "output_type": "stream",
     "text": [
      "['runners', 'like', 'running', 'and', 'thus', 'they', 'run']\n",
      "['runner', 'like', 'run', 'and', 'thu', 'they', 'run']\n"
     ]
    }
   ],
   "source": [
    "print(tokenizer('runners like running and thus they run'))\n",
    "print(tokenizer_porter('runners like running and thus they run'))"
   ]
  },
  {
   "cell_type": "markdown",
   "id": "095399d8",
   "metadata": {
    "papermill": {
     "duration": 0.0492,
     "end_time": "2021-08-03T23:50:17.594567",
     "exception": false,
     "start_time": "2021-08-03T23:50:17.545367",
     "status": "completed"
    },
    "tags": []
   },
   "source": [
    "また、ストップワードの除去も行う。<br>\n",
    "こちらも、NLTKライブラリで実行することができる。\n",
    "\n",
    "まず、nltkに登録されているストップワードをダウンロードする。<br>\n",
    "その後、ストップワードでないものにtokenizer_porter()を適用し、単語wを抽出する。"
   ]
  },
  {
   "cell_type": "code",
   "execution_count": 20,
   "id": "43911903",
   "metadata": {
    "execution": {
     "iopub.execute_input": "2021-08-03T23:50:17.707088Z",
     "iopub.status.busy": "2021-08-03T23:50:17.706527Z",
     "iopub.status.idle": "2021-08-03T23:50:17.831895Z",
     "shell.execute_reply": "2021-08-03T23:50:17.832473Z",
     "shell.execute_reply.started": "2021-08-03T23:43:56.146914Z"
    },
    "papermill": {
     "duration": 0.188428,
     "end_time": "2021-08-03T23:50:17.832645",
     "exception": false,
     "start_time": "2021-08-03T23:50:17.644217",
     "status": "completed"
    },
    "tags": []
   },
   "outputs": [
    {
     "name": "stdout",
     "output_type": "stream",
     "text": [
      "[nltk_data] Downloading package stopwords to /usr/share/nltk_data...\n",
      "[nltk_data]   Package stopwords is already up-to-date!\n"
     ]
    },
    {
     "data": {
      "text/plain": [
       "['runner', 'like', 'run', 'run', 'lot']"
      ]
     },
     "execution_count": 20,
     "metadata": {},
     "output_type": "execute_result"
    }
   ],
   "source": [
    "nltk.download('stopwords')\n",
    "\n",
    "stop = stopwords.words('english')\n",
    "[w for w in tokenizer_porter('a runner likes running and runs a lot')[-10:] if w not in stop]"
   ]
  },
  {
   "cell_type": "markdown",
   "id": "7e9b6cdc",
   "metadata": {
    "papermill": {
     "duration": 0.050757,
     "end_time": "2021-08-03T23:50:17.933848",
     "exception": false,
     "start_time": "2021-08-03T23:50:17.883091",
     "status": "completed"
    },
    "tags": []
   },
   "source": [
    "## 6.　ロジスティック回帰による文書の分類"
   ]
  },
  {
   "cell_type": "markdown",
   "id": "fd4a1c4b",
   "metadata": {
    "papermill": {
     "duration": 0.049803,
     "end_time": "2021-08-03T23:50:18.034162",
     "exception": false,
     "start_time": "2021-08-03T23:50:17.984359",
     "status": "completed"
    },
    "tags": []
   },
   "source": [
    "ロジスティック回帰を用いて、下記に分類する。\n",
    "\n",
    "1：肯定的なレビュー（面白かった など）<br>\n",
    "0：否定的なレビュー（つまなかった など）\n",
    "\n",
    "まず、クレンジングしたテキストのDataframeを、訓練データとテストデータに分割する。"
   ]
  },
  {
   "cell_type": "code",
   "execution_count": 21,
   "id": "80f31fc7",
   "metadata": {
    "execution": {
     "iopub.execute_input": "2021-08-03T23:50:18.143771Z",
     "iopub.status.busy": "2021-08-03T23:50:18.142881Z",
     "iopub.status.idle": "2021-08-03T23:50:18.148029Z",
     "shell.execute_reply": "2021-08-03T23:50:18.148625Z",
     "shell.execute_reply.started": "2021-08-03T23:43:56.234664Z"
    },
    "papermill": {
     "duration": 0.064346,
     "end_time": "2021-08-03T23:50:18.148793",
     "exception": false,
     "start_time": "2021-08-03T23:50:18.084447",
     "status": "completed"
    },
    "tags": []
   },
   "outputs": [
    {
     "name": "stdout",
     "output_type": "stream",
     "text": [
      "(50000, 2)\n"
     ]
    },
    {
     "data": {
      "text/html": [
       "<div>\n",
       "<style scoped>\n",
       "    .dataframe tbody tr th:only-of-type {\n",
       "        vertical-align: middle;\n",
       "    }\n",
       "\n",
       "    .dataframe tbody tr th {\n",
       "        vertical-align: top;\n",
       "    }\n",
       "\n",
       "    .dataframe thead th {\n",
       "        text-align: right;\n",
       "    }\n",
       "</style>\n",
       "<table border=\"1\" class=\"dataframe\">\n",
       "  <thead>\n",
       "    <tr style=\"text-align: right;\">\n",
       "      <th></th>\n",
       "      <th>review</th>\n",
       "      <th>sentiment</th>\n",
       "    </tr>\n",
       "  </thead>\n",
       "  <tbody>\n",
       "    <tr>\n",
       "      <th>0</th>\n",
       "      <td>in 1974 the teenager martha moxley maggie grace moves to the high class area of belle haven greenwich connecticut on the mischief night eve of hal...</td>\n",
       "      <td>1</td>\n",
       "    </tr>\n",
       "    <tr>\n",
       "      <th>1</th>\n",
       "      <td>ok so i really like kris kristofferson and his usual easy going delivery of lines in his movies age has helped him with his soft spoken low energy...</td>\n",
       "      <td>0</td>\n",
       "    </tr>\n",
       "    <tr>\n",
       "      <th>2</th>\n",
       "      <td>spoiler do not read this if you think about watching that movie although it would be a waste of time by the way the plot is so predictable that i...</td>\n",
       "      <td>0</td>\n",
       "    </tr>\n",
       "    <tr>\n",
       "      <th>3</th>\n",
       "      <td>hi for all the people who have seen this wonderful movie im sure thet you would have liked it as much as i i love the songs once you have seen the...</td>\n",
       "      <td>1</td>\n",
       "    </tr>\n",
       "    <tr>\n",
       "      <th>4</th>\n",
       "      <td>i recently bought the dvd forgetting just how much i hated the movie version of a chorus line every change the director attenborough made to the s...</td>\n",
       "      <td>0</td>\n",
       "    </tr>\n",
       "    <tr>\n",
       "      <th>5</th>\n",
       "      <td>leave it to braik to put on a good show finally he and zorak are living their own lives outside of spac ghost coast to coast i have to say that i ...</td>\n",
       "      <td>1</td>\n",
       "    </tr>\n",
       "    <tr>\n",
       "      <th>6</th>\n",
       "      <td>nathan detroit frank sinatra is the manager of the new york s longest established floating craps game and he needs 1000 to secure a new location c...</td>\n",
       "      <td>1</td>\n",
       "    </tr>\n",
       "    <tr>\n",
       "      <th>7</th>\n",
       "      <td>to understand crash course in the right context you must understand the 80 s in tv most tv shows didn t have any point the sitcom outpopulated the...</td>\n",
       "      <td>1</td>\n",
       "    </tr>\n",
       "    <tr>\n",
       "      <th>8</th>\n",
       "      <td>i ve been impressed with chavez s stance against globalisation for sometime now but it wasn t until i saw the film at the amsterdam documentary in...</td>\n",
       "      <td>1</td>\n",
       "    </tr>\n",
       "    <tr>\n",
       "      <th>9</th>\n",
       "      <td>this movie is directed by renny harlin the finnish miracle stallone is gabe walker cat and mouse on the mountains with ruthless terrorists renny h...</td>\n",
       "      <td>1</td>\n",
       "    </tr>\n",
       "  </tbody>\n",
       "</table>\n",
       "</div>"
      ],
      "text/plain": [
       "                                                                                                                                                  review  \\\n",
       "0  in 1974 the teenager martha moxley maggie grace moves to the high class area of belle haven greenwich connecticut on the mischief night eve of hal...   \n",
       "1  ok so i really like kris kristofferson and his usual easy going delivery of lines in his movies age has helped him with his soft spoken low energy...   \n",
       "2   spoiler do not read this if you think about watching that movie although it would be a waste of time by the way the plot is so predictable that i...   \n",
       "3  hi for all the people who have seen this wonderful movie im sure thet you would have liked it as much as i i love the songs once you have seen the...   \n",
       "4  i recently bought the dvd forgetting just how much i hated the movie version of a chorus line every change the director attenborough made to the s...   \n",
       "5  leave it to braik to put on a good show finally he and zorak are living their own lives outside of spac ghost coast to coast i have to say that i ...   \n",
       "6  nathan detroit frank sinatra is the manager of the new york s longest established floating craps game and he needs 1000 to secure a new location c...   \n",
       "7  to understand crash course in the right context you must understand the 80 s in tv most tv shows didn t have any point the sitcom outpopulated the...   \n",
       "8  i ve been impressed with chavez s stance against globalisation for sometime now but it wasn t until i saw the film at the amsterdam documentary in...   \n",
       "9  this movie is directed by renny harlin the finnish miracle stallone is gabe walker cat and mouse on the mountains with ruthless terrorists renny h...   \n",
       "\n",
       "   sentiment  \n",
       "0          1  \n",
       "1          0  \n",
       "2          0  \n",
       "3          1  \n",
       "4          0  \n",
       "5          1  \n",
       "6          1  \n",
       "7          1  \n",
       "8          1  \n",
       "9          1  "
      ]
     },
     "execution_count": 21,
     "metadata": {},
     "output_type": "execute_result"
    }
   ],
   "source": [
    "print(df.shape)\n",
    "df.head(10)"
   ]
  },
  {
   "cell_type": "code",
   "execution_count": 22,
   "id": "3dc08f3f",
   "metadata": {
    "execution": {
     "iopub.execute_input": "2021-08-03T23:50:18.257549Z",
     "iopub.status.busy": "2021-08-03T23:50:18.256697Z",
     "iopub.status.idle": "2021-08-03T23:50:18.259841Z",
     "shell.execute_reply": "2021-08-03T23:50:18.259246Z",
     "shell.execute_reply.started": "2021-08-03T23:43:56.251116Z"
    },
    "papermill": {
     "duration": 0.058464,
     "end_time": "2021-08-03T23:50:18.259939",
     "exception": false,
     "start_time": "2021-08-03T23:50:18.201475",
     "status": "completed"
    },
    "tags": []
   },
   "outputs": [],
   "source": [
    "X_train = df.loc[:25000, 'review'].values\n",
    "y_train = df.loc[:25000, 'sentiment'].values\n",
    "X_test = df.loc[25000:, 'review'].values\n",
    "y_test = df.loc[25000:, 'sentiment'].values"
   ]
  },
  {
   "cell_type": "markdown",
   "id": "8dcf5de6",
   "metadata": {
    "papermill": {
     "duration": 0.05073,
     "end_time": "2021-08-03T23:50:18.361512",
     "exception": false,
     "start_time": "2021-08-03T23:50:18.310782",
     "status": "completed"
    },
    "tags": []
   },
   "source": [
    "次に、GridSearchCVを使って、最適なパラメーター集合を求める。<br>\n",
    "ここでは、5分割交差検証を使用する。"
   ]
  },
  {
   "cell_type": "code",
   "execution_count": 23,
   "id": "7206802e",
   "metadata": {
    "execution": {
     "iopub.execute_input": "2021-08-03T23:50:18.468942Z",
     "iopub.status.busy": "2021-08-03T23:50:18.468188Z",
     "iopub.status.idle": "2021-08-03T23:50:18.470422Z",
     "shell.execute_reply": "2021-08-03T23:50:18.470831Z",
     "shell.execute_reply.started": "2021-08-03T23:43:56.263149Z"
    },
    "papermill": {
     "duration": 0.058698,
     "end_time": "2021-08-03T23:50:18.470947",
     "exception": false,
     "start_time": "2021-08-03T23:50:18.412249",
     "status": "completed"
    },
    "tags": []
   },
   "outputs": [],
   "source": [
    "param_grid = [\n",
    "              {'vect__ngram_range': [(1, 1)],\n",
    "               'vect__stop_words': [stop, None],\n",
    "               'vect__tokenizer': [tokenizer, tokenizer_porter],\n",
    "               'clf__penalty': ['l1', 'l2'],\n",
    "               'clf__C': [1.0, 10.0, 100.0]},\n",
    "              \n",
    "              {'vect__ngram_range': [(1, 1)],\n",
    "               'vect__stop_words': [stop, None],\n",
    "               'vect__tokenizer': [tokenizer, tokenizer_porter],\n",
    "               'vect__use_idf':[False],\n",
    "               'vect__norm':[None],\n",
    "               'clf__penalty': ['l1', 'l2'],\n",
    "               'clf__C': [1.0, 10.0, 100.0]},\n",
    "    \n",
    "              ]"
   ]
  },
  {
   "cell_type": "markdown",
   "id": "06fd2120",
   "metadata": {
    "papermill": {
     "duration": 0.050821,
     "end_time": "2021-08-03T23:50:18.572967",
     "exception": false,
     "start_time": "2021-08-03T23:50:18.522146",
     "status": "completed"
    },
    "tags": []
   },
   "source": [
    "Pipelineで、TfidfVectorizer()とLogisticRegression()をセットにする。"
   ]
  },
  {
   "cell_type": "code",
   "execution_count": 24,
   "id": "ad0f5216",
   "metadata": {
    "execution": {
     "iopub.execute_input": "2021-08-03T23:50:18.680639Z",
     "iopub.status.busy": "2021-08-03T23:50:18.679717Z",
     "iopub.status.idle": "2021-08-03T23:50:18.681921Z",
     "shell.execute_reply": "2021-08-03T23:50:18.682442Z",
     "shell.execute_reply.started": "2021-08-03T23:43:56.272639Z"
    },
    "papermill": {
     "duration": 0.058278,
     "end_time": "2021-08-03T23:50:18.682572",
     "exception": false,
     "start_time": "2021-08-03T23:50:18.624294",
     "status": "completed"
    },
    "tags": []
   },
   "outputs": [],
   "source": [
    "tfidf = TfidfVectorizer(strip_accents=None, lowercase=False, preprocessor=None)\n",
    "logreg = LogisticRegression(random_state=0)\n",
    "\n",
    "lr_tfidf = Pipeline([('vect', tfidf), ('clf', logreg)])"
   ]
  },
  {
   "cell_type": "code",
   "execution_count": 25,
   "id": "48c0a64b",
   "metadata": {
    "execution": {
     "iopub.execute_input": "2021-08-03T23:50:18.788410Z",
     "iopub.status.busy": "2021-08-03T23:50:18.787714Z",
     "iopub.status.idle": "2021-08-03T23:50:18.790502Z",
     "shell.execute_reply": "2021-08-03T23:50:18.790056Z",
     "shell.execute_reply.started": "2021-08-03T23:43:56.281661Z"
    },
    "papermill": {
     "duration": 0.057035,
     "end_time": "2021-08-03T23:50:18.790603",
     "exception": false,
     "start_time": "2021-08-03T23:50:18.733568",
     "status": "completed"
    },
    "tags": []
   },
   "outputs": [],
   "source": [
    "gs_lr_tfidf = GridSearchCV(lr_tfidf, param_grid,\n",
    "                           scoring='accuracy',\n",
    "                           cv=5,\n",
    "                           verbose=1,\n",
    "                           n_jobs=-1)"
   ]
  },
  {
   "cell_type": "markdown",
   "id": "c4361053",
   "metadata": {
    "papermill": {
     "duration": 0.05028,
     "end_time": "2021-08-03T23:50:18.891628",
     "exception": false,
     "start_time": "2021-08-03T23:50:18.841348",
     "status": "completed"
    },
    "tags": []
   },
   "source": [
    "scoring：評価指標（初期値はNone、分類なら正解率、回帰ならMSE など）<br>\n",
    "verbose：途中経過を詳細に出力（初期値はTrue）<br>\n",
    "n_jobs：並列実行数（初期値は1）"
   ]
  },
  {
   "cell_type": "code",
   "execution_count": 26,
   "id": "cd4e0103",
   "metadata": {
    "execution": {
     "iopub.execute_input": "2021-08-03T23:50:18.998074Z",
     "iopub.status.busy": "2021-08-03T23:50:18.997342Z",
     "iopub.status.idle": "2021-08-03T23:50:19.000120Z",
     "shell.execute_reply": "2021-08-03T23:50:18.999569Z",
     "shell.execute_reply.started": "2021-08-03T23:43:56.289901Z"
    },
    "papermill": {
     "duration": 0.057318,
     "end_time": "2021-08-03T23:50:19.000228",
     "exception": false,
     "start_time": "2021-08-03T23:50:18.942910",
     "status": "completed"
    },
    "tags": []
   },
   "outputs": [],
   "source": [
    "if 'TRAVIS' in os.environ:\n",
    "    gs_lr_tfidf.verbose=2\n",
    "\n",
    "    X_train = df.loc[:250, 'review'].values\n",
    "    y_train = df.loc[:250, 'sentiment'].values\n",
    "    X_test = df.loc[25000:25250, 'review'].values\n",
    "    y_test = df.loc[25000:25250, 'sentiment'].values"
   ]
  },
  {
   "cell_type": "markdown",
   "id": "681da922",
   "metadata": {
    "papermill": {
     "duration": 0.050739,
     "end_time": "2021-08-03T23:50:19.101789",
     "exception": false,
     "start_time": "2021-08-03T23:50:19.051050",
     "status": "completed"
    },
    "tags": []
   },
   "source": [
    "verbose: 0は標準出力にログを出力しない、1はログをプログレスバーで標準出力，2はエポックごとに1行のログを出力"
   ]
  },
  {
   "cell_type": "code",
   "execution_count": 27,
   "id": "e1f1d94d",
   "metadata": {
    "_kg_hide-output": true,
    "execution": {
     "iopub.execute_input": "2021-08-03T23:50:19.207735Z",
     "iopub.status.busy": "2021-08-03T23:50:19.206959Z",
     "iopub.status.idle": "2021-08-04T02:55:00.579224Z",
     "shell.execute_reply": "2021-08-04T02:55:00.580627Z",
     "shell.execute_reply.started": "2021-08-03T23:43:56.300045Z"
    },
    "papermill": {
     "duration": 11081.428241,
     "end_time": "2021-08-04T02:55:00.580891",
     "exception": false,
     "start_time": "2021-08-03T23:50:19.152650",
     "status": "completed"
    },
    "tags": []
   },
   "outputs": [
    {
     "name": "stdout",
     "output_type": "stream",
     "text": [
      "Fitting 5 folds for each of 48 candidates, totalling 240 fits\n"
     ]
    },
    {
     "name": "stderr",
     "output_type": "stream",
     "text": [
      "[Parallel(n_jobs=-1)]: Using backend LokyBackend with 2 concurrent workers.\n",
      "[Parallel(n_jobs=-1)]: Done  46 tasks      | elapsed: 36.3min\n",
      "[Parallel(n_jobs=-1)]: Done 196 tasks      | elapsed: 149.6min\n",
      "[Parallel(n_jobs=-1)]: Done 240 out of 240 | elapsed: 184.6min finished\n"
     ]
    },
    {
     "data": {
      "text/plain": [
       "GridSearchCV(cv=5,\n",
       "             estimator=Pipeline(steps=[('vect',\n",
       "                                        TfidfVectorizer(lowercase=False)),\n",
       "                                       ('clf',\n",
       "                                        LogisticRegression(random_state=0))]),\n",
       "             n_jobs=-1,\n",
       "             param_grid=[{'clf__C': [1.0, 10.0, 100.0],\n",
       "                          'clf__penalty': ['l1', 'l2'],\n",
       "                          'vect__ngram_range': [(1, 1)],\n",
       "                          'vect__stop_words': [['i', 'me', 'my', 'myself', 'we',\n",
       "                                                'our', 'ours', 'ourselves',\n",
       "                                                'you', \"you're\", \"you've\",\n",
       "                                                \"you'll\", \"you'd\",...\n",
       "                                                'our', 'ours', 'ourselves',\n",
       "                                                'you', \"you're\", \"you've\",\n",
       "                                                \"you'll\", \"you'd\", 'your',\n",
       "                                                'yours', 'yourself',\n",
       "                                                'yourselves', 'he', 'him',\n",
       "                                                'his', 'himself', 'she',\n",
       "                                                \"she's\", 'her', 'hers',\n",
       "                                                'herself', 'it', \"it's\", 'its',\n",
       "                                                'itself', ...],\n",
       "                                               None],\n",
       "                          'vect__tokenizer': [<function tokenizer at 0x7fd48d6a4680>,\n",
       "                                              <function tokenizer_porter at 0x7fd48d6a4b90>],\n",
       "                          'vect__use_idf': [False]}],\n",
       "             scoring='accuracy', verbose=1)"
      ]
     },
     "execution_count": 27,
     "metadata": {},
     "output_type": "execute_result"
    }
   ],
   "source": [
    "gs_lr_tfidf.fit(X_train, y_train)"
   ]
  },
  {
   "cell_type": "markdown",
   "id": "c67446b0",
   "metadata": {
    "papermill": {
     "duration": 0.087559,
     "end_time": "2021-08-04T02:55:00.779578",
     "exception": false,
     "start_time": "2021-08-04T02:55:00.692019",
     "status": "completed"
    },
    "tags": []
   },
   "source": [
    "グリッドサーチが完了した後、性能指標が最も高くなるパラメータセットを出力する。"
   ]
  },
  {
   "cell_type": "code",
   "execution_count": 28,
   "id": "0ca8a26e",
   "metadata": {
    "_kg_hide-output": true,
    "execution": {
     "iopub.execute_input": "2021-08-04T02:55:00.961130Z",
     "iopub.status.busy": "2021-08-04T02:55:00.960270Z",
     "iopub.status.idle": "2021-08-04T02:55:00.964103Z",
     "shell.execute_reply": "2021-08-04T02:55:00.961844Z"
    },
    "papermill": {
     "duration": 0.097545,
     "end_time": "2021-08-04T02:55:00.964267",
     "exception": false,
     "start_time": "2021-08-04T02:55:00.866722",
     "status": "completed"
    },
    "tags": []
   },
   "outputs": [
    {
     "name": "stdout",
     "output_type": "stream",
     "text": [
      "Best parameter set: {'clf__C': 1.0, 'clf__penalty': 'l2', 'vect__ngram_range': (1, 1), 'vect__stop_words': ['i', 'me', 'my', 'myself', 'we', 'our', 'ours', 'ourselves', 'you', \"you're\", \"you've\", \"you'll\", \"you'd\", 'your', 'yours', 'yourself', 'yourselves', 'he', 'him', 'his', 'himself', 'she', \"she's\", 'her', 'hers', 'herself', 'it', \"it's\", 'its', 'itself', 'they', 'them', 'their', 'theirs', 'themselves', 'what', 'which', 'who', 'whom', 'this', 'that', \"that'll\", 'these', 'those', 'am', 'is', 'are', 'was', 'were', 'be', 'been', 'being', 'have', 'has', 'had', 'having', 'do', 'does', 'did', 'doing', 'a', 'an', 'the', 'and', 'but', 'if', 'or', 'because', 'as', 'until', 'while', 'of', 'at', 'by', 'for', 'with', 'about', 'against', 'between', 'into', 'through', 'during', 'before', 'after', 'above', 'below', 'to', 'from', 'up', 'down', 'in', 'out', 'on', 'off', 'over', 'under', 'again', 'further', 'then', 'once', 'here', 'there', 'when', 'where', 'why', 'how', 'all', 'any', 'both', 'each', 'few', 'more', 'most', 'other', 'some', 'such', 'no', 'nor', 'not', 'only', 'own', 'same', 'so', 'than', 'too', 'very', 's', 't', 'can', 'will', 'just', 'don', \"don't\", 'should', \"should've\", 'now', 'd', 'll', 'm', 'o', 're', 've', 'y', 'ain', 'aren', \"aren't\", 'couldn', \"couldn't\", 'didn', \"didn't\", 'doesn', \"doesn't\", 'hadn', \"hadn't\", 'hasn', \"hasn't\", 'haven', \"haven't\", 'isn', \"isn't\", 'ma', 'mightn', \"mightn't\", 'mustn', \"mustn't\", 'needn', \"needn't\", 'shan', \"shan't\", 'shouldn', \"shouldn't\", 'wasn', \"wasn't\", 'weren', \"weren't\", 'won', \"won't\", 'wouldn', \"wouldn't\"], 'vect__tokenizer': <function tokenizer at 0x7fd48d6a4680>} \n"
     ]
    }
   ],
   "source": [
    "print('Best parameter set: %s ' % gs_lr_tfidf.best_params_)"
   ]
  },
  {
   "cell_type": "code",
   "execution_count": 29,
   "id": "693dd533",
   "metadata": {
    "_kg_hide-output": true,
    "execution": {
     "iopub.execute_input": "2021-08-04T02:55:01.145246Z",
     "iopub.status.busy": "2021-08-04T02:55:01.144280Z",
     "iopub.status.idle": "2021-08-04T02:55:01.156061Z",
     "shell.execute_reply": "2021-08-04T02:55:01.155413Z"
    },
    "papermill": {
     "duration": 0.105793,
     "end_time": "2021-08-04T02:55:01.156218",
     "exception": false,
     "start_time": "2021-08-04T02:55:01.050425",
     "status": "completed"
    },
    "tags": []
   },
   "outputs": [
    {
     "name": "stdout",
     "output_type": "stream",
     "text": [
      "Pipeline(steps=[('vect',\n",
      "                 TfidfVectorizer(lowercase=False,\n",
      "                                 stop_words=['i', 'me', 'my', 'myself', 'we',\n",
      "                                             'our', 'ours', 'ourselves', 'you',\n",
      "                                             \"you're\", \"you've\", \"you'll\",\n",
      "                                             \"you'd\", 'your', 'yours',\n",
      "                                             'yourself', 'yourselves', 'he',\n",
      "                                             'him', 'his', 'himself', 'she',\n",
      "                                             \"she's\", 'her', 'hers', 'herself',\n",
      "                                             'it', \"it's\", 'its', 'itself', ...],\n",
      "                                 tokenizer=<function tokenizer at 0x7fd48d6a4680>)),\n",
      "                ('clf', LogisticRegression(random_state=0))])\n"
     ]
    }
   ],
   "source": [
    "print(gs_lr_tfidf.best_estimator_)"
   ]
  },
  {
   "cell_type": "code",
   "execution_count": 30,
   "id": "affc30cd",
   "metadata": {
    "execution": {
     "iopub.execute_input": "2021-08-04T02:55:01.270657Z",
     "iopub.status.busy": "2021-08-04T02:55:01.270115Z",
     "iopub.status.idle": "2021-08-04T02:55:01.273497Z",
     "shell.execute_reply": "2021-08-04T02:55:01.274100Z"
    },
    "papermill": {
     "duration": 0.062051,
     "end_time": "2021-08-04T02:55:01.274270",
     "exception": false,
     "start_time": "2021-08-04T02:55:01.212219",
     "status": "completed"
    },
    "tags": []
   },
   "outputs": [
    {
     "name": "stdout",
     "output_type": "stream",
     "text": [
      "CV Accuracy: 0.889\n"
     ]
    }
   ],
   "source": [
    "print('CV Accuracy: %.3f' % gs_lr_tfidf.best_score_)"
   ]
  },
  {
   "cell_type": "markdown",
   "id": "005698a9",
   "metadata": {
    "papermill": {
     "duration": 0.054429,
     "end_time": "2021-08-04T02:55:01.383491",
     "exception": false,
     "start_time": "2021-08-04T02:55:01.329062",
     "status": "completed"
    },
    "tags": []
   },
   "source": [
    "よって、「C=10のときに、ロジスティック回帰とTF-IDFを組み合わせることで、性能指標が最も高くなる」ことが分かった。"
   ]
  },
  {
   "cell_type": "code",
   "execution_count": 31,
   "id": "edd2ef0b",
   "metadata": {
    "execution": {
     "iopub.execute_input": "2021-08-04T02:55:01.539846Z",
     "iopub.status.busy": "2021-08-04T02:55:01.529548Z",
     "iopub.status.idle": "2021-08-04T02:55:04.098855Z",
     "shell.execute_reply": "2021-08-04T02:55:04.099293Z"
    },
    "papermill": {
     "duration": 2.661994,
     "end_time": "2021-08-04T02:55:04.099441",
     "exception": false,
     "start_time": "2021-08-04T02:55:01.437447",
     "status": "completed"
    },
    "tags": []
   },
   "outputs": [
    {
     "name": "stdout",
     "output_type": "stream",
     "text": [
      "[0 1 1 0 0 1 0 1 1 0]\n"
     ]
    }
   ],
   "source": [
    "clf = gs_lr_tfidf.best_estimator_\n",
    "\n",
    "y_pred = clf.predict(X_test)\n",
    "print(y_pred[:10])"
   ]
  },
  {
   "cell_type": "code",
   "execution_count": 32,
   "id": "6e79d146",
   "metadata": {
    "execution": {
     "iopub.execute_input": "2021-08-04T02:55:04.220594Z",
     "iopub.status.busy": "2021-08-04T02:55:04.214215Z",
     "iopub.status.idle": "2021-08-04T02:55:04.224336Z",
     "shell.execute_reply": "2021-08-04T02:55:04.223913Z"
    },
    "papermill": {
     "duration": 0.06993,
     "end_time": "2021-08-04T02:55:04.224446",
     "exception": false,
     "start_time": "2021-08-04T02:55:04.154516",
     "status": "completed"
    },
    "tags": []
   },
   "outputs": [
    {
     "data": {
      "text/html": [
       "<div>\n",
       "<style scoped>\n",
       "    .dataframe tbody tr th:only-of-type {\n",
       "        vertical-align: middle;\n",
       "    }\n",
       "\n",
       "    .dataframe tbody tr th {\n",
       "        vertical-align: top;\n",
       "    }\n",
       "\n",
       "    .dataframe thead th {\n",
       "        text-align: right;\n",
       "    }\n",
       "</style>\n",
       "<table border=\"1\" class=\"dataframe\">\n",
       "  <thead>\n",
       "    <tr style=\"text-align: right;\">\n",
       "      <th></th>\n",
       "      <th>review</th>\n",
       "      <th>prediction</th>\n",
       "      <th>answer</th>\n",
       "    </tr>\n",
       "  </thead>\n",
       "  <tbody>\n",
       "    <tr>\n",
       "      <th>0</th>\n",
       "      <td>there s a part of me that would like to give this movie a high rating considering that it was made in 1953 this is a very courageous movie about t...</td>\n",
       "      <td>0</td>\n",
       "      <td>0</td>\n",
       "    </tr>\n",
       "    <tr>\n",
       "      <th>1</th>\n",
       "      <td>excellent and moving story of the end of a uniquely intimate affair then again the point of the film to paraphrase another comment is that every r...</td>\n",
       "      <td>1</td>\n",
       "      <td>1</td>\n",
       "    </tr>\n",
       "    <tr>\n",
       "      <th>2</th>\n",
       "      <td>surprisingly well acted well written movie about hard rockin but decent young man getting that much hoped for ticket to stardom his favorite heavy...</td>\n",
       "      <td>1</td>\n",
       "      <td>1</td>\n",
       "    </tr>\n",
       "    <tr>\n",
       "      <th>3</th>\n",
       "      <td>what garbage is there actually no part ii if this movie actually ends the way it did everyone involved with this movie should be ashamed this movi...</td>\n",
       "      <td>0</td>\n",
       "      <td>0</td>\n",
       "    </tr>\n",
       "    <tr>\n",
       "      <th>4</th>\n",
       "      <td>basically this was obviously designed to be promotional material for the movie produced by the same horrible director which happens to be even wor...</td>\n",
       "      <td>0</td>\n",
       "      <td>0</td>\n",
       "    </tr>\n",
       "    <tr>\n",
       "      <th>5</th>\n",
       "      <td>robot jox doesn t suffer from story or bad effects i mean this was 1990 if you know what i m talking about robocop 2 still used the stop animation...</td>\n",
       "      <td>1</td>\n",
       "      <td>1</td>\n",
       "    </tr>\n",
       "    <tr>\n",
       "      <th>6</th>\n",
       "      <td>i m sorry to say this but the acting in this film is horrible the dialogue sounds as if they are reading their lines for the first time ever perha...</td>\n",
       "      <td>0</td>\n",
       "      <td>0</td>\n",
       "    </tr>\n",
       "    <tr>\n",
       "      <th>7</th>\n",
       "      <td>greystoke the legend of tarzan lord of the apes is based on the classic book tarzan of the apes by edgar rice burroughs and is a more faithful ada...</td>\n",
       "      <td>1</td>\n",
       "      <td>1</td>\n",
       "    </tr>\n",
       "    <tr>\n",
       "      <th>8</th>\n",
       "      <td>i searched for this movie for years apparently it ain t available here in the states so bought me a copy off ebay four young hunters and three of ...</td>\n",
       "      <td>1</td>\n",
       "      <td>1</td>\n",
       "    </tr>\n",
       "    <tr>\n",
       "      <th>9</th>\n",
       "      <td>once again disney manages to make a children s movie which totally ignores its background about the only thing common with this and the original g...</td>\n",
       "      <td>0</td>\n",
       "      <td>0</td>\n",
       "    </tr>\n",
       "  </tbody>\n",
       "</table>\n",
       "</div>"
      ],
      "text/plain": [
       "                                                                                                                                                  review  \\\n",
       "0  there s a part of me that would like to give this movie a high rating considering that it was made in 1953 this is a very courageous movie about t...   \n",
       "1  excellent and moving story of the end of a uniquely intimate affair then again the point of the film to paraphrase another comment is that every r...   \n",
       "2  surprisingly well acted well written movie about hard rockin but decent young man getting that much hoped for ticket to stardom his favorite heavy...   \n",
       "3  what garbage is there actually no part ii if this movie actually ends the way it did everyone involved with this movie should be ashamed this movi...   \n",
       "4  basically this was obviously designed to be promotional material for the movie produced by the same horrible director which happens to be even wor...   \n",
       "5  robot jox doesn t suffer from story or bad effects i mean this was 1990 if you know what i m talking about robocop 2 still used the stop animation...   \n",
       "6  i m sorry to say this but the acting in this film is horrible the dialogue sounds as if they are reading their lines for the first time ever perha...   \n",
       "7  greystoke the legend of tarzan lord of the apes is based on the classic book tarzan of the apes by edgar rice burroughs and is a more faithful ada...   \n",
       "8  i searched for this movie for years apparently it ain t available here in the states so bought me a copy off ebay four young hunters and three of ...   \n",
       "9  once again disney manages to make a children s movie which totally ignores its background about the only thing common with this and the original g...   \n",
       "\n",
       "   prediction  answer  \n",
       "0           0       0  \n",
       "1           1       1  \n",
       "2           1       1  \n",
       "3           0       0  \n",
       "4           0       0  \n",
       "5           1       1  \n",
       "6           0       0  \n",
       "7           1       1  \n",
       "8           1       1  \n",
       "9           0       0  "
      ]
     },
     "execution_count": 32,
     "metadata": {},
     "output_type": "execute_result"
    }
   ],
   "source": [
    "df = pd.DataFrame(X_test, columns=['review'])\n",
    "df['prediction'] = y_pred\n",
    "df['answer'] = y_test\n",
    "\n",
    "df.head(10)"
   ]
  },
  {
   "cell_type": "code",
   "execution_count": 33,
   "id": "e2c34e16",
   "metadata": {
    "execution": {
     "iopub.execute_input": "2021-08-04T02:55:04.360054Z",
     "iopub.status.busy": "2021-08-04T02:55:04.344630Z",
     "iopub.status.idle": "2021-08-04T02:55:06.938614Z",
     "shell.execute_reply": "2021-08-04T02:55:06.939364Z"
    },
    "papermill": {
     "duration": 2.661157,
     "end_time": "2021-08-04T02:55:06.939588",
     "exception": false,
     "start_time": "2021-08-04T02:55:04.278431",
     "status": "completed"
    },
    "tags": []
   },
   "outputs": [
    {
     "name": "stdout",
     "output_type": "stream",
     "text": [
      "Test Accuracy: 0.895\n"
     ]
    }
   ],
   "source": [
    "print('Test Accuracy: %.3f' % clf.score(X_test, y_test))"
   ]
  },
  {
   "cell_type": "markdown",
   "id": "240534b9",
   "metadata": {
    "papermill": {
     "duration": 0.054892,
     "end_time": "2021-08-04T02:55:07.051214",
     "exception": false,
     "start_time": "2021-08-04T02:55:06.996322",
     "status": "completed"
    },
    "tags": []
   },
   "source": [
    "今回作成した機械学習モデルでは、映画レビューのデータセットを投入したときに<br>\n",
    "各レビューが肯定的か否定的なのかを、約90%の精度で予測できることが分かった。"
   ]
  }
 ],
 "metadata": {
  "kernelspec": {
   "display_name": "Python 3",
   "language": "python",
   "name": "python3"
  },
  "language_info": {
   "codemirror_mode": {
    "name": "ipython",
    "version": 3
   },
   "file_extension": ".py",
   "mimetype": "text/x-python",
   "name": "python",
   "nbconvert_exporter": "python",
   "pygments_lexer": "ipython3",
   "version": "3.7.10"
  },
  "papermill": {
   "default_parameters": {},
   "duration": 11116.524547,
   "end_time": "2021-08-04T02:55:08.686297",
   "environment_variables": {},
   "exception": null,
   "input_path": "__notebook__.ipynb",
   "output_path": "__notebook__.ipynb",
   "parameters": {},
   "start_time": "2021-08-03T23:49:52.161750",
   "version": "2.3.3"
  }
 },
 "nbformat": 4,
 "nbformat_minor": 5
}
